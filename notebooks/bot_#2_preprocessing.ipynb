{
 "cells": [
  {
   "cell_type": "markdown",
   "id": "29aa11d7",
   "metadata": {},
   "source": [
    "# 2 - Pre processing des données"
   ]
  },
  {
   "cell_type": "code",
   "execution_count": 38,
   "id": "bf1427df",
   "metadata": {},
   "outputs": [],
   "source": [
    "# Import des bibliothèques\n",
    "\n",
    "import pandas as pd\n",
    "import numpy as np\n",
    "import dateparser\n",
    "\n",
    "import requests\n",
    "from bs4 import BeautifulSoup\n",
    "\n",
    "import seaborn as sns\n",
    "import matplotlib.pyplot as plt\n",
    "import plotly.express as px\n",
    "\n",
    "from wordcloud import WordCloud\n",
    "from nltk.corpus import stopwords\n",
    "import nltk\n",
    "import re\n",
    "\n",
    "import spacy\n",
    "from sklearn.feature_extraction.text import TfidfVectorizer\n",
    "from gensim.models import Word2Vec\n",
    "from nltk.tokenize import word_tokenize"
   ]
  },
  {
   "cell_type": "markdown",
   "id": "dbb8993b",
   "metadata": {},
   "source": [
    "## 2-1 Nettoyage des données "
   ]
  },
  {
   "cell_type": "code",
   "execution_count": 55,
   "id": "32f06494",
   "metadata": {},
   "outputs": [
    {
     "data": {
      "text/html": [
       "<div>\n",
       "<style scoped>\n",
       "    .dataframe tbody tr th:only-of-type {\n",
       "        vertical-align: middle;\n",
       "    }\n",
       "\n",
       "    .dataframe tbody tr th {\n",
       "        vertical-align: top;\n",
       "    }\n",
       "\n",
       "    .dataframe thead th {\n",
       "        text-align: right;\n",
       "    }\n",
       "</style>\n",
       "<table border=\"1\" class=\"dataframe\">\n",
       "  <thead>\n",
       "    <tr style=\"text-align: right;\">\n",
       "      <th></th>\n",
       "      <th>Titre</th>\n",
       "      <th>Chapitre</th>\n",
       "      <th>Section</th>\n",
       "      <th>Article</th>\n",
       "      <th>Décret</th>\n",
       "      <th>Contenu</th>\n",
       "      <th>Numéro Décret</th>\n",
       "      <th>Date decret</th>\n",
       "      <th>Annee decret</th>\n",
       "    </tr>\n",
       "  </thead>\n",
       "  <tbody>\n",
       "    <tr>\n",
       "      <th>0</th>\n",
       "      <td>Titre Ier : Obligations du maître d'ouvrage po...</td>\n",
       "      <td>Chapitre Ier : Principes généraux (Articles R4...</td>\n",
       "      <td>Section 1 : Champ d'application et définitions...</td>\n",
       "      <td>Article R4211-1</td>\n",
       "      <td>Création Décret n°2008-244 du 7 mars 2008 - ar...</td>\n",
       "      <td>Les dispositions du présent titre déterminent,...</td>\n",
       "      <td>2008-244</td>\n",
       "      <td>2008-03-07</td>\n",
       "      <td>2008</td>\n",
       "    </tr>\n",
       "    <tr>\n",
       "      <th>1</th>\n",
       "      <td>Titre Ier : Obligations du maître d'ouvrage po...</td>\n",
       "      <td>Chapitre Ier : Principes généraux (Articles R4...</td>\n",
       "      <td>Section 1 : Champ d'application et définitions...</td>\n",
       "      <td>Article R4211-2</td>\n",
       "      <td>Création Décret n°2008-244 du 7 mars 2008 - ar...</td>\n",
       "      <td>Pour l'application du présent titre, on entend...</td>\n",
       "      <td>2008-244</td>\n",
       "      <td>2008-03-07</td>\n",
       "      <td>2008</td>\n",
       "    </tr>\n",
       "    <tr>\n",
       "      <th>2</th>\n",
       "      <td>Titre Ier : Obligations du maître d'ouvrage po...</td>\n",
       "      <td>Chapitre Ier : Principes généraux (Articles R4...</td>\n",
       "      <td>Section 2 : Dossier de maintenance (Articles R...</td>\n",
       "      <td>Article R4211-3</td>\n",
       "      <td>Modifié par Décret n°2011-1461\\n du 7 novembre...</td>\n",
       "      <td>Le maître d'ouvrage élabore et transmet aux ut...</td>\n",
       "      <td>2011-1461</td>\n",
       "      <td>2011-11-07</td>\n",
       "      <td>2011</td>\n",
       "    </tr>\n",
       "    <tr>\n",
       "      <th>3</th>\n",
       "      <td>Titre Ier : Obligations du maître d'ouvrage po...</td>\n",
       "      <td>Chapitre Ier : Principes généraux (Articles R4...</td>\n",
       "      <td>Section 2 : Dossier de maintenance (Articles R...</td>\n",
       "      <td>Article R4211-4</td>\n",
       "      <td>Création Décret n°2008-244 du 7 mars 2008 - ar...</td>\n",
       "      <td>Le dossier de maintenance des lieux de travail...</td>\n",
       "      <td>2008-244</td>\n",
       "      <td>2008-03-07</td>\n",
       "      <td>2008</td>\n",
       "    </tr>\n",
       "    <tr>\n",
       "      <th>4</th>\n",
       "      <td>Titre Ier : Obligations du maître d'ouvrage po...</td>\n",
       "      <td>Chapitre Ier : Principes généraux (Articles R4...</td>\n",
       "      <td>Section 2 : Dossier de maintenance (Articles R...</td>\n",
       "      <td>Article R4211-5</td>\n",
       "      <td>Création Décret n°2008-244 du 7 mars 2008 - ar...</td>\n",
       "      <td>Le dossier de maintenance des lieux de travail...</td>\n",
       "      <td>2008-244</td>\n",
       "      <td>2008-03-07</td>\n",
       "      <td>2008</td>\n",
       "    </tr>\n",
       "  </tbody>\n",
       "</table>\n",
       "</div>"
      ],
      "text/plain": [
       "                                               Titre  \\\n",
       "0  Titre Ier : Obligations du maître d'ouvrage po...   \n",
       "1  Titre Ier : Obligations du maître d'ouvrage po...   \n",
       "2  Titre Ier : Obligations du maître d'ouvrage po...   \n",
       "3  Titre Ier : Obligations du maître d'ouvrage po...   \n",
       "4  Titre Ier : Obligations du maître d'ouvrage po...   \n",
       "\n",
       "                                            Chapitre  \\\n",
       "0  Chapitre Ier : Principes généraux (Articles R4...   \n",
       "1  Chapitre Ier : Principes généraux (Articles R4...   \n",
       "2  Chapitre Ier : Principes généraux (Articles R4...   \n",
       "3  Chapitre Ier : Principes généraux (Articles R4...   \n",
       "4  Chapitre Ier : Principes généraux (Articles R4...   \n",
       "\n",
       "                                             Section          Article  \\\n",
       "0  Section 1 : Champ d'application et définitions...  Article R4211-1   \n",
       "1  Section 1 : Champ d'application et définitions...  Article R4211-2   \n",
       "2  Section 2 : Dossier de maintenance (Articles R...  Article R4211-3   \n",
       "3  Section 2 : Dossier de maintenance (Articles R...  Article R4211-4   \n",
       "4  Section 2 : Dossier de maintenance (Articles R...  Article R4211-5   \n",
       "\n",
       "                                              Décret  \\\n",
       "0  Création Décret n°2008-244 du 7 mars 2008 - ar...   \n",
       "1  Création Décret n°2008-244 du 7 mars 2008 - ar...   \n",
       "2  Modifié par Décret n°2011-1461\\n du 7 novembre...   \n",
       "3  Création Décret n°2008-244 du 7 mars 2008 - ar...   \n",
       "4  Création Décret n°2008-244 du 7 mars 2008 - ar...   \n",
       "\n",
       "                                             Contenu Numéro Décret  \\\n",
       "0  Les dispositions du présent titre déterminent,...      2008-244   \n",
       "1  Pour l'application du présent titre, on entend...      2008-244   \n",
       "2  Le maître d'ouvrage élabore et transmet aux ut...     2011-1461   \n",
       "3  Le dossier de maintenance des lieux de travail...      2008-244   \n",
       "4  Le dossier de maintenance des lieux de travail...      2008-244   \n",
       "\n",
       "  Date decret  Annee decret  \n",
       "0  2008-03-07          2008  \n",
       "1  2008-03-07          2008  \n",
       "2  2011-11-07          2011  \n",
       "3  2008-03-07          2008  \n",
       "4  2008-03-07          2008  "
      ]
     },
     "execution_count": 55,
     "metadata": {},
     "output_type": "execute_result"
    }
   ],
   "source": [
    "# import de l export .csv\n",
    "\n",
    "df=pd.read_csv(\"legifrance_ert.csv\", sep=\";\")\n",
    "df.head()"
   ]
  },
  {
   "cell_type": "code",
   "execution_count": 56,
   "id": "f180f98f",
   "metadata": {},
   "outputs": [],
   "source": [
    "# nettoyage caractères spéciaux et stop words en francais\n",
    "\n",
    "df['Contenu'] = df['Contenu'].apply(lambda x: re.sub(r'[^a-zA-Z0-9\\s]', '', x.lower()))\n",
    "\n",
    "stop_words = set(stopwords.words('french'))\n",
    "df['Contenu'] = df['Contenu'].apply(lambda x: ' '.join([word for word in x.split() if word not in stop_words]))"
   ]
  },
  {
   "cell_type": "code",
   "execution_count": 51,
   "id": "98cf79b1",
   "metadata": {},
   "outputs": [
    {
     "data": {
      "text/html": [
       "<div>\n",
       "<style scoped>\n",
       "    .dataframe tbody tr th:only-of-type {\n",
       "        vertical-align: middle;\n",
       "    }\n",
       "\n",
       "    .dataframe tbody tr th {\n",
       "        vertical-align: top;\n",
       "    }\n",
       "\n",
       "    .dataframe thead th {\n",
       "        text-align: right;\n",
       "    }\n",
       "</style>\n",
       "<table border=\"1\" class=\"dataframe\">\n",
       "  <thead>\n",
       "    <tr style=\"text-align: right;\">\n",
       "      <th></th>\n",
       "      <th>Titre</th>\n",
       "      <th>Chapitre</th>\n",
       "      <th>Section</th>\n",
       "      <th>Article</th>\n",
       "      <th>Décret</th>\n",
       "      <th>Contenu</th>\n",
       "      <th>Numéro Décret</th>\n",
       "      <th>Date decret</th>\n",
       "      <th>Annee decret</th>\n",
       "    </tr>\n",
       "  </thead>\n",
       "  <tbody>\n",
       "    <tr>\n",
       "      <th>0</th>\n",
       "      <td>Titre Ier : Obligations du maître d'ouvrage po...</td>\n",
       "      <td>Chapitre Ier : Principes généraux (Articles R4...</td>\n",
       "      <td>Section 1 : Champ d'application et définitions...</td>\n",
       "      <td>Article R4211-1</td>\n",
       "      <td>Création Décret n°2008-244 du 7 mars 2008 - ar...</td>\n",
       "      <td>dispositions prsent titre dterminent applicati...</td>\n",
       "      <td>2008-244</td>\n",
       "      <td>2008-03-07</td>\n",
       "      <td>2008</td>\n",
       "    </tr>\n",
       "    <tr>\n",
       "      <th>1</th>\n",
       "      <td>Titre Ier : Obligations du maître d'ouvrage po...</td>\n",
       "      <td>Chapitre Ier : Principes généraux (Articles R4...</td>\n",
       "      <td>Section 1 : Champ d'application et définitions...</td>\n",
       "      <td>Article R4211-2</td>\n",
       "      <td>Création Décret n°2008-244 du 7 mars 2008 - ar...</td>\n",
       "      <td>lapplication prsent titre entend lieux travail...</td>\n",
       "      <td>2008-244</td>\n",
       "      <td>2008-03-07</td>\n",
       "      <td>2008</td>\n",
       "    </tr>\n",
       "    <tr>\n",
       "      <th>2</th>\n",
       "      <td>Titre Ier : Obligations du maître d'ouvrage po...</td>\n",
       "      <td>Chapitre Ier : Principes généraux (Articles R4...</td>\n",
       "      <td>Section 2 : Dossier de maintenance (Articles R...</td>\n",
       "      <td>Article R4211-3</td>\n",
       "      <td>Modifié par Décret n°2011-1461\\n du 7 novembre...</td>\n",
       "      <td>matre douvrage labore transmet utilisateurs mo...</td>\n",
       "      <td>2011-1461</td>\n",
       "      <td>2011-11-07</td>\n",
       "      <td>2011</td>\n",
       "    </tr>\n",
       "    <tr>\n",
       "      <th>3</th>\n",
       "      <td>Titre Ier : Obligations du maître d'ouvrage po...</td>\n",
       "      <td>Chapitre Ier : Principes généraux (Articles R4...</td>\n",
       "      <td>Section 2 : Dossier de maintenance (Articles R...</td>\n",
       "      <td>Article R4211-4</td>\n",
       "      <td>Création Décret n°2008-244 du 7 mars 2008 - ar...</td>\n",
       "      <td>dossier maintenance lieux travail indique lors...</td>\n",
       "      <td>2008-244</td>\n",
       "      <td>2008-03-07</td>\n",
       "      <td>2008</td>\n",
       "    </tr>\n",
       "    <tr>\n",
       "      <th>4</th>\n",
       "      <td>Titre Ier : Obligations du maître d'ouvrage po...</td>\n",
       "      <td>Chapitre Ier : Principes généraux (Articles R4...</td>\n",
       "      <td>Section 2 : Dossier de maintenance (Articles R...</td>\n",
       "      <td>Article R4211-5</td>\n",
       "      <td>Création Décret n°2008-244 du 7 mars 2008 - ar...</td>\n",
       "      <td>dossier maintenance lieux travail tenu disposi...</td>\n",
       "      <td>2008-244</td>\n",
       "      <td>2008-03-07</td>\n",
       "      <td>2008</td>\n",
       "    </tr>\n",
       "  </tbody>\n",
       "</table>\n",
       "</div>"
      ],
      "text/plain": [
       "                                               Titre  \\\n",
       "0  Titre Ier : Obligations du maître d'ouvrage po...   \n",
       "1  Titre Ier : Obligations du maître d'ouvrage po...   \n",
       "2  Titre Ier : Obligations du maître d'ouvrage po...   \n",
       "3  Titre Ier : Obligations du maître d'ouvrage po...   \n",
       "4  Titre Ier : Obligations du maître d'ouvrage po...   \n",
       "\n",
       "                                            Chapitre  \\\n",
       "0  Chapitre Ier : Principes généraux (Articles R4...   \n",
       "1  Chapitre Ier : Principes généraux (Articles R4...   \n",
       "2  Chapitre Ier : Principes généraux (Articles R4...   \n",
       "3  Chapitre Ier : Principes généraux (Articles R4...   \n",
       "4  Chapitre Ier : Principes généraux (Articles R4...   \n",
       "\n",
       "                                             Section          Article  \\\n",
       "0  Section 1 : Champ d'application et définitions...  Article R4211-1   \n",
       "1  Section 1 : Champ d'application et définitions...  Article R4211-2   \n",
       "2  Section 2 : Dossier de maintenance (Articles R...  Article R4211-3   \n",
       "3  Section 2 : Dossier de maintenance (Articles R...  Article R4211-4   \n",
       "4  Section 2 : Dossier de maintenance (Articles R...  Article R4211-5   \n",
       "\n",
       "                                              Décret  \\\n",
       "0  Création Décret n°2008-244 du 7 mars 2008 - ar...   \n",
       "1  Création Décret n°2008-244 du 7 mars 2008 - ar...   \n",
       "2  Modifié par Décret n°2011-1461\\n du 7 novembre...   \n",
       "3  Création Décret n°2008-244 du 7 mars 2008 - ar...   \n",
       "4  Création Décret n°2008-244 du 7 mars 2008 - ar...   \n",
       "\n",
       "                                             Contenu Numéro Décret  \\\n",
       "0  dispositions prsent titre dterminent applicati...      2008-244   \n",
       "1  lapplication prsent titre entend lieux travail...      2008-244   \n",
       "2  matre douvrage labore transmet utilisateurs mo...     2011-1461   \n",
       "3  dossier maintenance lieux travail indique lors...      2008-244   \n",
       "4  dossier maintenance lieux travail tenu disposi...      2008-244   \n",
       "\n",
       "  Date decret  Annee decret  \n",
       "0  2008-03-07          2008  \n",
       "1  2008-03-07          2008  \n",
       "2  2011-11-07          2011  \n",
       "3  2008-03-07          2008  \n",
       "4  2008-03-07          2008  "
      ]
     },
     "execution_count": 51,
     "metadata": {},
     "output_type": "execute_result"
    }
   ],
   "source": [
    "df.head()"
   ]
  },
  {
   "cell_type": "code",
   "execution_count": 15,
   "id": "3cb50ab6",
   "metadata": {},
   "outputs": [
    {
     "name": "stdout",
     "output_type": "stream",
     "text": [
      "Requirement already satisfied: spacy in c:\\users\\administrateur\\appdata\\local\\programs\\python\\python311\\lib\\site-packages (3.7.6)\n",
      "Requirement already satisfied: spacy-legacy<3.1.0,>=3.0.11 in c:\\users\\administrateur\\appdata\\local\\programs\\python\\python311\\lib\\site-packages (from spacy) (3.0.12)\n",
      "Requirement already satisfied: spacy-loggers<2.0.0,>=1.0.0 in c:\\users\\administrateur\\appdata\\local\\programs\\python\\python311\\lib\\site-packages (from spacy) (1.0.5)\n",
      "Requirement already satisfied: murmurhash<1.1.0,>=0.28.0 in c:\\users\\administrateur\\appdata\\local\\programs\\python\\python311\\lib\\site-packages (from spacy) (1.0.10)\n",
      "Requirement already satisfied: cymem<2.1.0,>=2.0.2 in c:\\users\\administrateur\\appdata\\local\\programs\\python\\python311\\lib\\site-packages (from spacy) (2.0.8)\n",
      "Requirement already satisfied: preshed<3.1.0,>=3.0.2 in c:\\users\\administrateur\\appdata\\local\\programs\\python\\python311\\lib\\site-packages (from spacy) (3.0.9)\n",
      "Requirement already satisfied: thinc<8.3.0,>=8.2.2 in c:\\users\\administrateur\\appdata\\local\\programs\\python\\python311\\lib\\site-packages (from spacy) (8.2.5)\n",
      "Requirement already satisfied: wasabi<1.2.0,>=0.9.1 in c:\\users\\administrateur\\appdata\\local\\programs\\python\\python311\\lib\\site-packages (from spacy) (1.1.3)\n",
      "Requirement already satisfied: srsly<3.0.0,>=2.4.3 in c:\\users\\administrateur\\appdata\\local\\programs\\python\\python311\\lib\\site-packages (from spacy) (2.4.8)\n",
      "Requirement already satisfied: catalogue<2.1.0,>=2.0.6 in c:\\users\\administrateur\\appdata\\local\\programs\\python\\python311\\lib\\site-packages (from spacy) (2.0.10)\n",
      "Requirement already satisfied: weasel<0.5.0,>=0.1.0 in c:\\users\\administrateur\\appdata\\local\\programs\\python\\python311\\lib\\site-packages (from spacy) (0.4.1)\n",
      "Requirement already satisfied: typer<1.0.0,>=0.3.0 in c:\\users\\administrateur\\appdata\\local\\programs\\python\\python311\\lib\\site-packages (from spacy) (0.12.5)\n",
      "Requirement already satisfied: tqdm<5.0.0,>=4.38.0 in c:\\users\\administrateur\\appdata\\local\\programs\\python\\python311\\lib\\site-packages (from spacy) (4.66.1)\n",
      "Requirement already satisfied: requests<3.0.0,>=2.13.0 in c:\\users\\administrateur\\appdata\\local\\programs\\python\\python311\\lib\\site-packages (from spacy) (2.31.0)\n",
      "Requirement already satisfied: pydantic!=1.8,!=1.8.1,<3.0.0,>=1.7.4 in c:\\users\\administrateur\\appdata\\local\\programs\\python\\python311\\lib\\site-packages (from spacy) (1.10.11)\n",
      "Requirement already satisfied: jinja2 in c:\\users\\administrateur\\appdata\\local\\programs\\python\\python311\\lib\\site-packages (from spacy) (3.1.2)\n",
      "Requirement already satisfied: setuptools in c:\\users\\administrateur\\appdata\\local\\programs\\python\\python311\\lib\\site-packages (from spacy) (65.5.0)\n",
      "Requirement already satisfied: packaging>=20.0 in c:\\users\\administrateur\\appdata\\local\\programs\\python\\python311\\lib\\site-packages (from spacy) (21.3)\n",
      "Requirement already satisfied: langcodes<4.0.0,>=3.2.0 in c:\\users\\administrateur\\appdata\\local\\programs\\python\\python311\\lib\\site-packages (from spacy) (3.4.1)\n",
      "Requirement already satisfied: numpy>=1.19.0 in c:\\users\\administrateur\\appdata\\local\\programs\\python\\python311\\lib\\site-packages (from spacy) (1.26.2)\n",
      "Requirement already satisfied: language-data>=1.2 in c:\\users\\administrateur\\appdata\\local\\programs\\python\\python311\\lib\\site-packages (from langcodes<4.0.0,>=3.2.0->spacy) (1.2.0)\n",
      "Requirement already satisfied: pyparsing!=3.0.5,>=2.0.2 in c:\\users\\administrateur\\appdata\\local\\programs\\python\\python311\\lib\\site-packages (from packaging>=20.0->spacy) (3.1.0)\n",
      "Requirement already satisfied: typing-extensions>=4.2.0 in c:\\users\\administrateur\\appdata\\local\\programs\\python\\python311\\lib\\site-packages (from pydantic!=1.8,!=1.8.1,<3.0.0,>=1.7.4->spacy) (4.7.1)\n",
      "Requirement already satisfied: charset-normalizer<4,>=2 in c:\\users\\administrateur\\appdata\\local\\programs\\python\\python311\\lib\\site-packages (from requests<3.0.0,>=2.13.0->spacy) (3.1.0)\n",
      "Requirement already satisfied: idna<4,>=2.5 in c:\\users\\administrateur\\appdata\\local\\programs\\python\\python311\\lib\\site-packages (from requests<3.0.0,>=2.13.0->spacy) (3.4)\n",
      "Requirement already satisfied: urllib3<3,>=1.21.1 in c:\\users\\administrateur\\appdata\\local\\programs\\python\\python311\\lib\\site-packages (from requests<3.0.0,>=2.13.0->spacy) (1.26.16)\n",
      "Requirement already satisfied: certifi>=2017.4.17 in c:\\users\\administrateur\\appdata\\local\\programs\\python\\python311\\lib\\site-packages (from requests<3.0.0,>=2.13.0->spacy) (2023.5.7)\n",
      "Requirement already satisfied: blis<0.8.0,>=0.7.8 in c:\\users\\administrateur\\appdata\\local\\programs\\python\\python311\\lib\\site-packages (from thinc<8.3.0,>=8.2.2->spacy) (0.7.11)\n",
      "Requirement already satisfied: confection<1.0.0,>=0.0.1 in c:\\users\\administrateur\\appdata\\local\\programs\\python\\python311\\lib\\site-packages (from thinc<8.3.0,>=8.2.2->spacy) (0.1.5)\n",
      "Requirement already satisfied: colorama in c:\\users\\administrateur\\appdata\\roaming\\python\\python311\\site-packages (from tqdm<5.0.0,>=4.38.0->spacy) (0.4.6)\n",
      "Requirement already satisfied: click>=8.0.0 in c:\\users\\administrateur\\appdata\\local\\programs\\python\\python311\\lib\\site-packages (from typer<1.0.0,>=0.3.0->spacy) (8.1.4)\n",
      "Requirement already satisfied: shellingham>=1.3.0 in c:\\users\\administrateur\\appdata\\local\\programs\\python\\python311\\lib\\site-packages (from typer<1.0.0,>=0.3.0->spacy) (1.5.4)\n",
      "Requirement already satisfied: rich>=10.11.0 in c:\\users\\administrateur\\appdata\\local\\programs\\python\\python311\\lib\\site-packages (from typer<1.0.0,>=0.3.0->spacy) (13.4.2)\n",
      "Requirement already satisfied: cloudpathlib<1.0.0,>=0.7.0 in c:\\users\\administrateur\\appdata\\local\\programs\\python\\python311\\lib\\site-packages (from weasel<0.5.0,>=0.1.0->spacy) (0.19.0)\n",
      "Requirement already satisfied: smart-open<8.0.0,>=5.2.1 in c:\\users\\administrateur\\appdata\\local\\programs\\python\\python311\\lib\\site-packages (from weasel<0.5.0,>=0.1.0->spacy) (7.0.4)\n",
      "Requirement already satisfied: MarkupSafe>=2.0 in c:\\users\\administrateur\\appdata\\local\\programs\\python\\python311\\lib\\site-packages (from jinja2->spacy) (2.1.3)\n",
      "Requirement already satisfied: marisa-trie>=0.7.7 in c:\\users\\administrateur\\appdata\\local\\programs\\python\\python311\\lib\\site-packages (from language-data>=1.2->langcodes<4.0.0,>=3.2.0->spacy) (1.2.0)\n",
      "Requirement already satisfied: markdown-it-py>=2.2.0 in c:\\users\\administrateur\\appdata\\local\\programs\\python\\python311\\lib\\site-packages (from rich>=10.11.0->typer<1.0.0,>=0.3.0->spacy) (3.0.0)\n",
      "Requirement already satisfied: pygments<3.0.0,>=2.13.0 in c:\\users\\administrateur\\appdata\\local\\programs\\python\\python311\\lib\\site-packages (from rich>=10.11.0->typer<1.0.0,>=0.3.0->spacy) (2.15.1)\n",
      "Requirement already satisfied: wrapt in c:\\users\\administrateur\\appdata\\local\\programs\\python\\python311\\lib\\site-packages (from smart-open<8.0.0,>=5.2.1->weasel<0.5.0,>=0.1.0->spacy) (1.15.0)\n",
      "Requirement already satisfied: mdurl~=0.1 in c:\\users\\administrateur\\appdata\\local\\programs\\python\\python311\\lib\\site-packages (from markdown-it-py>=2.2.0->rich>=10.11.0->typer<1.0.0,>=0.3.0->spacy) (0.1.2)\n",
      "Note: you may need to restart the kernel to use updated packages.\n"
     ]
    },
    {
     "name": "stderr",
     "output_type": "stream",
     "text": [
      "\n",
      "[notice] A new release of pip is available: 24.2 -> 24.3.1\n",
      "[notice] To update, run: python.exe -m pip install --upgrade pip\n"
     ]
    }
   ],
   "source": [
    "pip install spacy"
   ]
  },
  {
   "cell_type": "code",
   "execution_count": 52,
   "id": "2a966c98",
   "metadata": {},
   "outputs": [],
   "source": [
    "# tokenisation - lemmatisation avec spacy \n",
    "\n",
    "nlp = spacy.load(\"fr_core_news_md\")\n",
    "df['Contenu_processed'] = df['Contenu'].apply(lambda x: ' '.join([token.lemma_ for token in nlp(x)]))\n"
   ]
  },
  {
   "cell_type": "code",
   "execution_count": 37,
   "id": "04ba10df",
   "metadata": {},
   "outputs": [
    {
     "name": "stdout",
     "output_type": "stream",
     "text": [
      "Collecting gensim\n",
      "  Using cached gensim-4.3.3-cp311-cp311-win_amd64.whl.metadata (8.2 kB)\n",
      "Requirement already satisfied: numpy<2.0,>=1.18.5 in c:\\users\\administrateur\\appdata\\local\\programs\\python\\python311\\lib\\site-packages (from gensim) (1.26.2)\n",
      "Requirement already satisfied: scipy<1.14.0,>=1.7.0 in c:\\users\\administrateur\\appdata\\local\\programs\\python\\python311\\lib\\site-packages (from gensim) (1.11.4)\n",
      "Requirement already satisfied: smart-open>=1.8.1 in c:\\users\\administrateur\\appdata\\local\\programs\\python\\python311\\lib\\site-packages (from gensim) (7.0.4)\n",
      "Requirement already satisfied: wrapt in c:\\users\\administrateur\\appdata\\local\\programs\\python\\python311\\lib\\site-packages (from smart-open>=1.8.1->gensim) (1.15.0)\n",
      "Using cached gensim-4.3.3-cp311-cp311-win_amd64.whl (24.0 MB)\n",
      "Installing collected packages: gensim\n",
      "Successfully installed gensim-4.3.3\n",
      "Note: you may need to restart the kernel to use updated packages.\n"
     ]
    },
    {
     "name": "stderr",
     "output_type": "stream",
     "text": [
      "\n",
      "[notice] A new release of pip is available: 24.2 -> 24.3.1\n",
      "[notice] To update, run: python.exe -m pip install --upgrade pip\n"
     ]
    }
   ],
   "source": [
    "pip install gensim"
   ]
  },
  {
   "cell_type": "code",
   "execution_count": 53,
   "id": "7271306c",
   "metadata": {},
   "outputs": [],
   "source": [
    "# vectorisation - embeding sur nos données traitées avec méthode TD-IDF\n",
    "\n",
    "tfidf_vec = TfidfVectorizer()\n",
    "tfidf_contenu = tfidf_vec.fit_transform(df['Contenu'])"
   ]
  },
  {
   "cell_type": "code",
   "execution_count": 54,
   "id": "437b8757",
   "metadata": {},
   "outputs": [
    {
     "name": "stdout",
     "output_type": "stream",
     "text": [
      "   000  010  025  042  050  060  080   09  090   10  ...  volumes  voyants  \\\n",
      "0  0.0  0.0  0.0  0.0  0.0  0.0  0.0  0.0  0.0  0.0  ...      0.0      0.0   \n",
      "1  0.0  0.0  0.0  0.0  0.0  0.0  0.0  0.0  0.0  0.0  ...      0.0      0.0   \n",
      "2  0.0  0.0  0.0  0.0  0.0  0.0  0.0  0.0  0.0  0.0  ...      0.0      0.0   \n",
      "\n",
      "   vrification  vrifications  vrifis  vtements  vue  yeux      zone  zones  \n",
      "0          0.0           0.0     0.0       0.0  0.0   0.0  0.000000    0.0  \n",
      "1          0.0           0.0     0.0       0.0  0.0   0.0  0.157076    0.0  \n",
      "2          0.0           0.0     0.0       0.0  0.0   0.0  0.000000    0.0  \n",
      "\n",
      "[3 rows x 2294 columns]\n"
     ]
    }
   ],
   "source": [
    "tfidf_contenu_bis = pd.DataFrame(tfidf_contenu.toarray(), columns=tfidf_vec.get_feature_names_out())\n",
    "print(tfidf_contenu_bis.head(3))"
   ]
  },
  {
   "cell_type": "code",
   "execution_count": 57,
   "id": "982609ae",
   "metadata": {},
   "outputs": [],
   "source": [
    "# vectorisation - embeding sur nos données traitées avec méthode gensim\n",
    "\n",
    "w2v_model = Word2Vec(min_count=20,\n",
    "                     window=2,\n",
    "                     vector_size=100,\n",
    "                     alpha=0.03, \n",
    "                     negative=10,\n",
    "                     seed=1)"
   ]
  },
  {
   "cell_type": "code",
   "execution_count": 58,
   "id": "89914c61",
   "metadata": {},
   "outputs": [
    {
     "name": "stdout",
     "output_type": "stream",
     "text": [
      "Vocabulary size: 64\n",
      "['travail', 'locaux', 'r', 'travailleurs', 'dispositions', 'installations', 'personnes', 'scurit', 'larticle', '1', '2', 'tre', 'lemployeur', 'cas', 'dune', 'dun', 'risques', 'lectriques', 'lorsque', 'articles', 'manire', 'lieux', 'local', 'portes', 'ainsi', 'conditions', 'mesures', 'btiments', 'emplacements', 'plus', 'notamment', 'peuvent', 'rgles', 'protection', 'lagriculture', 'dgagements', 'contre', '3', 'arrt', 'disposition', 'chapitre', 'relatives', 'leurs', 'tablissements', 'ministres', 'prvues', 'conus', 'moins', 'construction', 'chaque', 'chargs', 'mtre', 'sant', 'nature', 'prsent', 'aprs', 'caractristiques', 'compte', 'dont', 'lair', 'nombre', 'lextrieur', 'circulation', 'fixes']\n"
     ]
    }
   ],
   "source": [
    "sentences = [str(line).split() for line in df['Contenu']]\n",
    "w2v_model.build_vocab(sentences, progress_per=10000)\n",
    "words = list(w2v_model.wv.index_to_key)\n",
    "\n",
    "print('Vocabulary size: %d' % len(words))\n",
    "print(words)"
   ]
  },
  {
   "cell_type": "code",
   "execution_count": 59,
   "id": "baaf72bd",
   "metadata": {},
   "outputs": [
    {
     "data": {
      "text/plain": [
       "(22064, 264780)"
      ]
     },
     "execution_count": 59,
     "metadata": {},
     "output_type": "execute_result"
    }
   ],
   "source": [
    "w2v_model.train(sentences, total_examples=w2v_model.corpus_count, epochs=30)"
   ]
  },
  {
   "cell_type": "code",
   "execution_count": 60,
   "id": "0bc0af39",
   "metadata": {},
   "outputs": [
    {
     "name": "stdout",
     "output_type": "stream",
     "text": [
      "Shape of one vector:  (100,) \n",
      "\n",
      "[ 0.09311874  0.12823166 -0.11902932  0.06800435  0.03670401 -0.22446293\n",
      "  0.13440385  0.37896368 -0.191868   -0.21064891  0.01552475 -0.20254067\n",
      " -0.03435975  0.19287196  0.14193581]\n"
     ]
    }
   ],
   "source": [
    "x = w2v_model.wv['risques']\n",
    "print('Shape of one vector: ', x.shape, '\\n')\n",
    "print(x [:15])"
   ]
  },
  {
   "cell_type": "code",
   "execution_count": 61,
   "id": "5790fb80",
   "metadata": {},
   "outputs": [],
   "source": [
    "model.save('w2v_model.bin')"
   ]
  }
 ],
 "metadata": {
  "kernelspec": {
   "display_name": "Python 3 (ipykernel)",
   "language": "python",
   "name": "python3"
  },
  "language_info": {
   "codemirror_mode": {
    "name": "ipython",
    "version": 3
   },
   "file_extension": ".py",
   "mimetype": "text/x-python",
   "name": "python",
   "nbconvert_exporter": "python",
   "pygments_lexer": "ipython3",
   "version": "3.11.2"
  }
 },
 "nbformat": 4,
 "nbformat_minor": 5
}
