{
 "cells": [
  {
   "cell_type": "markdown",
   "id": "8acd57c9-aab7-4ec0-bf14-d37c21f31093",
   "metadata": {},
   "source": [
    "# Chargement des données textuelles"
   ]
  },
  {
   "cell_type": "code",
   "execution_count": 53,
   "id": "8111746a-89c5-471b-a7c8-9e63e8eee4b0",
   "metadata": {},
   "outputs": [
    {
     "name": "stdout",
     "output_type": "stream",
     "text": [
      "(4132, 3)\n",
      "************************************************************************************************************************\n",
      "Source Etablissement recevant des travailleurs: 299\n",
      "Source Réglementation sécurité et incendie. Etablissement recevant du public: 44\n",
      "Source Règlement de sécurité contre les risques d'incendie et de panique. Etablissements recevant du public: 1161\n",
      "Source Code de la construction et de l'habitation: 2628\n",
      "************************************************************************************************************************\n",
      "['Etablissement recevant des travailleurs', \"Obligations du maître d'ouvrage pour la conception des lieux de travail  (Articles R4211-1 à R4217-2)\", 'Sécurité des lieux de travail (Articles R4214-1 à R4214-28)', 'Caractéristiques des bâtiments (Articles R4214-1 à R4214-8)', 'Article R4214-4', 'Créé par Décret n°2008-244 du 7 mars 2008 - art', '(V)', '']\n",
      "Les surfaces des planchers, des murs et des plafonds sont conçues de manière à pouvoir être nettoyées ou ravalées en vue d obtenir des conditions d hygiène appropriées.\n"
     ]
    }
   ],
   "source": [
    "import pandas as pd\n",
    "\n",
    "def correct_text(text):\n",
    "    text = re.sub(r'([a-zA-Z])([A-Z])', r'\\1 \\2', text) \n",
    "    text = re.sub(r'article(\\d+)', r'article \\1', text) \n",
    "    text = re.sub(r'([a-z])([A-Z])', r'\\1 \\2', text)  \n",
    "    text = re.sub(r'([LR])\\.\\s*(\\d[-\\d]*)', r'\\1.\\2', text)\n",
    "    text = re.sub(r\"'\", \" \", text)\n",
    "    return text\n",
    "    \n",
    "df = pd.read_excel(\"./base_de_donnees.xlsx\") \n",
    "\n",
    "df['Contenu'] = df['Contenu'].apply(correct_text)\n",
    "texts_ = df['Contenu'].tolist()\n",
    "df['Contexte'] = df['Source'] + '.x. ' + df['Contexte']\n",
    "contexts = df['Contexte'].map(lambda x: x.replace('.x.', '.')).tolist()\n",
    "print(df.shape)\n",
    "print('*' * 120)\n",
    "for source in df.Source.unique():\n",
    "    print(f\"Source {source}: {len(df[df['Source']==source])}\")\n",
    "\n",
    "print('*' * 120)\n",
    "print(contexts[24].split('. '))\n",
    "print(texts_[24])"
   ]
  },
  {
   "cell_type": "markdown",
   "id": "9602cb1c-7f32-4532-b3f3-d116a114e027",
   "metadata": {},
   "source": [
    "# GPU Actif"
   ]
  },
  {
   "cell_type": "code",
   "execution_count": 54,
   "id": "50f3586e-56e9-47ef-9521-f9c1bdcf2185",
   "metadata": {},
   "outputs": [
    {
     "name": "stdout",
     "output_type": "stream",
     "text": [
      "1.10.1+cu111\n",
      "True\n"
     ]
    }
   ],
   "source": [
    "import torch\n",
    "print(torch.__version__)\n",
    "print(torch.cuda.is_available())"
   ]
  },
  {
   "cell_type": "markdown",
   "id": "ab431311-5a0c-4510-b1e1-381dc31da2af",
   "metadata": {},
   "source": [
    "# Tokenizer & Embedding et application aux Textes et Contextes\n",
    "- 4 modèles de tokenization/embedding utilisés: 'Flaubert', 'Camembert', 'Bert', 'DistilBert'"
   ]
  },
  {
   "cell_type": "code",
   "execution_count": 55,
   "id": "43b9e72c-af26-4473-a615-e777f0ab7d57",
   "metadata": {},
   "outputs": [
    {
     "name": "stdout",
     "output_type": "stream",
     "text": [
      "Using device: cuda\n"
     ]
    },
    {
     "name": "stderr",
     "output_type": "stream",
     "text": [
      "Some weights of the model checkpoint at flaubert/flaubert_base_cased were not used when initializing FlaubertModel: ['pred_layer.proj.weight', 'pred_layer.proj.bias']\n",
      "- This IS expected if you are initializing FlaubertModel from the checkpoint of a model trained on another task or with another architecture (e.g. initializing a BertForSequenceClassification model from a BertForPreTraining model).\n",
      "- This IS NOT expected if you are initializing FlaubertModel from the checkpoint of a model that you expect to be exactly identical (initializing a BertForSequenceClassification model from a BertForSequenceClassification model).\n"
     ]
    },
    {
     "name": "stdout",
     "output_type": "stream",
     "text": [
      "processed: 4132: 100%|████████████████████████████████████████████████████████████▉| 4132/4133 [01:17<00:00, 53.16it/s]\n",
      "Text embeddings done.\n",
      "processed: 4132: 100%|████████████████████████████████████████████████████████████▉| 4132/4133 [01:11<00:00, 57.98it/s]\n",
      "Context embeddings done.\n"
     ]
    }
   ],
   "source": [
    "import torch\n",
    "from transformers import DistilBertTokenizer, DistilBertModel\n",
    "from transformers import CamembertTokenizer, CamembertModel\n",
    "from transformers import BertTokenizer, BertModel\n",
    "from transformers import FlaubertTokenizer, FlaubertModel\n",
    "\n",
    "from tqdm import tqdm\n",
    "import sys\n",
    "\n",
    "device = torch.device(\"cuda\" if torch.cuda.is_available() else \"cpu\")\n",
    "print(f\"Using device: {device}\")\n",
    "\n",
    "\n",
    "models_names = ['flaubert/flaubert_base_cased', \"camembert-base\", \"bert-base-multilingual-cased\", 'distilbert-base-uncased']\n",
    "models_suffix = ['Flaubert', 'Camembert', 'Bert', 'DistilBert']\n",
    "model_index = 0\n",
    "model_name = models_names[model_index]\n",
    "model_suffix = models_suffix[model_index]\n",
    "\n",
    "tokenizer = globals()[f'{model_suffix}Tokenizer'].from_pretrained(model_name)\n",
    "model = globals()[f'{model_suffix}Model'].from_pretrained(model_name).to(device)\n",
    "\n",
    "def get_embeddings(texts):\n",
    "    inputs = tokenizer(texts, return_tensors='pt', padding=True, truncation=True, max_length=512).to(device)\n",
    "    with torch.no_grad():\n",
    "        outputs = model(**inputs)\n",
    "    return outputs.last_hidden_state.mean(dim=1).cpu()  \n",
    "\n",
    "\n",
    "def process_embeddings(data):\n",
    "    embeddings = []\n",
    "    with tqdm(total=int(len(data))+1,file=sys.stdout) as prog_bar:\n",
    "        for i in range(len(data)):\n",
    "            embeddings.append(get_embeddings(data[i]))\n",
    "            prog_bar.set_description('processed: %d' % (1 + i))\n",
    "            prog_bar.update(1)            \n",
    "    return torch.cat(embeddings, dim=0)\n",
    "\n",
    "text_embeddings = process_embeddings(texts_)\n",
    "print(\"Text embeddings done.\")\n",
    "\n",
    "context_embeddings = process_embeddings(contexts)\n",
    "print(\"Context embeddings done.\")\n"
   ]
  },
  {
   "cell_type": "markdown",
   "id": "845c2a8d-8307-49ca-b7d1-25007497ba38",
   "metadata": {},
   "source": [
    "# Aperçu de df"
   ]
  },
  {
   "cell_type": "code",
   "execution_count": 56,
   "id": "f1e103d0-ce29-4643-b02c-40683b4947db",
   "metadata": {},
   "outputs": [
    {
     "data": {
      "text/html": [
       "<div>\n",
       "<style scoped>\n",
       "    .dataframe tbody tr th:only-of-type {\n",
       "        vertical-align: middle;\n",
       "    }\n",
       "\n",
       "    .dataframe tbody tr th {\n",
       "        vertical-align: top;\n",
       "    }\n",
       "\n",
       "    .dataframe thead th {\n",
       "        text-align: right;\n",
       "    }\n",
       "</style>\n",
       "<table border=\"1\" class=\"dataframe\">\n",
       "  <thead>\n",
       "    <tr style=\"text-align: right;\">\n",
       "      <th></th>\n",
       "      <th>Source</th>\n",
       "      <th>Contexte</th>\n",
       "      <th>Contenu</th>\n",
       "    </tr>\n",
       "  </thead>\n",
       "  <tbody>\n",
       "    <tr>\n",
       "      <th>0</th>\n",
       "      <td>Etablissement recevant des travailleurs</td>\n",
       "      <td>Etablissement recevant des travailleurs.x. Obl...</td>\n",
       "      <td>Les dispositions du présent titre déterminent,...</td>\n",
       "    </tr>\n",
       "    <tr>\n",
       "      <th>1</th>\n",
       "      <td>Etablissement recevant des travailleurs</td>\n",
       "      <td>Etablissement recevant des travailleurs.x. Obl...</td>\n",
       "      <td>Pour l application du présent titre, on entend...</td>\n",
       "    </tr>\n",
       "    <tr>\n",
       "      <th>2</th>\n",
       "      <td>Etablissement recevant des travailleurs</td>\n",
       "      <td>Etablissement recevant des travailleurs.x. Obl...</td>\n",
       "      <td>Le maître d ouvrage élabore et transmet aux ut...</td>\n",
       "    </tr>\n",
       "    <tr>\n",
       "      <th>3</th>\n",
       "      <td>Etablissement recevant des travailleurs</td>\n",
       "      <td>Etablissement recevant des travailleurs.x. Obl...</td>\n",
       "      <td>Le dossier de maintenance des lieux de travail...</td>\n",
       "    </tr>\n",
       "    <tr>\n",
       "      <th>4</th>\n",
       "      <td>Etablissement recevant des travailleurs</td>\n",
       "      <td>Etablissement recevant des travailleurs.x. Obl...</td>\n",
       "      <td>Le dossier de maintenance des lieux de travail...</td>\n",
       "    </tr>\n",
       "    <tr>\n",
       "      <th>...</th>\n",
       "      <td>...</td>\n",
       "      <td>...</td>\n",
       "      <td>...</td>\n",
       "    </tr>\n",
       "    <tr>\n",
       "      <th>4127</th>\n",
       "      <td>Code de la construction et de l'habitation</td>\n",
       "      <td>Code de la construction et de l'habitation.x. ...</td>\n",
       "      <td>Pour leur application à Saint-Pierre-et-Miquel...</td>\n",
       "    </tr>\n",
       "    <tr>\n",
       "      <th>4128</th>\n",
       "      <td>Code de la construction et de l'habitation</td>\n",
       "      <td>Code de la construction et de l'habitation.x. ...</td>\n",
       "      <td>Pour leur application à Saint-Pierre-et-Miquel...</td>\n",
       "    </tr>\n",
       "    <tr>\n",
       "      <th>4129</th>\n",
       "      <td>Code de la construction et de l'habitation</td>\n",
       "      <td>Code de la construction et de l'habitation.x. ...</td>\n",
       "      <td>Les articles D. 842-15 à D. 842-18 ne sont pas...</td>\n",
       "    </tr>\n",
       "    <tr>\n",
       "      <th>4130</th>\n",
       "      <td>Code de la construction et de l'habitation</td>\n",
       "      <td>Code de la construction et de l'habitation.x. ...</td>\n",
       "      <td>Les articles  R.842-14,  R.843-2 à  R.843-8 ne...</td>\n",
       "    </tr>\n",
       "    <tr>\n",
       "      <th>4131</th>\n",
       "      <td>Code de la construction et de l'habitation</td>\n",
       "      <td>Code de la construction et de l'habitation.x. ...</td>\n",
       "      <td>Pour leur application à Saint-Pierre-et-Miquel...</td>\n",
       "    </tr>\n",
       "  </tbody>\n",
       "</table>\n",
       "<p>4132 rows × 3 columns</p>\n",
       "</div>"
      ],
      "text/plain": [
       "                                          Source  \\\n",
       "0        Etablissement recevant des travailleurs   \n",
       "1        Etablissement recevant des travailleurs   \n",
       "2        Etablissement recevant des travailleurs   \n",
       "3        Etablissement recevant des travailleurs   \n",
       "4        Etablissement recevant des travailleurs   \n",
       "...                                          ...   \n",
       "4127  Code de la construction et de l'habitation   \n",
       "4128  Code de la construction et de l'habitation   \n",
       "4129  Code de la construction et de l'habitation   \n",
       "4130  Code de la construction et de l'habitation   \n",
       "4131  Code de la construction et de l'habitation   \n",
       "\n",
       "                                               Contexte  \\\n",
       "0     Etablissement recevant des travailleurs.x. Obl...   \n",
       "1     Etablissement recevant des travailleurs.x. Obl...   \n",
       "2     Etablissement recevant des travailleurs.x. Obl...   \n",
       "3     Etablissement recevant des travailleurs.x. Obl...   \n",
       "4     Etablissement recevant des travailleurs.x. Obl...   \n",
       "...                                                 ...   \n",
       "4127  Code de la construction et de l'habitation.x. ...   \n",
       "4128  Code de la construction et de l'habitation.x. ...   \n",
       "4129  Code de la construction et de l'habitation.x. ...   \n",
       "4130  Code de la construction et de l'habitation.x. ...   \n",
       "4131  Code de la construction et de l'habitation.x. ...   \n",
       "\n",
       "                                                Contenu  \n",
       "0     Les dispositions du présent titre déterminent,...  \n",
       "1     Pour l application du présent titre, on entend...  \n",
       "2     Le maître d ouvrage élabore et transmet aux ut...  \n",
       "3     Le dossier de maintenance des lieux de travail...  \n",
       "4     Le dossier de maintenance des lieux de travail...  \n",
       "...                                                 ...  \n",
       "4127  Pour leur application à Saint-Pierre-et-Miquel...  \n",
       "4128  Pour leur application à Saint-Pierre-et-Miquel...  \n",
       "4129  Les articles D. 842-15 à D. 842-18 ne sont pas...  \n",
       "4130  Les articles  R.842-14,  R.843-2 à  R.843-8 ne...  \n",
       "4131  Pour leur application à Saint-Pierre-et-Miquel...  \n",
       "\n",
       "[4132 rows x 3 columns]"
      ]
     },
     "execution_count": 56,
     "metadata": {},
     "output_type": "execute_result"
    }
   ],
   "source": [
    "df"
   ]
  },
  {
   "cell_type": "markdown",
   "id": "2f15cb44-8f34-472d-be80-92f4206c373b",
   "metadata": {},
   "source": [
    "# Recherche du texte le plus proche"
   ]
  },
  {
   "cell_type": "code",
   "execution_count": 57,
   "id": "fc580078-ea19-48f5-b954-2cd8cf2916fa",
   "metadata": {},
   "outputs": [
    {
     "name": "stdout",
     "output_type": "stream",
     "text": [
      "User query: Je dois faire des modification dans un établissement recevant le public. Par qui l'autorisation est elle délivrée\n",
      "\n",
      "\n",
      "------------------------------------------------------------------------------------------------------------------------\n",
      "Cosine Similarity: 0.5724\n",
      "\n",
      "Source plus proche:Code de la construction et de l'habitation\n",
      "\n",
      " Contexte: Code de la construction et de l'habitation.x. Article R641-19.x. Dispositions permettant de faire face à des difficultés particulières de logement..x. Mesures tendant à favoriser la construction d'habitations..x. Sociétés coopératives de construction..x. Agrément des contrôleurs techniques.x. Diagnostic portant sur les déchets issus de rénovations et de démolitions.x. Modifié par Décret n°99-340 du 29 avril 1999 - art. 1 () JORF 5 mai 1999.x. \n",
      "\n",
      "Texte: Le délai supplémentaire prévu àl article L.641-1, alinéa 4, ne peut être accordé au bénéficiaire de l attribution d office lorsque le propriétaire notifie qu il entre dans une des catégories prévues àl article L.641-2.\n",
      "------------------------------------------------------------------------------------------------------------------------\n",
      "Cosine Similarity: 0.5714\n",
      "\n",
      "Source plus proche:Code de la construction et de l'habitation\n",
      "\n",
      " Contexte: Code de la construction et de l'habitation.x. Article D331-79.x. Aides diverses à la construction d'habitations et à l'amélioration de l'habitat - Aide personnalisée au logement..x. Mesures tendant à favoriser la construction d'habitations..x. Sociétés coopératives de construction..x. Agrément des contrôleurs techniques.x. Diagnostic portant sur les déchets issus de rénovations et de démolitions.x. Modifié par Décret n°2019-873 du 21 août 2019 - art. 6.x. \n",
      "\n",
      "Texte: Les occupants des logements financés à l aide de ces prêts bénéficient de l aide personnalisée au logement dans les conditions prévues par le livre I II, titre V, du présent code (1re partie)  et de l article L.431-6.\n",
      "------------------------------------------------------------------------------------------------------------------------\n",
      "Cosine Similarity: 0.5429\n",
      "\n",
      "Source plus proche:Etablissement recevant des travailleurs\n",
      "\n",
      " Contexte: Etablissement recevant des travailleurs.x. Obligations du maître d'ouvrage pour la conception des lieux de travail  (Articles R4211-1 à R4217-2).x. Sécurité des lieux de travail (Articles R4214-1 à R4214-28).x. Aménagement des lieux et postes de travail (Articles R4214-22 à R4214-25).x. Article R4214-24.x. Créé par Décret n°2008-244 du 7 mars 2008 - art. (V).x. \n",
      "\n",
      "Texte: Si des postes de travail extérieurs sont prévus, ceux-ci sont conçus et aménagés suivant les prescriptions de l article R.4225-1.\n"
     ]
    }
   ],
   "source": [
    "from tqdm import tqdm\n",
    "import sys\n",
    "\n",
    "\n",
    "user_query = \"Je dois installer des dispositifs de désenfumage. A quoi dois je faire attention\"\n",
    "user_query = \"Je dois faire des modification dans un établissement recevant le public. Par qui l'autorisation est elle délivrée\"\n",
    "query_embeddings = get_embeddings(user_query)\n",
    "\n",
    "text_embeddings = text_embeddings.to(device)\n",
    "context_embeddings = context_embeddings.to(device)\n",
    "query_embeddings = query_embeddings.to(device)\n",
    "\n",
    "similarities = torch.nn.functional.cosine_similarity(query_embeddings, text_embeddings, dim=1)\n",
    "\n",
    "most_similar_index = torch.argmax(similarities).item()\n",
    "\n",
    "top_k = 3\n",
    "top_k_indices = torch.argsort(similarities, descending=True)[:top_k]\n",
    "print(f\"User query: {user_query}\\n\\n\")\n",
    "\n",
    "for idx in top_k_indices:\n",
    "    idx = idx.item() \n",
    "    text = df.loc[idx, 'Contenu']\n",
    "    context = df.loc[idx, 'Contexte']\n",
    "    source = df.loc[idx, 'Source']\n",
    "    similarity_coeff = similarities[idx]\n",
    "    print('-' * 120)\n",
    "    print(f\"Cosine Similarity: {similarity_coeff:.4f}\\n\\nSource plus proche:{df.loc[idx, 'Source']}\\n\\n Contexte: {df.loc[idx, 'Contexte']}\")\n",
    "    print(f\"\\nTexte: {df.loc[idx, 'Contenu']}\")"
   ]
  },
  {
   "cell_type": "markdown",
   "id": "70f351f8-0e22-45be-8bfe-af650b699cbf",
   "metadata": {},
   "source": [
    "# Finetuning espace d'embedding"
   ]
  },
  {
   "cell_type": "code",
   "execution_count": 58,
   "id": "3a09e520-66a2-4b91-bf21-3a7c680cc36a",
   "metadata": {},
   "outputs": [
    {
     "data": {
      "text/plain": [
       "array(['Etablissement recevant des travailleurs',\n",
       "       'Réglementation sécurité et incendie. Etablissement recevant du public',\n",
       "       \"Règlement de sécurité contre les risques d'incendie et de panique. Etablissements recevant du public\",\n",
       "       \"Code de la construction et de l'habitation\"], dtype=object)"
      ]
     },
     "execution_count": 58,
     "metadata": {},
     "output_type": "execute_result"
    }
   ],
   "source": [
    "df.Source.unique()"
   ]
  },
  {
   "cell_type": "code",
   "execution_count": 59,
   "id": "4e9d9a70-b42f-41d0-a241-b2eb98029749",
   "metadata": {},
   "outputs": [
    {
     "name": "stdout",
     "output_type": "stream",
     "text": [
      "Dataset composé de: 3833 de relations positives (1) entre contexte et contenu\n",
      "Dataset composé de: 8000 de relations entre -1 et 1 entre contenus différents\n"
     ]
    }
   ],
   "source": [
    "import random\n",
    "import numpy as np\n",
    "\n",
    "\n",
    "df_1 = df[(df['Source']!=\"Code de la construction et de l'habitation\") & (df['Source']!=\"Etablissement recevant des travailleurs\")].copy()\n",
    "df_2 = df[df['Source']==\"Code de la construction et de l'habitation\"].copy()\n",
    "df_3 = df[df['Source']==\"Etablissement recevant des travailleurs\"].copy()\n",
    "\n",
    "\n",
    "df_1.reset_index(inplace=True, drop='True')\n",
    "df_2.reset_index(inplace=True, drop='True')\n",
    "\n",
    "def calculate_similarity(context_1, context_2):\n",
    "    context_1_list = context_1.split('.')[:-1]\n",
    "    context_2_list = context_2.split('.')[:-1]\n",
    "    common_levels =  len(list(set(context_1_list).intersection(context_2_list)))\n",
    "    max_levels = np.min([len(context_1_list), len(context_2_list)])\n",
    "    ratio = common_levels/max_levels\n",
    "    return -2 * np.exp(-ratio/0.2) + 1\n",
    "\n",
    "def get_index_list(df_, n):\n",
    "    lst_idx = []\n",
    "    for _ in range(n):\n",
    "        a, b = random.randint(0, len(df_)-1), random.randint(0, len(df_)-1)\n",
    "        while b == a: b = random.randint(0, len(df_)-1)\n",
    "        lst_idx.append((a, b))\n",
    "    return lst_idx\n",
    "\n",
    "list_1_indexes = get_index_list(df_=df_1, n=4000)\n",
    "liste_1 = [{\"sentence1\": df_1.loc[i, 'Contenu'], \"sentence2\": df_1.loc[j, 'Contenu'], \n",
    "            'label': calculate_similarity(df_1.loc[i, 'Contexte'], df_1.loc[j, 'Contexte'])} for i, j in list_1_indexes]\n",
    "\n",
    "list_2_indexes = get_index_list(df_=df_2, n=4000)\n",
    "liste_2 = [{\"sentence1\": df_2.loc[i, 'Contenu'], \"sentence2\": df_2.loc[j, 'Contenu'], \n",
    "            'label': calculate_similarity(df_2.loc[i, 'Contexte'], df_2.loc[i, 'Contexte'])} for i, j in list_2_indexes]\n",
    "\n",
    "data = [*[{\"sentence1\": df_1.loc[i, 'Contexte'], \"sentence2\": df_1.loc[i, 'Contenu'], 'label': 1} for i in range(len(df_1))],\n",
    "        *[{\"sentence1\": df_2.loc[i, 'Contexte'], \"sentence2\": df_2.loc[i, 'Contenu'], 'label': 1} for i in range(len(df_2))],\n",
    "        # *[{\"sentence1\": df_1.loc[i, 'Contexte'], \"sentence2\": df_2.loc[i, 'Contenu'], 'label': -1} for i in range(min(len(df_1), len(df_2)))],\n",
    "        # *[{\"sentence1\": df_2.loc[i, 'Contexte'], \"sentence2\": df_1.loc[i, 'Contenu'], 'label': -1} for i in range(min(len(df_1), len(df_2)))],\n",
    "        # *[{\"sentence1\": df_1.loc[i, 'Contexte'], \"sentence2\": df_2.loc[i, 'Contexte'], 'label': -1} for i in range(min(len(df_1), len(df_2)))],\n",
    "        # *[{\"sentence1\": df_2.loc[i, 'Contenu'], \"sentence2\": df_1.loc[i, 'Contenu'], 'label': -1} for i in range(min(len(df_1), len(df_2)))],\n",
    "        *liste_1, *liste_2]\n",
    "\n",
    "print(f'Dataset composé de: {len(df_1) + len(df_2)} de relations positives (1) entre contexte et contenu')\n",
    "print(f'Dataset composé de: {len(liste_1) + len(liste_2)} de relations entre -1 et 1 entre contenus différents')"
   ]
  },
  {
   "cell_type": "markdown",
   "id": "861ed795-f18d-4d96-b177-9cb2a9ea7fe2",
   "metadata": {},
   "source": [
    "# Construction de la bade de donnees avec label contrastif"
   ]
  },
  {
   "cell_type": "code",
   "execution_count": 60,
   "id": "70737615-65fe-469a-9d41-ded3b7094784",
   "metadata": {},
   "outputs": [],
   "source": [
    "from torch.utils.data import Dataset, DataLoader\n",
    "\n",
    "class ContrastiveDataset(Dataset):\n",
    "    def __init__(self, data, tokenizer, max_len=128):\n",
    "        self.data = data\n",
    "        self.tokenizer = tokenizer\n",
    "        self.max_len = max_len\n",
    "\n",
    "    def __len__(self):\n",
    "        return len(self.data)\n",
    "\n",
    "    def __getitem__(self, index):\n",
    "        row = self.data[index]\n",
    "        tokens = self.tokenizer(row['sentence1'], row['sentence2'], truncation=True, padding='max_length', max_length=self.max_len, return_tensors='pt')\n",
    "        label = torch.tensor(row['label'], dtype=torch.float)\n",
    "        return tokens, label\n",
    "\n",
    "tokenizer = globals()[f'{model_suffix}Tokenizer'].from_pretrained(model_name)\n",
    "dataset = ContrastiveDataset(data, tokenizer)\n",
    "dataloader = DataLoader(dataset, batch_size=16, shuffle=True)\n"
   ]
  },
  {
   "cell_type": "markdown",
   "id": "6bf283bf-9270-49de-b6f1-d7417dca9af3",
   "metadata": {},
   "source": [
    "# Définition du model: XBert + couche de projection"
   ]
  },
  {
   "cell_type": "code",
   "execution_count": 61,
   "id": "67b396ec-eee6-47d2-8932-bdb065f4d631",
   "metadata": {
    "scrolled": true
   },
   "outputs": [
    {
     "name": "stderr",
     "output_type": "stream",
     "text": [
      "Some weights of the model checkpoint at flaubert/flaubert_base_cased were not used when initializing FlaubertModel: ['pred_layer.proj.weight', 'pred_layer.proj.bias']\n",
      "- This IS expected if you are initializing FlaubertModel from the checkpoint of a model trained on another task or with another architecture (e.g. initializing a BertForSequenceClassification model from a BertForPreTraining model).\n",
      "- This IS NOT expected if you are initializing FlaubertModel from the checkpoint of a model that you expect to be exactly identical (initializing a BertForSequenceClassification model from a BertForSequenceClassification model).\n"
     ]
    },
    {
     "data": {
      "text/plain": [
       "ContrastiveModel(\n",
       "  (bert): FlaubertModel(\n",
       "    (position_embeddings): Embedding(512, 768)\n",
       "    (embeddings): Embedding(68729, 768, padding_idx=2)\n",
       "    (layer_norm_emb): LayerNorm((768,), eps=1e-12, elementwise_affine=True)\n",
       "    (attentions): ModuleList(\n",
       "      (0): MultiHeadAttention(\n",
       "        (q_lin): Linear(in_features=768, out_features=768, bias=True)\n",
       "        (k_lin): Linear(in_features=768, out_features=768, bias=True)\n",
       "        (v_lin): Linear(in_features=768, out_features=768, bias=True)\n",
       "        (out_lin): Linear(in_features=768, out_features=768, bias=True)\n",
       "      )\n",
       "      (1): MultiHeadAttention(\n",
       "        (q_lin): Linear(in_features=768, out_features=768, bias=True)\n",
       "        (k_lin): Linear(in_features=768, out_features=768, bias=True)\n",
       "        (v_lin): Linear(in_features=768, out_features=768, bias=True)\n",
       "        (out_lin): Linear(in_features=768, out_features=768, bias=True)\n",
       "      )\n",
       "      (2): MultiHeadAttention(\n",
       "        (q_lin): Linear(in_features=768, out_features=768, bias=True)\n",
       "        (k_lin): Linear(in_features=768, out_features=768, bias=True)\n",
       "        (v_lin): Linear(in_features=768, out_features=768, bias=True)\n",
       "        (out_lin): Linear(in_features=768, out_features=768, bias=True)\n",
       "      )\n",
       "      (3): MultiHeadAttention(\n",
       "        (q_lin): Linear(in_features=768, out_features=768, bias=True)\n",
       "        (k_lin): Linear(in_features=768, out_features=768, bias=True)\n",
       "        (v_lin): Linear(in_features=768, out_features=768, bias=True)\n",
       "        (out_lin): Linear(in_features=768, out_features=768, bias=True)\n",
       "      )\n",
       "      (4): MultiHeadAttention(\n",
       "        (q_lin): Linear(in_features=768, out_features=768, bias=True)\n",
       "        (k_lin): Linear(in_features=768, out_features=768, bias=True)\n",
       "        (v_lin): Linear(in_features=768, out_features=768, bias=True)\n",
       "        (out_lin): Linear(in_features=768, out_features=768, bias=True)\n",
       "      )\n",
       "      (5): MultiHeadAttention(\n",
       "        (q_lin): Linear(in_features=768, out_features=768, bias=True)\n",
       "        (k_lin): Linear(in_features=768, out_features=768, bias=True)\n",
       "        (v_lin): Linear(in_features=768, out_features=768, bias=True)\n",
       "        (out_lin): Linear(in_features=768, out_features=768, bias=True)\n",
       "      )\n",
       "      (6): MultiHeadAttention(\n",
       "        (q_lin): Linear(in_features=768, out_features=768, bias=True)\n",
       "        (k_lin): Linear(in_features=768, out_features=768, bias=True)\n",
       "        (v_lin): Linear(in_features=768, out_features=768, bias=True)\n",
       "        (out_lin): Linear(in_features=768, out_features=768, bias=True)\n",
       "      )\n",
       "      (7): MultiHeadAttention(\n",
       "        (q_lin): Linear(in_features=768, out_features=768, bias=True)\n",
       "        (k_lin): Linear(in_features=768, out_features=768, bias=True)\n",
       "        (v_lin): Linear(in_features=768, out_features=768, bias=True)\n",
       "        (out_lin): Linear(in_features=768, out_features=768, bias=True)\n",
       "      )\n",
       "      (8): MultiHeadAttention(\n",
       "        (q_lin): Linear(in_features=768, out_features=768, bias=True)\n",
       "        (k_lin): Linear(in_features=768, out_features=768, bias=True)\n",
       "        (v_lin): Linear(in_features=768, out_features=768, bias=True)\n",
       "        (out_lin): Linear(in_features=768, out_features=768, bias=True)\n",
       "      )\n",
       "      (9): MultiHeadAttention(\n",
       "        (q_lin): Linear(in_features=768, out_features=768, bias=True)\n",
       "        (k_lin): Linear(in_features=768, out_features=768, bias=True)\n",
       "        (v_lin): Linear(in_features=768, out_features=768, bias=True)\n",
       "        (out_lin): Linear(in_features=768, out_features=768, bias=True)\n",
       "      )\n",
       "      (10): MultiHeadAttention(\n",
       "        (q_lin): Linear(in_features=768, out_features=768, bias=True)\n",
       "        (k_lin): Linear(in_features=768, out_features=768, bias=True)\n",
       "        (v_lin): Linear(in_features=768, out_features=768, bias=True)\n",
       "        (out_lin): Linear(in_features=768, out_features=768, bias=True)\n",
       "      )\n",
       "      (11): MultiHeadAttention(\n",
       "        (q_lin): Linear(in_features=768, out_features=768, bias=True)\n",
       "        (k_lin): Linear(in_features=768, out_features=768, bias=True)\n",
       "        (v_lin): Linear(in_features=768, out_features=768, bias=True)\n",
       "        (out_lin): Linear(in_features=768, out_features=768, bias=True)\n",
       "      )\n",
       "    )\n",
       "    (layer_norm1): ModuleList(\n",
       "      (0): LayerNorm((768,), eps=1e-12, elementwise_affine=True)\n",
       "      (1): LayerNorm((768,), eps=1e-12, elementwise_affine=True)\n",
       "      (2): LayerNorm((768,), eps=1e-12, elementwise_affine=True)\n",
       "      (3): LayerNorm((768,), eps=1e-12, elementwise_affine=True)\n",
       "      (4): LayerNorm((768,), eps=1e-12, elementwise_affine=True)\n",
       "      (5): LayerNorm((768,), eps=1e-12, elementwise_affine=True)\n",
       "      (6): LayerNorm((768,), eps=1e-12, elementwise_affine=True)\n",
       "      (7): LayerNorm((768,), eps=1e-12, elementwise_affine=True)\n",
       "      (8): LayerNorm((768,), eps=1e-12, elementwise_affine=True)\n",
       "      (9): LayerNorm((768,), eps=1e-12, elementwise_affine=True)\n",
       "      (10): LayerNorm((768,), eps=1e-12, elementwise_affine=True)\n",
       "      (11): LayerNorm((768,), eps=1e-12, elementwise_affine=True)\n",
       "    )\n",
       "    (ffns): ModuleList(\n",
       "      (0): TransformerFFN(\n",
       "        (lin1): Linear(in_features=768, out_features=3072, bias=True)\n",
       "        (lin2): Linear(in_features=3072, out_features=768, bias=True)\n",
       "      )\n",
       "      (1): TransformerFFN(\n",
       "        (lin1): Linear(in_features=768, out_features=3072, bias=True)\n",
       "        (lin2): Linear(in_features=3072, out_features=768, bias=True)\n",
       "      )\n",
       "      (2): TransformerFFN(\n",
       "        (lin1): Linear(in_features=768, out_features=3072, bias=True)\n",
       "        (lin2): Linear(in_features=3072, out_features=768, bias=True)\n",
       "      )\n",
       "      (3): TransformerFFN(\n",
       "        (lin1): Linear(in_features=768, out_features=3072, bias=True)\n",
       "        (lin2): Linear(in_features=3072, out_features=768, bias=True)\n",
       "      )\n",
       "      (4): TransformerFFN(\n",
       "        (lin1): Linear(in_features=768, out_features=3072, bias=True)\n",
       "        (lin2): Linear(in_features=3072, out_features=768, bias=True)\n",
       "      )\n",
       "      (5): TransformerFFN(\n",
       "        (lin1): Linear(in_features=768, out_features=3072, bias=True)\n",
       "        (lin2): Linear(in_features=3072, out_features=768, bias=True)\n",
       "      )\n",
       "      (6): TransformerFFN(\n",
       "        (lin1): Linear(in_features=768, out_features=3072, bias=True)\n",
       "        (lin2): Linear(in_features=3072, out_features=768, bias=True)\n",
       "      )\n",
       "      (7): TransformerFFN(\n",
       "        (lin1): Linear(in_features=768, out_features=3072, bias=True)\n",
       "        (lin2): Linear(in_features=3072, out_features=768, bias=True)\n",
       "      )\n",
       "      (8): TransformerFFN(\n",
       "        (lin1): Linear(in_features=768, out_features=3072, bias=True)\n",
       "        (lin2): Linear(in_features=3072, out_features=768, bias=True)\n",
       "      )\n",
       "      (9): TransformerFFN(\n",
       "        (lin1): Linear(in_features=768, out_features=3072, bias=True)\n",
       "        (lin2): Linear(in_features=3072, out_features=768, bias=True)\n",
       "      )\n",
       "      (10): TransformerFFN(\n",
       "        (lin1): Linear(in_features=768, out_features=3072, bias=True)\n",
       "        (lin2): Linear(in_features=3072, out_features=768, bias=True)\n",
       "      )\n",
       "      (11): TransformerFFN(\n",
       "        (lin1): Linear(in_features=768, out_features=3072, bias=True)\n",
       "        (lin2): Linear(in_features=3072, out_features=768, bias=True)\n",
       "      )\n",
       "    )\n",
       "    (layer_norm2): ModuleList(\n",
       "      (0): LayerNorm((768,), eps=1e-12, elementwise_affine=True)\n",
       "      (1): LayerNorm((768,), eps=1e-12, elementwise_affine=True)\n",
       "      (2): LayerNorm((768,), eps=1e-12, elementwise_affine=True)\n",
       "      (3): LayerNorm((768,), eps=1e-12, elementwise_affine=True)\n",
       "      (4): LayerNorm((768,), eps=1e-12, elementwise_affine=True)\n",
       "      (5): LayerNorm((768,), eps=1e-12, elementwise_affine=True)\n",
       "      (6): LayerNorm((768,), eps=1e-12, elementwise_affine=True)\n",
       "      (7): LayerNorm((768,), eps=1e-12, elementwise_affine=True)\n",
       "      (8): LayerNorm((768,), eps=1e-12, elementwise_affine=True)\n",
       "      (9): LayerNorm((768,), eps=1e-12, elementwise_affine=True)\n",
       "      (10): LayerNorm((768,), eps=1e-12, elementwise_affine=True)\n",
       "      (11): LayerNorm((768,), eps=1e-12, elementwise_affine=True)\n",
       "    )\n",
       "  )\n",
       "  (projection): Sequential(\n",
       "    (0): Linear(in_features=768, out_features=768, bias=True)\n",
       "    (1): ReLU()\n",
       "    (2): Linear(in_features=768, out_features=768, bias=True)\n",
       "  )\n",
       ")"
      ]
     },
     "execution_count": 61,
     "metadata": {},
     "output_type": "execute_result"
    }
   ],
   "source": [
    "import torch.nn as nn\n",
    "\n",
    "class ContrastiveModel(nn.Module):\n",
    "    def __init__(self, model_name=model_name, embedding_dim=text_embeddings.shape[1]):\n",
    "        super(ContrastiveModel, self).__init__()\n",
    "        self.bert = globals()[f'{model_suffix}Model'].from_pretrained(model_name)\n",
    "        self.projection = nn.Sequential(\n",
    "            nn.Linear(self.bert.config.hidden_size, embedding_dim),\n",
    "            nn.ReLU(),\n",
    "            nn.Linear(embedding_dim, embedding_dim)\n",
    "        )\n",
    "\n",
    "    def forward(self, input_ids, attention_mask):\n",
    "        outputs = self.bert(input_ids=input_ids, attention_mask=attention_mask)\n",
    "        embeddings = outputs.last_hidden_state[:, 0] \n",
    "        return self.projection(embeddings)\n",
    "\n",
    "model_C = ContrastiveModel()\n",
    "model_C.to(device)"
   ]
  },
  {
   "cell_type": "markdown",
   "id": "5394d6d9-43fe-4e01-a859-21634e78232b",
   "metadata": {},
   "source": [
    "# Définition de la fonction perte: MSE"
   ]
  },
  {
   "cell_type": "code",
   "execution_count": 62,
   "id": "08308559-566d-4066-9d76-ab99a202374c",
   "metadata": {},
   "outputs": [],
   "source": [
    "import torch.nn.functional as F\n",
    "\n",
    "def contrastive_loss(embeddings1, embeddings2, labels, margin=1.0):\n",
    "    cosine_sim = F.cosine_similarity(embeddings1, embeddings2)\n",
    "    loss = torch.mean((cosine_sim - labels) ** 2)\n",
    "    return loss"
   ]
  },
  {
   "cell_type": "markdown",
   "id": "98e8b963-bb89-40c9-ad86-dacf12c97cdd",
   "metadata": {},
   "source": [
    "# Entrainement"
   ]
  },
  {
   "cell_type": "code",
   "execution_count": 63,
   "id": "cf6eaced-297a-47ca-b607-1b97abe1cd4c",
   "metadata": {},
   "outputs": [
    {
     "name": "stdout",
     "output_type": "stream",
     "text": [
      "Epoch 1 Loss: 0.2444411665201187\n",
      "Epoch 2 Loss: 0.03072589635848999\n"
     ]
    }
   ],
   "source": [
    "from torch.optim import AdamW\n",
    "\n",
    "optimizer = AdamW(model.parameters(), lr=5e-5)\n",
    "n_epochs = 2\n",
    "for epoch in range(n_epochs):\n",
    "    model_C.train()\n",
    "    for batch in dataloader:\n",
    "        tokens, labels = batch\n",
    "        input_ids = tokens['input_ids'].squeeze(1).to(device)\n",
    "        attention_mask = tokens['attention_mask'].squeeze(1).to(device)\n",
    "        labels = labels.to(device)\n",
    "\n",
    "        embeddings1 = model_C(input_ids, attention_mask)\n",
    "        embeddings2 = model_C(input_ids, attention_mask)\n",
    "\n",
    "        loss = contrastive_loss(embeddings1, embeddings2, labels)\n",
    "        optimizer.zero_grad()\n",
    "        loss.backward()\n",
    "        optimizer.step()\n",
    "\n",
    "    print(f\"Epoch {epoch + 1} Loss: {loss.item()}\")"
   ]
  },
  {
   "cell_type": "markdown",
   "id": "968a649e-0389-4808-a1f2-5c96630cfb21",
   "metadata": {},
   "source": [
    "# Construction matrice de similarité nouveaux embedding"
   ]
  },
  {
   "cell_type": "code",
   "execution_count": 64,
   "id": "c2833abe-65be-449c-8da6-c4caedc613ff",
   "metadata": {},
   "outputs": [
    {
     "name": "stdout",
     "output_type": "stream",
     "text": [
      "Processed: 4132: 100%|█████████████████████████████████████████████████████████████| 4132/4132 [01:04<00:00, 64.35it/s]\n",
      "Text embeddings done.\n",
      "Processed: 4132: 100%|█████████████████████████████████████████████████████████████| 4132/4132 [01:05<00:00, 62.67it/s]\n",
      "Context embeddings done.\n",
      "Cosine similarities calculated.\n"
     ]
    }
   ],
   "source": [
    "def embed_text(query, model, tokenizer, device):\n",
    "    model_C.eval()\n",
    "    tokens = tokenizer(query, padding=True, truncation=True, max_length=512, return_tensors=\"pt\").to(device)\n",
    "    with torch.no_grad():\n",
    "        output = model_C(tokens['input_ids'], tokens['attention_mask'])\n",
    "    embeddings = output[0]\n",
    "    if len(embeddings.shape) == 1:\n",
    "        return embeddings  \n",
    "    else:\n",
    "        return embeddings.mean(dim=1)  \n",
    " \n",
    "\n",
    "def process_embeddings(data, model_, tokenizer, device):\n",
    "    embeddings = []\n",
    "    with tqdm(total=len(data), file=sys.stdout) as prog_bar:\n",
    "        for i in range(len(data)):\n",
    "            embeddings.append(embed_text(data[i], model_, tokenizer, device))\n",
    "            prog_bar.set_description('Processed: %d' % (i + 1))\n",
    "            prog_bar.update(1)\n",
    "    return torch.stack(embeddings)  \n",
    "\n",
    "query_embeddings = embed_text(user_query, model, tokenizer, device)\n",
    "query_embeddings = query_embeddings.to(device)\n",
    "\n",
    "text_embeddings_finetuned = process_embeddings(texts_, model_C, tokenizer, device)\n",
    "print(\"Text embeddings done.\")\n",
    "\n",
    "context_embeddings_finetuned = process_embeddings(contexts, model_C, tokenizer, device)\n",
    "print(\"Context embeddings done.\")\n",
    "\n",
    "\n",
    "similarities = torch.nn.functional.cosine_similarity(query_embeddings, text_embeddings_finetuned, dim=1)\n",
    "print(\"Cosine similarities calculated.\")"
   ]
  },
  {
   "cell_type": "code",
   "execution_count": 65,
   "id": "bfcf7463-c129-4b34-bc82-5dabde9b5d12",
   "metadata": {},
   "outputs": [
    {
     "name": "stdout",
     "output_type": "stream",
     "text": [
      "User query: Je dois faire des modification dans un établissement recevant le public. Par qui l'autorisation est elle délivrée\n",
      "\n",
      "\n",
      "------------------------------------------------------------------------------------------------------------------------\n",
      "Cosine Similarity: 0.6734\n",
      "\n",
      "Source plus proche:Code de la construction et de l'habitation\n",
      "\n",
      " Contexte: Code de la construction et de l'habitation.x. Article R311-55.x. Aides diverses à la construction d'habitations et à l'amélioration de l'habitat - Aide personnalisée au logement..x. Mesures tendant à favoriser la construction d'habitations..x. Sociétés coopératives de construction..x. Agrément des contrôleurs techniques.x. Diagnostic portant sur les déchets issus de rénovations et de démolitions.x. Primes convertibles et prêts spéciaux destinés au financement d'immeubles à loyer moyen..x. Modifié par Décret n°2019-873 du 21 août 2019 - art. 4.x. \n",
      "\n",
      "Texte: Les logements doivent être loués nus par bail écrit.  Les conditions auxquelles les baux doivent satisfaire sont fixées par l arrêté prévu àl article  R.311-52;  elles sont rappelées dans le contrat de prêt.\n",
      "------------------------------------------------------------------------------------------------------------------------\n",
      "Cosine Similarity: 0.6572\n",
      "\n",
      "Source plus proche:Code de la construction et de l'habitation\n",
      "\n",
      " Contexte: Code de la construction et de l'habitation.x. Article R261-27.x. Statut des constructeurs..x. Ventes d'immeubles à construire ou à rénover..x. Sociétés coopératives de construction..x. Agrément des contrôleurs techniques.x. Diagnostic portant sur les déchets issus de rénovations et de démolitions.x. Modifié par Décret n°2019-873 du 21 août 2019 - art. 4.x. \n",
      "\n",
      "Texte: Le contrat préliminaire est établi par écrit ;  un exemplaire doit en être remis au réservataire avant tout dépôt de fonds.  Il doit obligatoirement reproduire les dispositions desarticles  R.261-28 à  R.261-31.\n",
      "------------------------------------------------------------------------------------------------------------------------\n",
      "Cosine Similarity: 0.6540\n",
      "\n",
      "Source plus proche:Etablissement recevant des travailleurs\n",
      "\n",
      " Contexte: Etablissement recevant des travailleurs.x. Obligations de l'employeur pour l'utilisation des lieux de travail  (Articles R4221-1 à R4228-37).x. Éclairage, ambiance thermique (Articles R4223-1 à R4223-15).x. Éclairage (Articles R4223-1 à R4223-12).x. Article R4223-2.x. Créé par Décret n°2008-244 du 7 mars 2008 - art. (V).x. \n",
      "\n",
      "Texte: L éclairage est assuré de manière à : 1°  Eviter la fatigue visuelle et les affections de la vue qui en résultent ; 2°  Permettre de déceler les risques perceptibles par la vue.\n"
     ]
    }
   ],
   "source": [
    "top_k = 3\n",
    "top_k_indices = torch.argsort(similarities, descending=True)[:top_k]\n",
    "print(f\"User query: {user_query}\\n\\n\")\n",
    "\n",
    "for idx in top_k_indices:\n",
    "    idx = idx.item() \n",
    "    text = df.loc[idx, 'Contenu']\n",
    "    context = df.loc[idx, 'Contexte']\n",
    "    source = df.loc[idx, 'Source']\n",
    "    similarity_coeff = similarities[idx]\n",
    "    print('-' * 120)\n",
    "    print(f\"Cosine Similarity: {similarity_coeff:.4f}\\n\\nSource plus proche:{df.loc[idx, 'Source']}\\n\\n Contexte: {df.loc[idx, 'Contexte']}\")\n",
    "    print(f\"\\nTexte: {df.loc[idx, 'Contenu']}\")"
   ]
  },
  {
   "cell_type": "markdown",
   "id": "ff22e9cd-0b89-4031-b48e-2e322263d272",
   "metadata": {},
   "source": [
    "# Evaluation des transformations de l'embedding"
   ]
  },
  {
   "cell_type": "code",
   "execution_count": 66,
   "id": "b2bd20f1-1ae3-439e-bf84-74041404e3bf",
   "metadata": {},
   "outputs": [
    {
     "data": {
      "image/png": "[encoded data removed]",
      "text/plain": [
       "<Figure size 500x300 with 1 Axes>"
      ]
     },
     "metadata": {},
     "output_type": "display_data"
    }
   ],
   "source": [
    "from sklearn.decomposition import PCA\n",
    "import matplotlib.pyplot as plt\n",
    "from collections import Counter\n",
    "from nltk.corpus import stopwords\n",
    "import re\n",
    "\n",
    "    \n",
    "stop_words = set(stopwords.words('french'))\n",
    "\n",
    "\n",
    "def embed_text_(query, model, tokenizer, device):\n",
    "    model_C.eval()\n",
    "    tokens = tokenizer(query, padding=True, truncation=True, max_length=512, return_tensors=\"pt\").to(device)\n",
    "    with torch.no_grad():\n",
    "        output = model_C(tokens['input_ids'], tokens['attention_mask'])\n",
    "    return output[0].squeeze(0)\n",
    "\n",
    "list_mots = [mot for mot in re.split(r\"[^\\w']+\", ' '.join(texts_).lower()) if (mot.lower() not in stop_words) & (len(mot)>3)]\n",
    "    \n",
    "comptage_mots = Counter(list_mots)\n",
    "mots_plus_frequents = [mot for mot, _ in comptage_mots.most_common(10)]\n",
    "\n",
    "\n",
    "pca = PCA(n_components=2)\n",
    "embeddings_avant_2d = pca.fit_transform(text_embeddings.cpu().numpy())\n",
    "embeddings_apres_2d = pca.transform(text_embeddings_finetuned.cpu().numpy())\n",
    "\n",
    "mots_plus_frequents_embeddings_avant = []\n",
    "mots_plus_frequents_embeddings_apres = []\n",
    "for mot in mots_plus_frequents:\n",
    "    mot_embedding_avant = get_embeddings(mot)\n",
    "    mot_embedding_apres = embed_text_(mot, model_C, tokenizer, device)\n",
    "    \n",
    "    mots_plus_frequents_embeddings_avant.append(mot_embedding_avant)\n",
    "    mots_plus_frequents_embeddings_apres.append(mot_embedding_apres)\n",
    "\n",
    "mots_plus_frequents_embeddings_avant = torch.cat(mots_plus_frequents_embeddings_avant, dim=0)\n",
    "mots_plus_frequents_embeddings_apres = torch.cat(mots_plus_frequents_embeddings_apres, dim=0)\n",
    "\n",
    "embeddings_plus_frequent_avant_2d = pca.transform(mots_plus_frequents_embeddings_avant.cpu().numpy())\n",
    "embeddings_plus_frequent_apres_2d = pca.transform(mots_plus_frequents_embeddings_apres.cpu().numpy().reshape(10, 768))\n",
    "\n",
    "plt.figure(figsize=(5, 3))\n",
    "plt.scatter(embeddings_plus_frequent_avant_2d[:, 0], embeddings_plus_frequent_avant_2d[:, 1], color='blue', label='Avant finetuning')\n",
    "plt.scatter(embeddings_plus_frequent_apres_2d[:, 0], embeddings_plus_frequent_apres_2d[:, 1], color='red', label='Après finetuning')\n",
    "\n",
    "for i, mot in enumerate(mots_plus_frequents):\n",
    "    plt.annotate(mot, (embeddings_plus_frequent_avant_2d[i, 0], embeddings_plus_frequent_avant_2d[i, 1]), color='blue')\n",
    "    plt.annotate(mot, (embeddings_plus_frequent_apres_2d[i, 0], embeddings_plus_frequent_apres_2d[i, 1]), color='red')\n",
    "\n",
    "plt.xlabel('Composante principale 1')\n",
    "plt.ylabel('Composante principale 2')\n",
    "plt.title('Comparaison des embeddings avant et après finetuning avec PCA')\n",
    "plt.legend()\n",
    "plt.grid()\n",
    "plt.show()"
   ]
  },
  {
   "cell_type": "code",
   "execution_count": 67,
   "id": "74dbf81d-c598-434a-98e6-d5c40f17e8a7",
   "metadata": {},
   "outputs": [
    {
     "name": "stdout",
     "output_type": "stream",
     "text": [
      "{'ouvrages', 'ouvrage'}\n"
     ]
    }
   ],
   "source": [
    "recherche = 'ouvrage'\n",
    "print(set([item for item in list_mots if recherche in item]))"
   ]
  },
  {
   "cell_type": "code",
   "execution_count": 73,
   "id": "71eb5c5b-849d-42fd-9b42-e2a12546a14e",
   "metadata": {},
   "outputs": [],
   "source": [
    "# comptage_mots"
   ]
  },
  {
   "cell_type": "code",
   "execution_count": 69,
   "id": "d5c179d6-99ac-4a41-bab0-15292efd6ecc",
   "metadata": {},
   "outputs": [
    {
     "name": "stdout",
     "output_type": "stream",
     "text": [
      "7680\n"
     ]
    },
    {
     "data": {
      "text/plain": [
       "torch.Tensor"
      ]
     },
     "execution_count": 69,
     "metadata": {},
     "output_type": "execute_result"
    }
   ],
   "source": [
    "print(len(mots_plus_frequents_embeddings_apres))\n",
    "type(mots_plus_frequents_embeddings_apres[0])"
   ]
  },
  {
   "cell_type": "markdown",
   "id": "168f2701-6318-4dd7-a7f1-8053eed1f6cb",
   "metadata": {},
   "source": [
    "# Enregistrement du modèle"
   ]
  },
  {
   "cell_type": "code",
   "execution_count": 70,
   "id": "0391b0c2-806a-4e75-b931-e44b0ac4296a",
   "metadata": {},
   "outputs": [],
   "source": [
    "from transformers import AutoConfig\n",
    "\n",
    "config = AutoConfig.from_pretrained(model_name)\n",
    "config.vocab_size = tokenizer.vocab_size\n",
    "config.save_pretrained('./finetuned/model')\n",
    "\n",
    "tokenizer.save_pretrained('./finetuned/model')\n",
    "torch.save(model.state_dict(), './finetuned/contrastive_model.pth')\n",
    "\n",
    "df_embeddings = pd.DataFrame({\n",
    "    'Text': [*texts_, *contexts],\n",
    "    'Embedding': [embedding.tolist() for embedding in (*text_embeddings.to('cpu'), *context_embeddings.to('cpu'))], \n",
    "})\n",
    "df_embeddings.to_csv('./finetuned/embedding_matrix.csv', index=False)"
   ]
  },
  {
   "cell_type": "markdown",
   "id": "6db26dfc-05bb-405c-8a38-f80f8a79d40e",
   "metadata": {},
   "source": [
    "# Mise en place du RAG:\n",
    "- Utilisation de faiss alimenté par l'embedding réentrainé pour le retriver\n",
    "- Utilisation de AutoModelForSeq2SeqLM \"t5-base\" por le generateur"
   ]
  },
  {
   "cell_type": "code",
   "execution_count": 71,
   "id": "eb543d5b-ff61-45f0-93b3-9adb2b09aa2c",
   "metadata": {},
   "outputs": [
    {
     "name": "stderr",
     "output_type": "stream",
     "text": [
      "Some weights of the model checkpoint at flaubert/flaubert_base_cased were not used when initializing FlaubertModel: ['pred_layer.proj.weight', 'pred_layer.proj.bias']\n",
      "- This IS expected if you are initializing FlaubertModel from the checkpoint of a model trained on another task or with another architecture (e.g. initializing a BertForSequenceClassification model from a BertForPreTraining model).\n",
      "- This IS NOT expected if you are initializing FlaubertModel from the checkpoint of a model that you expect to be exactly identical (initializing a BertForSequenceClassification model from a BertForSequenceClassification model).\n"
     ]
    },
    {
     "name": "stdout",
     "output_type": "stream",
     "text": [
      "Index construit avec 8264 documents.\n"
     ]
    }
   ],
   "source": [
    "from transformers import AutoTokenizer, AutoModel\n",
    "import faiss\n",
    "import ast\n",
    "\n",
    "tokenizer = AutoTokenizer.from_pretrained('./finetuned/model')\n",
    "model_loaded = ContrastiveModel()  \n",
    "model_loaded.load_state_dict(torch.load('./finetuned/contrastive_model.pth'), strict=False)\n",
    "model_loaded.eval().to('cuda' if torch.cuda.is_available() else 'cpu')\n",
    "\n",
    "\n",
    "df_embeddings = pd.read_csv('./finetuned/embedding_matrix.csv')\n",
    "df_embeddings['Embedding'] = df_embeddings['Embedding'].apply(ast.literal_eval)\n",
    "texts = df_embeddings['Text'].tolist()\n",
    "embeddings = torch.tensor(df_embeddings['Embedding'].tolist())\n",
    "\n",
    "\n",
    "index = faiss.IndexFlatL2(embeddings.shape[1]) \n",
    "index.add(embeddings.numpy()) \n",
    "\n",
    "print(f\"Index construit avec {index.ntotal} documents.\")"
   ]
  },
  {
   "cell_type": "code",
   "execution_count": 78,
   "id": "2107b007-0692-4cf6-8416-f2381203ee40",
   "metadata": {
    "scrolled": true
   },
   "outputs": [
    {
     "ename": "ConnectionError",
     "evalue": "Connection error caused by: ConnectionError(Connection error caused by: ProtocolError(('Connection aborted.', RemoteDisconnected('Remote end closed connection without response'))))",
     "output_type": "error",
     "traceback": [
      "\u001b[1;31m---------------------------------------------------------------------------\u001b[0m",
      "\u001b[1;31mRemoteDisconnected\u001b[0m                        Traceback (most recent call last)",
      "File \u001b[1;32m~\\anaconda3\\envs\\gpu_pytorch\\lib\\site-packages\\urllib3\\connectionpool.py:787\u001b[0m, in \u001b[0;36mHTTPConnectionPool.urlopen\u001b[1;34m(self, method, url, body, headers, retries, redirect, assert_same_host, timeout, pool_timeout, release_conn, chunked, body_pos, preload_content, decode_content, **response_kw)\u001b[0m\n\u001b[0;32m    786\u001b[0m \u001b[38;5;66;03m# Make the request on the HTTPConnection object\u001b[39;00m\n\u001b[1;32m--> 787\u001b[0m response \u001b[38;5;241m=\u001b[39m \u001b[38;5;28mself\u001b[39m\u001b[38;5;241m.\u001b[39m_make_request(\n\u001b[0;32m    788\u001b[0m     conn,\n\u001b[0;32m    789\u001b[0m     method,\n\u001b[0;32m    790\u001b[0m     url,\n\u001b[0;32m    791\u001b[0m     timeout\u001b[38;5;241m=\u001b[39mtimeout_obj,\n\u001b[0;32m    792\u001b[0m     body\u001b[38;5;241m=\u001b[39mbody,\n\u001b[0;32m    793\u001b[0m     headers\u001b[38;5;241m=\u001b[39mheaders,\n\u001b[0;32m    794\u001b[0m     chunked\u001b[38;5;241m=\u001b[39mchunked,\n\u001b[0;32m    795\u001b[0m     retries\u001b[38;5;241m=\u001b[39mretries,\n\u001b[0;32m    796\u001b[0m     response_conn\u001b[38;5;241m=\u001b[39mresponse_conn,\n\u001b[0;32m    797\u001b[0m     preload_content\u001b[38;5;241m=\u001b[39mpreload_content,\n\u001b[0;32m    798\u001b[0m     decode_content\u001b[38;5;241m=\u001b[39mdecode_content,\n\u001b[0;32m    799\u001b[0m     \u001b[38;5;241m*\u001b[39m\u001b[38;5;241m*\u001b[39mresponse_kw,\n\u001b[0;32m    800\u001b[0m )\n\u001b[0;32m    802\u001b[0m \u001b[38;5;66;03m# Everything went great!\u001b[39;00m\n",
      "File \u001b[1;32m~\\anaconda3\\envs\\gpu_pytorch\\lib\\site-packages\\urllib3\\connectionpool.py:534\u001b[0m, in \u001b[0;36mHTTPConnectionPool._make_request\u001b[1;34m(self, conn, method, url, body, headers, retries, timeout, chunked, response_conn, preload_content, decode_content, enforce_content_length)\u001b[0m\n\u001b[0;32m    533\u001b[0m \u001b[38;5;28;01mtry\u001b[39;00m:\n\u001b[1;32m--> 534\u001b[0m     response \u001b[38;5;241m=\u001b[39m \u001b[43mconn\u001b[49m\u001b[38;5;241;43m.\u001b[39;49m\u001b[43mgetresponse\u001b[49m\u001b[43m(\u001b[49m\u001b[43m)\u001b[49m\n\u001b[0;32m    535\u001b[0m \u001b[38;5;28;01mexcept\u001b[39;00m (BaseSSLError, \u001b[38;5;167;01mOSError\u001b[39;00m) \u001b[38;5;28;01mas\u001b[39;00m e:\n",
      "File \u001b[1;32m~\\anaconda3\\envs\\gpu_pytorch\\lib\\site-packages\\urllib3\\connection.py:516\u001b[0m, in \u001b[0;36mHTTPConnection.getresponse\u001b[1;34m(self)\u001b[0m\n\u001b[0;32m    515\u001b[0m \u001b[38;5;66;03m# Get the response from http.client.HTTPConnection\u001b[39;00m\n\u001b[1;32m--> 516\u001b[0m httplib_response \u001b[38;5;241m=\u001b[39m \u001b[38;5;28;43msuper\u001b[39;49m\u001b[43m(\u001b[49m\u001b[43m)\u001b[49m\u001b[38;5;241;43m.\u001b[39;49m\u001b[43mgetresponse\u001b[49m\u001b[43m(\u001b[49m\u001b[43m)\u001b[49m\n\u001b[0;32m    518\u001b[0m \u001b[38;5;28;01mtry\u001b[39;00m:\n",
      "File \u001b[1;32m~\\anaconda3\\envs\\gpu_pytorch\\lib\\http\\client.py:1377\u001b[0m, in \u001b[0;36mHTTPConnection.getresponse\u001b[1;34m(self)\u001b[0m\n\u001b[0;32m   1376\u001b[0m \u001b[38;5;28;01mtry\u001b[39;00m:\n\u001b[1;32m-> 1377\u001b[0m     \u001b[43mresponse\u001b[49m\u001b[38;5;241;43m.\u001b[39;49m\u001b[43mbegin\u001b[49m\u001b[43m(\u001b[49m\u001b[43m)\u001b[49m\n\u001b[0;32m   1378\u001b[0m \u001b[38;5;28;01mexcept\u001b[39;00m \u001b[38;5;167;01mConnectionError\u001b[39;00m:\n",
      "File \u001b[1;32m~\\anaconda3\\envs\\gpu_pytorch\\lib\\http\\client.py:320\u001b[0m, in \u001b[0;36mHTTPResponse.begin\u001b[1;34m(self)\u001b[0m\n\u001b[0;32m    319\u001b[0m \u001b[38;5;28;01mwhile\u001b[39;00m \u001b[38;5;28;01mTrue\u001b[39;00m:\n\u001b[1;32m--> 320\u001b[0m     version, status, reason \u001b[38;5;241m=\u001b[39m \u001b[38;5;28;43mself\u001b[39;49m\u001b[38;5;241;43m.\u001b[39;49m\u001b[43m_read_status\u001b[49m\u001b[43m(\u001b[49m\u001b[43m)\u001b[49m\n\u001b[0;32m    321\u001b[0m     \u001b[38;5;28;01mif\u001b[39;00m status \u001b[38;5;241m!=\u001b[39m CONTINUE:\n",
      "File \u001b[1;32m~\\anaconda3\\envs\\gpu_pytorch\\lib\\http\\client.py:289\u001b[0m, in \u001b[0;36mHTTPResponse._read_status\u001b[1;34m(self)\u001b[0m\n\u001b[0;32m    286\u001b[0m \u001b[38;5;28;01mif\u001b[39;00m \u001b[38;5;129;01mnot\u001b[39;00m line:\n\u001b[0;32m    287\u001b[0m     \u001b[38;5;66;03m# Presumably, the server closed the connection before\u001b[39;00m\n\u001b[0;32m    288\u001b[0m     \u001b[38;5;66;03m# sending a valid response.\u001b[39;00m\n\u001b[1;32m--> 289\u001b[0m     \u001b[38;5;28;01mraise\u001b[39;00m RemoteDisconnected(\u001b[38;5;124m\"\u001b[39m\u001b[38;5;124mRemote end closed connection without\u001b[39m\u001b[38;5;124m\"\u001b[39m\n\u001b[0;32m    290\u001b[0m                              \u001b[38;5;124m\"\u001b[39m\u001b[38;5;124m response\u001b[39m\u001b[38;5;124m\"\u001b[39m)\n\u001b[0;32m    291\u001b[0m \u001b[38;5;28;01mtry\u001b[39;00m:\n",
      "\u001b[1;31mRemoteDisconnected\u001b[0m: Remote end closed connection without response",
      "\nDuring handling of the above exception, another exception occurred:\n",
      "\u001b[1;31mProtocolError\u001b[0m                             Traceback (most recent call last)",
      "File \u001b[1;32m~\\anaconda3\\envs\\gpu_pytorch\\lib\\site-packages\\elastic_transport\\_node\\_http_urllib3.py:167\u001b[0m, in \u001b[0;36mUrllib3HttpNode.perform_request\u001b[1;34m(self, method, target, body, headers, request_timeout)\u001b[0m\n\u001b[0;32m    165\u001b[0m     body_to_send \u001b[38;5;241m=\u001b[39m \u001b[38;5;28;01mNone\u001b[39;00m\n\u001b[1;32m--> 167\u001b[0m response \u001b[38;5;241m=\u001b[39m \u001b[38;5;28mself\u001b[39m\u001b[38;5;241m.\u001b[39mpool\u001b[38;5;241m.\u001b[39murlopen(\n\u001b[0;32m    168\u001b[0m     method,\n\u001b[0;32m    169\u001b[0m     target,\n\u001b[0;32m    170\u001b[0m     body\u001b[38;5;241m=\u001b[39mbody_to_send,\n\u001b[0;32m    171\u001b[0m     retries\u001b[38;5;241m=\u001b[39mRetry(\u001b[38;5;28;01mFalse\u001b[39;00m),\n\u001b[0;32m    172\u001b[0m     headers\u001b[38;5;241m=\u001b[39mrequest_headers,\n\u001b[0;32m    173\u001b[0m     \u001b[38;5;241m*\u001b[39m\u001b[38;5;241m*\u001b[39mkw,  \u001b[38;5;66;03m# type: ignore[arg-type]\u001b[39;00m\n\u001b[0;32m    174\u001b[0m )\n\u001b[0;32m    175\u001b[0m response_headers \u001b[38;5;241m=\u001b[39m HttpHeaders(response\u001b[38;5;241m.\u001b[39mheaders)\n",
      "File \u001b[1;32m~\\anaconda3\\envs\\gpu_pytorch\\lib\\site-packages\\urllib3\\connectionpool.py:841\u001b[0m, in \u001b[0;36mHTTPConnectionPool.urlopen\u001b[1;34m(self, method, url, body, headers, retries, redirect, assert_same_host, timeout, pool_timeout, release_conn, chunked, body_pos, preload_content, decode_content, **response_kw)\u001b[0m\n\u001b[0;32m    839\u001b[0m     new_e \u001b[38;5;241m=\u001b[39m ProtocolError(\u001b[38;5;124m\"\u001b[39m\u001b[38;5;124mConnection aborted.\u001b[39m\u001b[38;5;124m\"\u001b[39m, new_e)\n\u001b[1;32m--> 841\u001b[0m retries \u001b[38;5;241m=\u001b[39m \u001b[43mretries\u001b[49m\u001b[38;5;241;43m.\u001b[39;49m\u001b[43mincrement\u001b[49m\u001b[43m(\u001b[49m\n\u001b[0;32m    842\u001b[0m \u001b[43m    \u001b[49m\u001b[43mmethod\u001b[49m\u001b[43m,\u001b[49m\u001b[43m \u001b[49m\u001b[43murl\u001b[49m\u001b[43m,\u001b[49m\u001b[43m \u001b[49m\u001b[43merror\u001b[49m\u001b[38;5;241;43m=\u001b[39;49m\u001b[43mnew_e\u001b[49m\u001b[43m,\u001b[49m\u001b[43m \u001b[49m\u001b[43m_pool\u001b[49m\u001b[38;5;241;43m=\u001b[39;49m\u001b[38;5;28;43mself\u001b[39;49m\u001b[43m,\u001b[49m\u001b[43m \u001b[49m\u001b[43m_stacktrace\u001b[49m\u001b[38;5;241;43m=\u001b[39;49m\u001b[43msys\u001b[49m\u001b[38;5;241;43m.\u001b[39;49m\u001b[43mexc_info\u001b[49m\u001b[43m(\u001b[49m\u001b[43m)\u001b[49m\u001b[43m[\u001b[49m\u001b[38;5;241;43m2\u001b[39;49m\u001b[43m]\u001b[49m\n\u001b[0;32m    843\u001b[0m \u001b[43m\u001b[49m\u001b[43m)\u001b[49m\n\u001b[0;32m    844\u001b[0m retries\u001b[38;5;241m.\u001b[39msleep()\n",
      "File \u001b[1;32m~\\anaconda3\\envs\\gpu_pytorch\\lib\\site-packages\\urllib3\\util\\retry.py:449\u001b[0m, in \u001b[0;36mRetry.increment\u001b[1;34m(self, method, url, response, error, _pool, _stacktrace)\u001b[0m\n\u001b[0;32m    447\u001b[0m \u001b[38;5;28;01mif\u001b[39;00m \u001b[38;5;28mself\u001b[39m\u001b[38;5;241m.\u001b[39mtotal \u001b[38;5;129;01mis\u001b[39;00m \u001b[38;5;28;01mFalse\u001b[39;00m \u001b[38;5;129;01mand\u001b[39;00m error:\n\u001b[0;32m    448\u001b[0m     \u001b[38;5;66;03m# Disabled, indicate to re-raise the error.\u001b[39;00m\n\u001b[1;32m--> 449\u001b[0m     \u001b[38;5;28;01mraise\u001b[39;00m \u001b[43mreraise\u001b[49m\u001b[43m(\u001b[49m\u001b[38;5;28;43mtype\u001b[39;49m\u001b[43m(\u001b[49m\u001b[43merror\u001b[49m\u001b[43m)\u001b[49m\u001b[43m,\u001b[49m\u001b[43m \u001b[49m\u001b[43merror\u001b[49m\u001b[43m,\u001b[49m\u001b[43m \u001b[49m\u001b[43m_stacktrace\u001b[49m\u001b[43m)\u001b[49m\n\u001b[0;32m    451\u001b[0m total \u001b[38;5;241m=\u001b[39m \u001b[38;5;28mself\u001b[39m\u001b[38;5;241m.\u001b[39mtotal\n",
      "File \u001b[1;32m~\\anaconda3\\envs\\gpu_pytorch\\lib\\site-packages\\urllib3\\util\\util.py:38\u001b[0m, in \u001b[0;36mreraise\u001b[1;34m(tp, value, tb)\u001b[0m\n\u001b[0;32m     37\u001b[0m \u001b[38;5;28;01mif\u001b[39;00m value\u001b[38;5;241m.\u001b[39m__traceback__ \u001b[38;5;129;01mis\u001b[39;00m \u001b[38;5;129;01mnot\u001b[39;00m tb:\n\u001b[1;32m---> 38\u001b[0m     \u001b[38;5;28;01mraise\u001b[39;00m value\u001b[38;5;241m.\u001b[39mwith_traceback(tb)\n\u001b[0;32m     39\u001b[0m \u001b[38;5;28;01mraise\u001b[39;00m value\n",
      "File \u001b[1;32m~\\anaconda3\\envs\\gpu_pytorch\\lib\\site-packages\\urllib3\\connectionpool.py:787\u001b[0m, in \u001b[0;36mHTTPConnectionPool.urlopen\u001b[1;34m(self, method, url, body, headers, retries, redirect, assert_same_host, timeout, pool_timeout, release_conn, chunked, body_pos, preload_content, decode_content, **response_kw)\u001b[0m\n\u001b[0;32m    786\u001b[0m \u001b[38;5;66;03m# Make the request on the HTTPConnection object\u001b[39;00m\n\u001b[1;32m--> 787\u001b[0m response \u001b[38;5;241m=\u001b[39m \u001b[38;5;28mself\u001b[39m\u001b[38;5;241m.\u001b[39m_make_request(\n\u001b[0;32m    788\u001b[0m     conn,\n\u001b[0;32m    789\u001b[0m     method,\n\u001b[0;32m    790\u001b[0m     url,\n\u001b[0;32m    791\u001b[0m     timeout\u001b[38;5;241m=\u001b[39mtimeout_obj,\n\u001b[0;32m    792\u001b[0m     body\u001b[38;5;241m=\u001b[39mbody,\n\u001b[0;32m    793\u001b[0m     headers\u001b[38;5;241m=\u001b[39mheaders,\n\u001b[0;32m    794\u001b[0m     chunked\u001b[38;5;241m=\u001b[39mchunked,\n\u001b[0;32m    795\u001b[0m     retries\u001b[38;5;241m=\u001b[39mretries,\n\u001b[0;32m    796\u001b[0m     response_conn\u001b[38;5;241m=\u001b[39mresponse_conn,\n\u001b[0;32m    797\u001b[0m     preload_content\u001b[38;5;241m=\u001b[39mpreload_content,\n\u001b[0;32m    798\u001b[0m     decode_content\u001b[38;5;241m=\u001b[39mdecode_content,\n\u001b[0;32m    799\u001b[0m     \u001b[38;5;241m*\u001b[39m\u001b[38;5;241m*\u001b[39mresponse_kw,\n\u001b[0;32m    800\u001b[0m )\n\u001b[0;32m    802\u001b[0m \u001b[38;5;66;03m# Everything went great!\u001b[39;00m\n",
      "File \u001b[1;32m~\\anaconda3\\envs\\gpu_pytorch\\lib\\site-packages\\urllib3\\connectionpool.py:534\u001b[0m, in \u001b[0;36mHTTPConnectionPool._make_request\u001b[1;34m(self, conn, method, url, body, headers, retries, timeout, chunked, response_conn, preload_content, decode_content, enforce_content_length)\u001b[0m\n\u001b[0;32m    533\u001b[0m \u001b[38;5;28;01mtry\u001b[39;00m:\n\u001b[1;32m--> 534\u001b[0m     response \u001b[38;5;241m=\u001b[39m \u001b[43mconn\u001b[49m\u001b[38;5;241;43m.\u001b[39;49m\u001b[43mgetresponse\u001b[49m\u001b[43m(\u001b[49m\u001b[43m)\u001b[49m\n\u001b[0;32m    535\u001b[0m \u001b[38;5;28;01mexcept\u001b[39;00m (BaseSSLError, \u001b[38;5;167;01mOSError\u001b[39;00m) \u001b[38;5;28;01mas\u001b[39;00m e:\n",
      "File \u001b[1;32m~\\anaconda3\\envs\\gpu_pytorch\\lib\\site-packages\\urllib3\\connection.py:516\u001b[0m, in \u001b[0;36mHTTPConnection.getresponse\u001b[1;34m(self)\u001b[0m\n\u001b[0;32m    515\u001b[0m \u001b[38;5;66;03m# Get the response from http.client.HTTPConnection\u001b[39;00m\n\u001b[1;32m--> 516\u001b[0m httplib_response \u001b[38;5;241m=\u001b[39m \u001b[38;5;28;43msuper\u001b[39;49m\u001b[43m(\u001b[49m\u001b[43m)\u001b[49m\u001b[38;5;241;43m.\u001b[39;49m\u001b[43mgetresponse\u001b[49m\u001b[43m(\u001b[49m\u001b[43m)\u001b[49m\n\u001b[0;32m    518\u001b[0m \u001b[38;5;28;01mtry\u001b[39;00m:\n",
      "File \u001b[1;32m~\\anaconda3\\envs\\gpu_pytorch\\lib\\http\\client.py:1377\u001b[0m, in \u001b[0;36mHTTPConnection.getresponse\u001b[1;34m(self)\u001b[0m\n\u001b[0;32m   1376\u001b[0m \u001b[38;5;28;01mtry\u001b[39;00m:\n\u001b[1;32m-> 1377\u001b[0m     \u001b[43mresponse\u001b[49m\u001b[38;5;241;43m.\u001b[39;49m\u001b[43mbegin\u001b[49m\u001b[43m(\u001b[49m\u001b[43m)\u001b[49m\n\u001b[0;32m   1378\u001b[0m \u001b[38;5;28;01mexcept\u001b[39;00m \u001b[38;5;167;01mConnectionError\u001b[39;00m:\n",
      "File \u001b[1;32m~\\anaconda3\\envs\\gpu_pytorch\\lib\\http\\client.py:320\u001b[0m, in \u001b[0;36mHTTPResponse.begin\u001b[1;34m(self)\u001b[0m\n\u001b[0;32m    319\u001b[0m \u001b[38;5;28;01mwhile\u001b[39;00m \u001b[38;5;28;01mTrue\u001b[39;00m:\n\u001b[1;32m--> 320\u001b[0m     version, status, reason \u001b[38;5;241m=\u001b[39m \u001b[38;5;28;43mself\u001b[39;49m\u001b[38;5;241;43m.\u001b[39;49m\u001b[43m_read_status\u001b[49m\u001b[43m(\u001b[49m\u001b[43m)\u001b[49m\n\u001b[0;32m    321\u001b[0m     \u001b[38;5;28;01mif\u001b[39;00m status \u001b[38;5;241m!=\u001b[39m CONTINUE:\n",
      "File \u001b[1;32m~\\anaconda3\\envs\\gpu_pytorch\\lib\\http\\client.py:289\u001b[0m, in \u001b[0;36mHTTPResponse._read_status\u001b[1;34m(self)\u001b[0m\n\u001b[0;32m    286\u001b[0m \u001b[38;5;28;01mif\u001b[39;00m \u001b[38;5;129;01mnot\u001b[39;00m line:\n\u001b[0;32m    287\u001b[0m     \u001b[38;5;66;03m# Presumably, the server closed the connection before\u001b[39;00m\n\u001b[0;32m    288\u001b[0m     \u001b[38;5;66;03m# sending a valid response.\u001b[39;00m\n\u001b[1;32m--> 289\u001b[0m     \u001b[38;5;28;01mraise\u001b[39;00m RemoteDisconnected(\u001b[38;5;124m\"\u001b[39m\u001b[38;5;124mRemote end closed connection without\u001b[39m\u001b[38;5;124m\"\u001b[39m\n\u001b[0;32m    290\u001b[0m                              \u001b[38;5;124m\"\u001b[39m\u001b[38;5;124m response\u001b[39m\u001b[38;5;124m\"\u001b[39m)\n\u001b[0;32m    291\u001b[0m \u001b[38;5;28;01mtry\u001b[39;00m:\n",
      "\u001b[1;31mProtocolError\u001b[0m: ('Connection aborted.', RemoteDisconnected('Remote end closed connection without response'))",
      "\nThe above exception was the direct cause of the following exception:\n",
      "\u001b[1;31mConnectionError\u001b[0m                           Traceback (most recent call last)",
      "Cell \u001b[1;32mIn[78], line 8\u001b[0m\n\u001b[0;32m      4\u001b[0m es \u001b[38;5;241m=\u001b[39m Elasticsearch(\u001b[38;5;124m\"\u001b[39m\u001b[38;5;124mhttp://localhost:9200\u001b[39m\u001b[38;5;124m\"\u001b[39m)\n\u001b[0;32m      6\u001b[0m index_name \u001b[38;5;241m=\u001b[39m \u001b[38;5;124m\"\u001b[39m\u001b[38;5;124mdocuments\u001b[39m\u001b[38;5;124m\"\u001b[39m\n\u001b[1;32m----> 8\u001b[0m \u001b[38;5;28;01mif\u001b[39;00m \u001b[38;5;129;01mnot\u001b[39;00m \u001b[43mes\u001b[49m\u001b[38;5;241;43m.\u001b[39;49m\u001b[43mindices\u001b[49m\u001b[38;5;241;43m.\u001b[39;49m\u001b[43mexists\u001b[49m\u001b[43m(\u001b[49m\u001b[43mindex\u001b[49m\u001b[38;5;241;43m=\u001b[39;49m\u001b[43mindex_name\u001b[49m\u001b[43m)\u001b[49m:\n\u001b[0;32m      9\u001b[0m     es\u001b[38;5;241m.\u001b[39mindices\u001b[38;5;241m.\u001b[39mcreate(index\u001b[38;5;241m=\u001b[39mindex_name, body\u001b[38;5;241m=\u001b[39m{\u001b[38;5;124m\"\u001b[39m\u001b[38;5;124mmappings\u001b[39m\u001b[38;5;124m\"\u001b[39m: {\u001b[38;5;124m\"\u001b[39m\u001b[38;5;124mproperties\u001b[39m\u001b[38;5;124m\"\u001b[39m:\n\u001b[0;32m     10\u001b[0m                                                            {\n\u001b[0;32m     11\u001b[0m                                                                \u001b[38;5;124m\"\u001b[39m\u001b[38;5;124mText\u001b[39m\u001b[38;5;124m\"\u001b[39m: {\u001b[38;5;124m\"\u001b[39m\u001b[38;5;124mtype\u001b[39m\u001b[38;5;124m\"\u001b[39m: \u001b[38;5;124m\"\u001b[39m\u001b[38;5;124mtext\u001b[39m\u001b[38;5;124m\"\u001b[39m}, \n\u001b[0;32m     12\u001b[0m                                                                \u001b[38;5;124m\"\u001b[39m\u001b[38;5;124mEmbedding\u001b[39m\u001b[38;5;124m\"\u001b[39m: {\u001b[38;5;124m\"\u001b[39m\u001b[38;5;124mtype\u001b[39m\u001b[38;5;124m\"\u001b[39m: \u001b[38;5;124m\"\u001b[39m\u001b[38;5;124mdense_vector\u001b[39m\u001b[38;5;124m\"\u001b[39m, \u001b[38;5;124m\"\u001b[39m\u001b[38;5;124mdims\u001b[39m\u001b[38;5;124m\"\u001b[39m: embeddings\u001b[38;5;241m.\u001b[39mshape[\u001b[38;5;241m1\u001b[39m]},\n\u001b[0;32m     13\u001b[0m                                                            }}})\n\u001b[0;32m     15\u001b[0m \u001b[38;5;28;01mdef\u001b[39;00m\u001b[38;5;250m \u001b[39m\u001b[38;5;21mgenerate_es_data\u001b[39m(texts, embeddings):\n",
      "File \u001b[1;32m~\\anaconda3\\envs\\gpu_pytorch\\lib\\site-packages\\elasticsearch\\_sync\\client\\utils.py:455\u001b[0m, in \u001b[0;36m_rewrite_parameters.<locals>.wrapper.<locals>.wrapped\u001b[1;34m(*args, **kwargs)\u001b[0m\n\u001b[0;32m    452\u001b[0m         \u001b[38;5;28;01mexcept\u001b[39;00m \u001b[38;5;167;01mKeyError\u001b[39;00m:\n\u001b[0;32m    453\u001b[0m             \u001b[38;5;28;01mpass\u001b[39;00m\n\u001b[1;32m--> 455\u001b[0m \u001b[38;5;28;01mreturn\u001b[39;00m api(\u001b[38;5;241m*\u001b[39margs, \u001b[38;5;241m*\u001b[39m\u001b[38;5;241m*\u001b[39mkwargs)\n",
      "File \u001b[1;32m~\\anaconda3\\envs\\gpu_pytorch\\lib\\site-packages\\elasticsearch\\_sync\\client\\indices.py:1299\u001b[0m, in \u001b[0;36mIndicesClient.exists\u001b[1;34m(self, index, allow_no_indices, error_trace, expand_wildcards, filter_path, flat_settings, human, ignore_unavailable, include_defaults, local, pretty)\u001b[0m\n\u001b[0;32m   1297\u001b[0m     __query[\u001b[38;5;124m\"\u001b[39m\u001b[38;5;124mpretty\u001b[39m\u001b[38;5;124m\"\u001b[39m] \u001b[38;5;241m=\u001b[39m pretty\n\u001b[0;32m   1298\u001b[0m __headers \u001b[38;5;241m=\u001b[39m {\u001b[38;5;124m\"\u001b[39m\u001b[38;5;124maccept\u001b[39m\u001b[38;5;124m\"\u001b[39m: \u001b[38;5;124m\"\u001b[39m\u001b[38;5;124mapplication/json\u001b[39m\u001b[38;5;124m\"\u001b[39m}\n\u001b[1;32m-> 1299\u001b[0m \u001b[38;5;28;01mreturn\u001b[39;00m \u001b[38;5;28;43mself\u001b[39;49m\u001b[38;5;241;43m.\u001b[39;49m\u001b[43mperform_request\u001b[49m\u001b[43m(\u001b[49m\u001b[43m  \u001b[49m\u001b[38;5;66;43;03m# type: ignore[return-value]\u001b[39;49;00m\n\u001b[0;32m   1300\u001b[0m \u001b[43m    \u001b[49m\u001b[38;5;124;43m\"\u001b[39;49m\u001b[38;5;124;43mHEAD\u001b[39;49m\u001b[38;5;124;43m\"\u001b[39;49m\u001b[43m,\u001b[49m\n\u001b[0;32m   1301\u001b[0m \u001b[43m    \u001b[49m\u001b[43m__path\u001b[49m\u001b[43m,\u001b[49m\n\u001b[0;32m   1302\u001b[0m \u001b[43m    \u001b[49m\u001b[43mparams\u001b[49m\u001b[38;5;241;43m=\u001b[39;49m\u001b[43m__query\u001b[49m\u001b[43m,\u001b[49m\n\u001b[0;32m   1303\u001b[0m \u001b[43m    \u001b[49m\u001b[43mheaders\u001b[49m\u001b[38;5;241;43m=\u001b[39;49m\u001b[43m__headers\u001b[49m\u001b[43m,\u001b[49m\n\u001b[0;32m   1304\u001b[0m \u001b[43m    \u001b[49m\u001b[43mendpoint_id\u001b[49m\u001b[38;5;241;43m=\u001b[39;49m\u001b[38;5;124;43m\"\u001b[39;49m\u001b[38;5;124;43mindices.exists\u001b[39;49m\u001b[38;5;124;43m\"\u001b[39;49m\u001b[43m,\u001b[49m\n\u001b[0;32m   1305\u001b[0m \u001b[43m    \u001b[49m\u001b[43mpath_parts\u001b[49m\u001b[38;5;241;43m=\u001b[39;49m\u001b[43m__path_parts\u001b[49m\u001b[43m,\u001b[49m\n\u001b[0;32m   1306\u001b[0m \u001b[43m\u001b[49m\u001b[43m)\u001b[49m\n",
      "File \u001b[1;32m~\\anaconda3\\envs\\gpu_pytorch\\lib\\site-packages\\elasticsearch\\_sync\\client\\_base.py:423\u001b[0m, in \u001b[0;36mNamespacedClient.perform_request\u001b[1;34m(self, method, path, params, headers, body, endpoint_id, path_parts)\u001b[0m\n\u001b[0;32m    410\u001b[0m \u001b[38;5;28;01mdef\u001b[39;00m\u001b[38;5;250m \u001b[39m\u001b[38;5;21mperform_request\u001b[39m(\n\u001b[0;32m    411\u001b[0m     \u001b[38;5;28mself\u001b[39m,\n\u001b[0;32m    412\u001b[0m     method: \u001b[38;5;28mstr\u001b[39m,\n\u001b[1;32m   (...)\u001b[0m\n\u001b[0;32m    421\u001b[0m     \u001b[38;5;66;03m# Use the internal clients .perform_request() implementation\u001b[39;00m\n\u001b[0;32m    422\u001b[0m     \u001b[38;5;66;03m# so we take advantage of their transport options.\u001b[39;00m\n\u001b[1;32m--> 423\u001b[0m     \u001b[38;5;28;01mreturn\u001b[39;00m \u001b[38;5;28;43mself\u001b[39;49m\u001b[38;5;241;43m.\u001b[39;49m\u001b[43m_client\u001b[49m\u001b[38;5;241;43m.\u001b[39;49m\u001b[43mperform_request\u001b[49m\u001b[43m(\u001b[49m\n\u001b[0;32m    424\u001b[0m \u001b[43m        \u001b[49m\u001b[43mmethod\u001b[49m\u001b[43m,\u001b[49m\n\u001b[0;32m    425\u001b[0m \u001b[43m        \u001b[49m\u001b[43mpath\u001b[49m\u001b[43m,\u001b[49m\n\u001b[0;32m    426\u001b[0m \u001b[43m        \u001b[49m\u001b[43mparams\u001b[49m\u001b[38;5;241;43m=\u001b[39;49m\u001b[43mparams\u001b[49m\u001b[43m,\u001b[49m\n\u001b[0;32m    427\u001b[0m \u001b[43m        \u001b[49m\u001b[43mheaders\u001b[49m\u001b[38;5;241;43m=\u001b[39;49m\u001b[43mheaders\u001b[49m\u001b[43m,\u001b[49m\n\u001b[0;32m    428\u001b[0m \u001b[43m        \u001b[49m\u001b[43mbody\u001b[49m\u001b[38;5;241;43m=\u001b[39;49m\u001b[43mbody\u001b[49m\u001b[43m,\u001b[49m\n\u001b[0;32m    429\u001b[0m \u001b[43m        \u001b[49m\u001b[43mendpoint_id\u001b[49m\u001b[38;5;241;43m=\u001b[39;49m\u001b[43mendpoint_id\u001b[49m\u001b[43m,\u001b[49m\n\u001b[0;32m    430\u001b[0m \u001b[43m        \u001b[49m\u001b[43mpath_parts\u001b[49m\u001b[38;5;241;43m=\u001b[39;49m\u001b[43mpath_parts\u001b[49m\u001b[43m,\u001b[49m\n\u001b[0;32m    431\u001b[0m \u001b[43m    \u001b[49m\u001b[43m)\u001b[49m\n",
      "File \u001b[1;32m~\\anaconda3\\envs\\gpu_pytorch\\lib\\site-packages\\elasticsearch\\_sync\\client\\_base.py:271\u001b[0m, in \u001b[0;36mBaseClient.perform_request\u001b[1;34m(self, method, path, params, headers, body, endpoint_id, path_parts)\u001b[0m\n\u001b[0;32m    255\u001b[0m \u001b[38;5;28;01mdef\u001b[39;00m\u001b[38;5;250m \u001b[39m\u001b[38;5;21mperform_request\u001b[39m(\n\u001b[0;32m    256\u001b[0m     \u001b[38;5;28mself\u001b[39m,\n\u001b[0;32m    257\u001b[0m     method: \u001b[38;5;28mstr\u001b[39m,\n\u001b[1;32m   (...)\u001b[0m\n\u001b[0;32m    264\u001b[0m     path_parts: Optional[Mapping[\u001b[38;5;28mstr\u001b[39m, Any]] \u001b[38;5;241m=\u001b[39m \u001b[38;5;28;01mNone\u001b[39;00m,\n\u001b[0;32m    265\u001b[0m ) \u001b[38;5;241m-\u001b[39m\u001b[38;5;241m>\u001b[39m ApiResponse[Any]:\n\u001b[0;32m    266\u001b[0m     \u001b[38;5;28;01mwith\u001b[39;00m \u001b[38;5;28mself\u001b[39m\u001b[38;5;241m.\u001b[39m_otel\u001b[38;5;241m.\u001b[39mspan(\n\u001b[0;32m    267\u001b[0m         method,\n\u001b[0;32m    268\u001b[0m         endpoint_id\u001b[38;5;241m=\u001b[39mendpoint_id,\n\u001b[0;32m    269\u001b[0m         path_parts\u001b[38;5;241m=\u001b[39mpath_parts \u001b[38;5;129;01mor\u001b[39;00m {},\n\u001b[0;32m    270\u001b[0m     ) \u001b[38;5;28;01mas\u001b[39;00m otel_span:\n\u001b[1;32m--> 271\u001b[0m         response \u001b[38;5;241m=\u001b[39m \u001b[38;5;28;43mself\u001b[39;49m\u001b[38;5;241;43m.\u001b[39;49m\u001b[43m_perform_request\u001b[49m\u001b[43m(\u001b[49m\n\u001b[0;32m    272\u001b[0m \u001b[43m            \u001b[49m\u001b[43mmethod\u001b[49m\u001b[43m,\u001b[49m\n\u001b[0;32m    273\u001b[0m \u001b[43m            \u001b[49m\u001b[43mpath\u001b[49m\u001b[43m,\u001b[49m\n\u001b[0;32m    274\u001b[0m \u001b[43m            \u001b[49m\u001b[43mparams\u001b[49m\u001b[38;5;241;43m=\u001b[39;49m\u001b[43mparams\u001b[49m\u001b[43m,\u001b[49m\n\u001b[0;32m    275\u001b[0m \u001b[43m            \u001b[49m\u001b[43mheaders\u001b[49m\u001b[38;5;241;43m=\u001b[39;49m\u001b[43mheaders\u001b[49m\u001b[43m,\u001b[49m\n\u001b[0;32m    276\u001b[0m \u001b[43m            \u001b[49m\u001b[43mbody\u001b[49m\u001b[38;5;241;43m=\u001b[39;49m\u001b[43mbody\u001b[49m\u001b[43m,\u001b[49m\n\u001b[0;32m    277\u001b[0m \u001b[43m            \u001b[49m\u001b[43motel_span\u001b[49m\u001b[38;5;241;43m=\u001b[39;49m\u001b[43motel_span\u001b[49m\u001b[43m,\u001b[49m\n\u001b[0;32m    278\u001b[0m \u001b[43m        \u001b[49m\u001b[43m)\u001b[49m\n\u001b[0;32m    279\u001b[0m         otel_span\u001b[38;5;241m.\u001b[39mset_elastic_cloud_metadata(response\u001b[38;5;241m.\u001b[39mmeta\u001b[38;5;241m.\u001b[39mheaders)\n\u001b[0;32m    280\u001b[0m         \u001b[38;5;28;01mreturn\u001b[39;00m response\n",
      "File \u001b[1;32m~\\anaconda3\\envs\\gpu_pytorch\\lib\\site-packages\\elasticsearch\\_sync\\client\\_base.py:316\u001b[0m, in \u001b[0;36mBaseClient._perform_request\u001b[1;34m(self, method, path, params, headers, body, otel_span)\u001b[0m\n\u001b[0;32m    313\u001b[0m \u001b[38;5;28;01melse\u001b[39;00m:\n\u001b[0;32m    314\u001b[0m     target \u001b[38;5;241m=\u001b[39m path\n\u001b[1;32m--> 316\u001b[0m meta, resp_body \u001b[38;5;241m=\u001b[39m \u001b[38;5;28;43mself\u001b[39;49m\u001b[38;5;241;43m.\u001b[39;49m\u001b[43mtransport\u001b[49m\u001b[38;5;241;43m.\u001b[39;49m\u001b[43mperform_request\u001b[49m\u001b[43m(\u001b[49m\n\u001b[0;32m    317\u001b[0m \u001b[43m    \u001b[49m\u001b[43mmethod\u001b[49m\u001b[43m,\u001b[49m\n\u001b[0;32m    318\u001b[0m \u001b[43m    \u001b[49m\u001b[43mtarget\u001b[49m\u001b[43m,\u001b[49m\n\u001b[0;32m    319\u001b[0m \u001b[43m    \u001b[49m\u001b[43mheaders\u001b[49m\u001b[38;5;241;43m=\u001b[39;49m\u001b[43mrequest_headers\u001b[49m\u001b[43m,\u001b[49m\n\u001b[0;32m    320\u001b[0m \u001b[43m    \u001b[49m\u001b[43mbody\u001b[49m\u001b[38;5;241;43m=\u001b[39;49m\u001b[43mbody\u001b[49m\u001b[43m,\u001b[49m\n\u001b[0;32m    321\u001b[0m \u001b[43m    \u001b[49m\u001b[43mrequest_timeout\u001b[49m\u001b[38;5;241;43m=\u001b[39;49m\u001b[38;5;28;43mself\u001b[39;49m\u001b[38;5;241;43m.\u001b[39;49m\u001b[43m_request_timeout\u001b[49m\u001b[43m,\u001b[49m\n\u001b[0;32m    322\u001b[0m \u001b[43m    \u001b[49m\u001b[43mmax_retries\u001b[49m\u001b[38;5;241;43m=\u001b[39;49m\u001b[38;5;28;43mself\u001b[39;49m\u001b[38;5;241;43m.\u001b[39;49m\u001b[43m_max_retries\u001b[49m\u001b[43m,\u001b[49m\n\u001b[0;32m    323\u001b[0m \u001b[43m    \u001b[49m\u001b[43mretry_on_status\u001b[49m\u001b[38;5;241;43m=\u001b[39;49m\u001b[38;5;28;43mself\u001b[39;49m\u001b[38;5;241;43m.\u001b[39;49m\u001b[43m_retry_on_status\u001b[49m\u001b[43m,\u001b[49m\n\u001b[0;32m    324\u001b[0m \u001b[43m    \u001b[49m\u001b[43mretry_on_timeout\u001b[49m\u001b[38;5;241;43m=\u001b[39;49m\u001b[38;5;28;43mself\u001b[39;49m\u001b[38;5;241;43m.\u001b[39;49m\u001b[43m_retry_on_timeout\u001b[49m\u001b[43m,\u001b[49m\n\u001b[0;32m    325\u001b[0m \u001b[43m    \u001b[49m\u001b[43mclient_meta\u001b[49m\u001b[38;5;241;43m=\u001b[39;49m\u001b[38;5;28;43mself\u001b[39;49m\u001b[38;5;241;43m.\u001b[39;49m\u001b[43m_client_meta\u001b[49m\u001b[43m,\u001b[49m\n\u001b[0;32m    326\u001b[0m \u001b[43m    \u001b[49m\u001b[43motel_span\u001b[49m\u001b[38;5;241;43m=\u001b[39;49m\u001b[43motel_span\u001b[49m\u001b[43m,\u001b[49m\n\u001b[0;32m    327\u001b[0m \u001b[43m\u001b[49m\u001b[43m)\u001b[49m\n\u001b[0;32m    329\u001b[0m \u001b[38;5;66;03m# HEAD with a 404 is returned as a normal response\u001b[39;00m\n\u001b[0;32m    330\u001b[0m \u001b[38;5;66;03m# since this is used as an 'exists' functionality.\u001b[39;00m\n\u001b[0;32m    331\u001b[0m \u001b[38;5;28;01mif\u001b[39;00m \u001b[38;5;129;01mnot\u001b[39;00m (method \u001b[38;5;241m==\u001b[39m \u001b[38;5;124m\"\u001b[39m\u001b[38;5;124mHEAD\u001b[39m\u001b[38;5;124m\"\u001b[39m \u001b[38;5;129;01mand\u001b[39;00m meta\u001b[38;5;241m.\u001b[39mstatus \u001b[38;5;241m==\u001b[39m \u001b[38;5;241m404\u001b[39m) \u001b[38;5;129;01mand\u001b[39;00m (\n\u001b[0;32m    332\u001b[0m     \u001b[38;5;129;01mnot\u001b[39;00m \u001b[38;5;241m200\u001b[39m \u001b[38;5;241m<\u001b[39m\u001b[38;5;241m=\u001b[39m meta\u001b[38;5;241m.\u001b[39mstatus \u001b[38;5;241m<\u001b[39m \u001b[38;5;241m299\u001b[39m\n\u001b[0;32m    333\u001b[0m     \u001b[38;5;129;01mand\u001b[39;00m (\n\u001b[1;32m   (...)\u001b[0m\n\u001b[0;32m    337\u001b[0m     )\n\u001b[0;32m    338\u001b[0m ):\n",
      "File \u001b[1;32m~\\anaconda3\\envs\\gpu_pytorch\\lib\\site-packages\\elastic_transport\\_transport.py:342\u001b[0m, in \u001b[0;36mTransport.perform_request\u001b[1;34m(self, method, target, body, headers, max_retries, retry_on_status, retry_on_timeout, request_timeout, client_meta, otel_span)\u001b[0m\n\u001b[0;32m    340\u001b[0m \u001b[38;5;28;01mtry\u001b[39;00m:\n\u001b[0;32m    341\u001b[0m     otel_span\u001b[38;5;241m.\u001b[39mset_node_metadata(node\u001b[38;5;241m.\u001b[39mhost, node\u001b[38;5;241m.\u001b[39mport, node\u001b[38;5;241m.\u001b[39mbase_url, target)\n\u001b[1;32m--> 342\u001b[0m     resp \u001b[38;5;241m=\u001b[39m \u001b[43mnode\u001b[49m\u001b[38;5;241;43m.\u001b[39;49m\u001b[43mperform_request\u001b[49m\u001b[43m(\u001b[49m\n\u001b[0;32m    343\u001b[0m \u001b[43m        \u001b[49m\u001b[43mmethod\u001b[49m\u001b[43m,\u001b[49m\n\u001b[0;32m    344\u001b[0m \u001b[43m        \u001b[49m\u001b[43mtarget\u001b[49m\u001b[43m,\u001b[49m\n\u001b[0;32m    345\u001b[0m \u001b[43m        \u001b[49m\u001b[43mbody\u001b[49m\u001b[38;5;241;43m=\u001b[39;49m\u001b[43mrequest_body\u001b[49m\u001b[43m,\u001b[49m\n\u001b[0;32m    346\u001b[0m \u001b[43m        \u001b[49m\u001b[43mheaders\u001b[49m\u001b[38;5;241;43m=\u001b[39;49m\u001b[43mrequest_headers\u001b[49m\u001b[43m,\u001b[49m\n\u001b[0;32m    347\u001b[0m \u001b[43m        \u001b[49m\u001b[43mrequest_timeout\u001b[49m\u001b[38;5;241;43m=\u001b[39;49m\u001b[43mrequest_timeout\u001b[49m\u001b[43m,\u001b[49m\n\u001b[0;32m    348\u001b[0m \u001b[43m    \u001b[49m\u001b[43m)\u001b[49m\n\u001b[0;32m    349\u001b[0m     _logger\u001b[38;5;241m.\u001b[39minfo(\n\u001b[0;32m    350\u001b[0m         \u001b[38;5;124m\"\u001b[39m\u001b[38;5;132;01m%s\u001b[39;00m\u001b[38;5;124m \u001b[39m\u001b[38;5;132;01m%s\u001b[39;00m\u001b[38;5;132;01m%s\u001b[39;00m\u001b[38;5;124m [status:\u001b[39m\u001b[38;5;132;01m%s\u001b[39;00m\u001b[38;5;124m duration:\u001b[39m\u001b[38;5;132;01m%.3f\u001b[39;00m\u001b[38;5;124ms]\u001b[39m\u001b[38;5;124m\"\u001b[39m\n\u001b[0;32m    351\u001b[0m         \u001b[38;5;241m%\u001b[39m (\n\u001b[1;32m   (...)\u001b[0m\n\u001b[0;32m    357\u001b[0m         )\n\u001b[0;32m    358\u001b[0m     )\n\u001b[0;32m    360\u001b[0m     \u001b[38;5;28;01mif\u001b[39;00m method \u001b[38;5;241m!=\u001b[39m \u001b[38;5;124m\"\u001b[39m\u001b[38;5;124mHEAD\u001b[39m\u001b[38;5;124m\"\u001b[39m:\n",
      "File \u001b[1;32m~\\anaconda3\\envs\\gpu_pytorch\\lib\\site-packages\\elastic_transport\\_node\\_http_urllib3.py:202\u001b[0m, in \u001b[0;36mUrllib3HttpNode.perform_request\u001b[1;34m(self, method, target, body, headers, request_timeout)\u001b[0m\n\u001b[0;32m    194\u001b[0m         err \u001b[38;5;241m=\u001b[39m \u001b[38;5;167;01mConnectionError\u001b[39;00m(\u001b[38;5;28mstr\u001b[39m(e), errors\u001b[38;5;241m=\u001b[39m(e,))\n\u001b[0;32m    195\u001b[0m     \u001b[38;5;28mself\u001b[39m\u001b[38;5;241m.\u001b[39m_log_request(\n\u001b[0;32m    196\u001b[0m         method\u001b[38;5;241m=\u001b[39mmethod,\n\u001b[0;32m    197\u001b[0m         target\u001b[38;5;241m=\u001b[39mtarget,\n\u001b[1;32m   (...)\u001b[0m\n\u001b[0;32m    200\u001b[0m         exception\u001b[38;5;241m=\u001b[39merr,\n\u001b[0;32m    201\u001b[0m     )\n\u001b[1;32m--> 202\u001b[0m     \u001b[38;5;28;01mraise\u001b[39;00m err \u001b[38;5;28;01mfrom\u001b[39;00m\u001b[38;5;250m \u001b[39m\u001b[38;5;21;01me\u001b[39;00m\n\u001b[0;32m    204\u001b[0m meta \u001b[38;5;241m=\u001b[39m ApiResponseMeta(\n\u001b[0;32m    205\u001b[0m     node\u001b[38;5;241m=\u001b[39m\u001b[38;5;28mself\u001b[39m\u001b[38;5;241m.\u001b[39mconfig,\n\u001b[0;32m    206\u001b[0m     duration\u001b[38;5;241m=\u001b[39mduration,\n\u001b[1;32m   (...)\u001b[0m\n\u001b[0;32m    209\u001b[0m     headers\u001b[38;5;241m=\u001b[39mresponse_headers,\n\u001b[0;32m    210\u001b[0m )\n\u001b[0;32m    211\u001b[0m \u001b[38;5;28mself\u001b[39m\u001b[38;5;241m.\u001b[39m_log_request(\n\u001b[0;32m    212\u001b[0m     method\u001b[38;5;241m=\u001b[39mmethod,\n\u001b[0;32m    213\u001b[0m     target\u001b[38;5;241m=\u001b[39mtarget,\n\u001b[1;32m   (...)\u001b[0m\n\u001b[0;32m    217\u001b[0m     response\u001b[38;5;241m=\u001b[39mdata,\n\u001b[0;32m    218\u001b[0m )\n",
      "\u001b[1;31mConnectionError\u001b[0m: Connection error caused by: ConnectionError(Connection error caused by: ProtocolError(('Connection aborted.', RemoteDisconnected('Remote end closed connection without response'))))"
     ]
    }
   ],
   "source": [
    "from elasticsearch import Elasticsearch\n",
    "from elasticsearch.helpers import bulk\n",
    "\n",
    "es = Elasticsearch(\"http://localhost:9200\")\n",
    "\n",
    "index_name = \"documents\"\n",
    "\n",
    "if not es.indices.exists(index=index_name):\n",
    "    es.indices.create(index=index_name, body={\"mappings\": {\"properties\":\n",
    "                                                           {\n",
    "                                                               \"Text\": {\"type\": \"text\"}, \n",
    "                                                               \"Embedding\": {\"type\": \"dense_vector\", \"dims\": embeddings.shape[1]},\n",
    "                                                           }}})\n",
    "\n",
    "def generate_es_data(texts, embeddings):\n",
    "    for idx, (text, embedding) in enumerate(zip(texts, embeddings)):\n",
    "        yield {\"_index\": index_name,\n",
    "               \"_id\": idx,\n",
    "               \"_source\": {\"Text\": text, \"Embedding\": embedding.tolist(),}\n",
    "              }\n",
    "\n",
    "bulk(es, generate_es_data(texts, embeddings.numpy()))"
   ]
  },
  {
   "cell_type": "code",
   "execution_count": null,
   "id": "964ec015-42c8-4816-b945-179a64e39ed4",
   "metadata": {},
   "outputs": [],
   "source": [
    "def retrieve_from_elasticsearch(query, model, tokenizer, es, index_name, top_k=5):\n",
    "    query_embedding = embed_text(query, model, tokenizer, 'cpu').tolist()\n",
    "    body = {\"size\": top_k,\n",
    "            \"query\": {\"script_score\": {\"query\": {\"match_all\": {}}, \n",
    "                                       \"script\": {\"source\": \"cosineSimilarity(params.query_vector, 'Embedding') + 1.0\", \n",
    "                                                  \"params\": {\"query_vector\": query_embedding}}\n",
    "                                      }\n",
    "                     }\n",
    "           }\n",
    "    response = es.search(index=index_name, body=body)\n",
    "    results = [{\"text\": hit[\"_source\"][\"Text\"], \"score\": hit[\"_score\"]} for hit in response[\"hits\"][\"hits\"]]\n",
    "    return results"
   ]
  },
  {
   "cell_type": "code",
   "execution_count": 84,
   "id": "497f0906-9967-4d56-9384-594a34749a2f",
   "metadata": {},
   "outputs": [
    {
     "ename": "IndexError",
     "evalue": "index out of range in self",
     "output_type": "error",
     "traceback": [
      "\u001b[1;31m---------------------------------------------------------------------------\u001b[0m",
      "\u001b[1;31mIndexError\u001b[0m                                Traceback (most recent call last)",
      "Cell \u001b[1;32mIn[84], line 25\u001b[0m\n\u001b[0;32m     22\u001b[0m     response \u001b[38;5;241m=\u001b[39m generate_answer(context, user_query, generator, tokenizer)\n\u001b[0;32m     23\u001b[0m     \u001b[38;5;28;01mreturn\u001b[39;00m response\n\u001b[1;32m---> 25\u001b[0m response \u001b[38;5;241m=\u001b[39m \u001b[43mrag_pipeline\u001b[49m\u001b[43m(\u001b[49m\u001b[43muser_query\u001b[49m\u001b[43m,\u001b[49m\u001b[43m \u001b[49m\u001b[43mmodel\u001b[49m\u001b[43m,\u001b[49m\u001b[43m \u001b[49m\u001b[43mtokenizer\u001b[49m\u001b[43m,\u001b[49m\u001b[43m \u001b[49m\u001b[43mindex\u001b[49m\u001b[43m,\u001b[49m\u001b[43m \u001b[49m\u001b[43mtexts\u001b[49m\u001b[43m,\u001b[49m\u001b[43m \u001b[49m\u001b[43mgenerator\u001b[49m\u001b[43m)\u001b[49m\n\u001b[0;32m     26\u001b[0m \u001b[38;5;28mprint\u001b[39m(\u001b[38;5;124m\"\u001b[39m\u001b[38;5;124mRéponse générée :\u001b[39m\u001b[38;5;130;01m\\n\u001b[39;00m\u001b[38;5;124m\"\u001b[39m, response)\n",
      "Cell \u001b[1;32mIn[84], line 22\u001b[0m, in \u001b[0;36mrag_pipeline\u001b[1;34m(user_query, model, tokenizer, index, texts, generator)\u001b[0m\n\u001b[0;32m     19\u001b[0m retrieved \u001b[38;5;241m=\u001b[39m retrieve(user_query, model, tokenizer, index, texts, es, index_name, top_k\u001b[38;5;241m=\u001b[39m\u001b[38;5;241m5\u001b[39m)\n\u001b[0;32m     20\u001b[0m context \u001b[38;5;241m=\u001b[39m \u001b[38;5;124m\"\u001b[39m\u001b[38;5;124m \u001b[39m\u001b[38;5;124m\"\u001b[39m\u001b[38;5;241m.\u001b[39mjoin([item[\u001b[38;5;124m'\u001b[39m\u001b[38;5;124mtext\u001b[39m\u001b[38;5;124m'\u001b[39m] \u001b[38;5;28;01mfor\u001b[39;00m item \u001b[38;5;129;01min\u001b[39;00m retrieved])\n\u001b[1;32m---> 22\u001b[0m response \u001b[38;5;241m=\u001b[39m \u001b[43mgenerate_answer\u001b[49m\u001b[43m(\u001b[49m\u001b[43mcontext\u001b[49m\u001b[43m,\u001b[49m\u001b[43m \u001b[49m\u001b[43muser_query\u001b[49m\u001b[43m,\u001b[49m\u001b[43m \u001b[49m\u001b[43mgenerator\u001b[49m\u001b[43m,\u001b[49m\u001b[43m \u001b[49m\u001b[43mtokenizer\u001b[49m\u001b[43m)\u001b[49m\n\u001b[0;32m     23\u001b[0m \u001b[38;5;28;01mreturn\u001b[39;00m response\n",
      "Cell \u001b[1;32mIn[84], line 13\u001b[0m, in \u001b[0;36mgenerate_answer\u001b[1;34m(context, query, generator, tokenizer)\u001b[0m\n\u001b[0;32m     11\u001b[0m input_text \u001b[38;5;241m=\u001b[39m \u001b[38;5;124mf\u001b[39m\u001b[38;5;124m\"\u001b[39m\u001b[38;5;124mContext: \u001b[39m\u001b[38;5;132;01m{\u001b[39;00mcontext\u001b[38;5;132;01m}\u001b[39;00m\u001b[38;5;124m Query: \u001b[39m\u001b[38;5;132;01m{\u001b[39;00mquery\u001b[38;5;132;01m}\u001b[39;00m\u001b[38;5;124m\"\u001b[39m\n\u001b[0;32m     12\u001b[0m input_ids \u001b[38;5;241m=\u001b[39m tokenizer\u001b[38;5;241m.\u001b[39mencode(input_text, return_tensors\u001b[38;5;241m=\u001b[39m\u001b[38;5;124m'\u001b[39m\u001b[38;5;124mpt\u001b[39m\u001b[38;5;124m'\u001b[39m, max_length\u001b[38;5;241m=\u001b[39m\u001b[38;5;241m512\u001b[39m, truncation\u001b[38;5;241m=\u001b[39m\u001b[38;5;28;01mTrue\u001b[39;00m)\n\u001b[1;32m---> 13\u001b[0m outputs \u001b[38;5;241m=\u001b[39m \u001b[43mgenerator\u001b[49m\u001b[38;5;241;43m.\u001b[39;49m\u001b[43mgenerate\u001b[49m\u001b[43m(\u001b[49m\u001b[43minput_ids\u001b[49m\u001b[43m,\u001b[49m\u001b[43m \u001b[49m\u001b[43mmax_length\u001b[49m\u001b[38;5;241;43m=\u001b[39;49m\u001b[38;5;241;43m128\u001b[39;49m\u001b[43m,\u001b[49m\u001b[43m \u001b[49m\u001b[43mnum_beams\u001b[49m\u001b[38;5;241;43m=\u001b[39;49m\u001b[38;5;241;43m5\u001b[39;49m\u001b[43m,\u001b[49m\u001b[43m \u001b[49m\u001b[43mearly_stopping\u001b[49m\u001b[38;5;241;43m=\u001b[39;49m\u001b[38;5;28;43;01mTrue\u001b[39;49;00m\u001b[43m)\u001b[49m\n\u001b[0;32m     14\u001b[0m \u001b[38;5;28;01mreturn\u001b[39;00m tokenizer\u001b[38;5;241m.\u001b[39mdecode(outputs[\u001b[38;5;241m0\u001b[39m], skip_special_tokens\u001b[38;5;241m=\u001b[39m\u001b[38;5;28;01mTrue\u001b[39;00m)\n",
      "File \u001b[1;32m~\\anaconda3\\envs\\gpu_pytorch\\lib\\site-packages\\torch\\autograd\\grad_mode.py:28\u001b[0m, in \u001b[0;36m_DecoratorContextManager.__call__.<locals>.decorate_context\u001b[1;34m(*args, **kwargs)\u001b[0m\n\u001b[0;32m     25\u001b[0m \u001b[38;5;129m@functools\u001b[39m\u001b[38;5;241m.\u001b[39mwraps(func)\n\u001b[0;32m     26\u001b[0m \u001b[38;5;28;01mdef\u001b[39;00m\u001b[38;5;250m \u001b[39m\u001b[38;5;21mdecorate_context\u001b[39m(\u001b[38;5;241m*\u001b[39margs, \u001b[38;5;241m*\u001b[39m\u001b[38;5;241m*\u001b[39mkwargs):\n\u001b[0;32m     27\u001b[0m     \u001b[38;5;28;01mwith\u001b[39;00m \u001b[38;5;28mself\u001b[39m\u001b[38;5;241m.\u001b[39m\u001b[38;5;18m__class__\u001b[39m():\n\u001b[1;32m---> 28\u001b[0m         \u001b[38;5;28;01mreturn\u001b[39;00m func(\u001b[38;5;241m*\u001b[39margs, \u001b[38;5;241m*\u001b[39m\u001b[38;5;241m*\u001b[39mkwargs)\n",
      "File \u001b[1;32m~\\anaconda3\\envs\\gpu_pytorch\\lib\\site-packages\\transformers\\generation_utils.py:922\u001b[0m, in \u001b[0;36mGenerationMixin.generate\u001b[1;34m(self, input_ids, max_length, min_length, do_sample, early_stopping, num_beams, temperature, top_k, top_p, repetition_penalty, bad_words_ids, bos_token_id, pad_token_id, eos_token_id, length_penalty, no_repeat_ngram_size, encoder_no_repeat_ngram_size, num_return_sequences, max_time, max_new_tokens, decoder_start_token_id, use_cache, num_beam_groups, diversity_penalty, prefix_allowed_tokens_fn, output_attentions, output_hidden_states, output_scores, return_dict_in_generate, forced_bos_token_id, forced_eos_token_id, remove_invalid_values, synced_gpus, **model_kwargs)\u001b[0m\n\u001b[0;32m    918\u001b[0m encoder_input_ids \u001b[38;5;241m=\u001b[39m input_ids \u001b[38;5;28;01mif\u001b[39;00m \u001b[38;5;28mself\u001b[39m\u001b[38;5;241m.\u001b[39mconfig\u001b[38;5;241m.\u001b[39mis_encoder_decoder \u001b[38;5;28;01melse\u001b[39;00m \u001b[38;5;28;01mNone\u001b[39;00m\n\u001b[0;32m    920\u001b[0m \u001b[38;5;28;01mif\u001b[39;00m \u001b[38;5;28mself\u001b[39m\u001b[38;5;241m.\u001b[39mconfig\u001b[38;5;241m.\u001b[39mis_encoder_decoder:\n\u001b[0;32m    921\u001b[0m     \u001b[38;5;66;03m# add encoder_outputs to model_kwargs\u001b[39;00m\n\u001b[1;32m--> 922\u001b[0m     model_kwargs \u001b[38;5;241m=\u001b[39m \u001b[38;5;28;43mself\u001b[39;49m\u001b[38;5;241;43m.\u001b[39;49m\u001b[43m_prepare_encoder_decoder_kwargs_for_generation\u001b[49m\u001b[43m(\u001b[49m\u001b[43minput_ids\u001b[49m\u001b[43m,\u001b[49m\u001b[43m \u001b[49m\u001b[43mmodel_kwargs\u001b[49m\u001b[43m)\u001b[49m\n\u001b[0;32m    924\u001b[0m     \u001b[38;5;66;03m# set input_ids as decoder_input_ids\u001b[39;00m\n\u001b[0;32m    925\u001b[0m     \u001b[38;5;28;01mif\u001b[39;00m \u001b[38;5;124m\"\u001b[39m\u001b[38;5;124mdecoder_input_ids\u001b[39m\u001b[38;5;124m\"\u001b[39m \u001b[38;5;129;01min\u001b[39;00m model_kwargs:\n",
      "File \u001b[1;32m~\\anaconda3\\envs\\gpu_pytorch\\lib\\site-packages\\transformers\\generation_utils.py:417\u001b[0m, in \u001b[0;36mGenerationMixin._prepare_encoder_decoder_kwargs_for_generation\u001b[1;34m(self, input_ids, model_kwargs)\u001b[0m\n\u001b[0;32m    411\u001b[0m     encoder \u001b[38;5;241m=\u001b[39m \u001b[38;5;28mself\u001b[39m\u001b[38;5;241m.\u001b[39mget_encoder()\n\u001b[0;32m    412\u001b[0m     encoder_kwargs \u001b[38;5;241m=\u001b[39m {\n\u001b[0;32m    413\u001b[0m         argument: value\n\u001b[0;32m    414\u001b[0m         \u001b[38;5;28;01mfor\u001b[39;00m argument, value \u001b[38;5;129;01min\u001b[39;00m model_kwargs\u001b[38;5;241m.\u001b[39mitems()\n\u001b[0;32m    415\u001b[0m         \u001b[38;5;28;01mif\u001b[39;00m \u001b[38;5;129;01mnot\u001b[39;00m (argument\u001b[38;5;241m.\u001b[39mstartswith(\u001b[38;5;124m\"\u001b[39m\u001b[38;5;124mdecoder_\u001b[39m\u001b[38;5;124m\"\u001b[39m) \u001b[38;5;129;01mor\u001b[39;00m argument\u001b[38;5;241m.\u001b[39mstartswith(\u001b[38;5;124m\"\u001b[39m\u001b[38;5;124mcross_attn\u001b[39m\u001b[38;5;124m\"\u001b[39m))\n\u001b[0;32m    416\u001b[0m     }\n\u001b[1;32m--> 417\u001b[0m     model_kwargs[\u001b[38;5;124m\"\u001b[39m\u001b[38;5;124mencoder_outputs\u001b[39m\u001b[38;5;124m\"\u001b[39m]: ModelOutput \u001b[38;5;241m=\u001b[39m encoder(input_ids, return_dict\u001b[38;5;241m=\u001b[39m\u001b[38;5;28;01mTrue\u001b[39;00m, \u001b[38;5;241m*\u001b[39m\u001b[38;5;241m*\u001b[39mencoder_kwargs)\n\u001b[0;32m    418\u001b[0m \u001b[38;5;28;01mreturn\u001b[39;00m model_kwargs\n",
      "File \u001b[1;32m~\\anaconda3\\envs\\gpu_pytorch\\lib\\site-packages\\torch\\nn\\modules\\module.py:1102\u001b[0m, in \u001b[0;36mModule._call_impl\u001b[1;34m(self, *input, **kwargs)\u001b[0m\n\u001b[0;32m   1098\u001b[0m \u001b[38;5;66;03m# If we don't have any hooks, we want to skip the rest of the logic in\u001b[39;00m\n\u001b[0;32m   1099\u001b[0m \u001b[38;5;66;03m# this function, and just call forward.\u001b[39;00m\n\u001b[0;32m   1100\u001b[0m \u001b[38;5;28;01mif\u001b[39;00m \u001b[38;5;129;01mnot\u001b[39;00m (\u001b[38;5;28mself\u001b[39m\u001b[38;5;241m.\u001b[39m_backward_hooks \u001b[38;5;129;01mor\u001b[39;00m \u001b[38;5;28mself\u001b[39m\u001b[38;5;241m.\u001b[39m_forward_hooks \u001b[38;5;129;01mor\u001b[39;00m \u001b[38;5;28mself\u001b[39m\u001b[38;5;241m.\u001b[39m_forward_pre_hooks \u001b[38;5;129;01mor\u001b[39;00m _global_backward_hooks\n\u001b[0;32m   1101\u001b[0m         \u001b[38;5;129;01mor\u001b[39;00m _global_forward_hooks \u001b[38;5;129;01mor\u001b[39;00m _global_forward_pre_hooks):\n\u001b[1;32m-> 1102\u001b[0m     \u001b[38;5;28;01mreturn\u001b[39;00m forward_call(\u001b[38;5;241m*\u001b[39m\u001b[38;5;28minput\u001b[39m, \u001b[38;5;241m*\u001b[39m\u001b[38;5;241m*\u001b[39mkwargs)\n\u001b[0;32m   1103\u001b[0m \u001b[38;5;66;03m# Do not call functions when jit is used\u001b[39;00m\n\u001b[0;32m   1104\u001b[0m full_backward_hooks, non_full_backward_hooks \u001b[38;5;241m=\u001b[39m [], []\n",
      "File \u001b[1;32m~\\anaconda3\\envs\\gpu_pytorch\\lib\\site-packages\\transformers\\models\\t5\\modeling_t5.py:896\u001b[0m, in \u001b[0;36mT5Stack.forward\u001b[1;34m(self, input_ids, attention_mask, encoder_hidden_states, encoder_attention_mask, inputs_embeds, head_mask, cross_attn_head_mask, past_key_values, use_cache, output_attentions, output_hidden_states, return_dict)\u001b[0m\n\u001b[0;32m    894\u001b[0m \u001b[38;5;28;01mif\u001b[39;00m inputs_embeds \u001b[38;5;129;01mis\u001b[39;00m \u001b[38;5;28;01mNone\u001b[39;00m:\n\u001b[0;32m    895\u001b[0m     \u001b[38;5;28;01massert\u001b[39;00m \u001b[38;5;28mself\u001b[39m\u001b[38;5;241m.\u001b[39membed_tokens \u001b[38;5;129;01mis\u001b[39;00m \u001b[38;5;129;01mnot\u001b[39;00m \u001b[38;5;28;01mNone\u001b[39;00m, \u001b[38;5;124m\"\u001b[39m\u001b[38;5;124mYou have to initialize the model with valid token embeddings\u001b[39m\u001b[38;5;124m\"\u001b[39m\n\u001b[1;32m--> 896\u001b[0m     inputs_embeds \u001b[38;5;241m=\u001b[39m \u001b[38;5;28;43mself\u001b[39;49m\u001b[38;5;241;43m.\u001b[39;49m\u001b[43membed_tokens\u001b[49m\u001b[43m(\u001b[49m\u001b[43minput_ids\u001b[49m\u001b[43m)\u001b[49m\n\u001b[0;32m    898\u001b[0m batch_size, seq_length \u001b[38;5;241m=\u001b[39m input_shape\n\u001b[0;32m    900\u001b[0m \u001b[38;5;66;03m# required mask seq length can be calculated via length of past\u001b[39;00m\n",
      "File \u001b[1;32m~\\anaconda3\\envs\\gpu_pytorch\\lib\\site-packages\\torch\\nn\\modules\\module.py:1102\u001b[0m, in \u001b[0;36mModule._call_impl\u001b[1;34m(self, *input, **kwargs)\u001b[0m\n\u001b[0;32m   1098\u001b[0m \u001b[38;5;66;03m# If we don't have any hooks, we want to skip the rest of the logic in\u001b[39;00m\n\u001b[0;32m   1099\u001b[0m \u001b[38;5;66;03m# this function, and just call forward.\u001b[39;00m\n\u001b[0;32m   1100\u001b[0m \u001b[38;5;28;01mif\u001b[39;00m \u001b[38;5;129;01mnot\u001b[39;00m (\u001b[38;5;28mself\u001b[39m\u001b[38;5;241m.\u001b[39m_backward_hooks \u001b[38;5;129;01mor\u001b[39;00m \u001b[38;5;28mself\u001b[39m\u001b[38;5;241m.\u001b[39m_forward_hooks \u001b[38;5;129;01mor\u001b[39;00m \u001b[38;5;28mself\u001b[39m\u001b[38;5;241m.\u001b[39m_forward_pre_hooks \u001b[38;5;129;01mor\u001b[39;00m _global_backward_hooks\n\u001b[0;32m   1101\u001b[0m         \u001b[38;5;129;01mor\u001b[39;00m _global_forward_hooks \u001b[38;5;129;01mor\u001b[39;00m _global_forward_pre_hooks):\n\u001b[1;32m-> 1102\u001b[0m     \u001b[38;5;28;01mreturn\u001b[39;00m forward_call(\u001b[38;5;241m*\u001b[39m\u001b[38;5;28minput\u001b[39m, \u001b[38;5;241m*\u001b[39m\u001b[38;5;241m*\u001b[39mkwargs)\n\u001b[0;32m   1103\u001b[0m \u001b[38;5;66;03m# Do not call functions when jit is used\u001b[39;00m\n\u001b[0;32m   1104\u001b[0m full_backward_hooks, non_full_backward_hooks \u001b[38;5;241m=\u001b[39m [], []\n",
      "File \u001b[1;32m~\\anaconda3\\envs\\gpu_pytorch\\lib\\site-packages\\torch\\nn\\modules\\sparse.py:158\u001b[0m, in \u001b[0;36mEmbedding.forward\u001b[1;34m(self, input)\u001b[0m\n\u001b[0;32m    157\u001b[0m \u001b[38;5;28;01mdef\u001b[39;00m\u001b[38;5;250m \u001b[39m\u001b[38;5;21mforward\u001b[39m(\u001b[38;5;28mself\u001b[39m, \u001b[38;5;28minput\u001b[39m: Tensor) \u001b[38;5;241m-\u001b[39m\u001b[38;5;241m>\u001b[39m Tensor:\n\u001b[1;32m--> 158\u001b[0m     \u001b[38;5;28;01mreturn\u001b[39;00m \u001b[43mF\u001b[49m\u001b[38;5;241;43m.\u001b[39;49m\u001b[43membedding\u001b[49m\u001b[43m(\u001b[49m\n\u001b[0;32m    159\u001b[0m \u001b[43m        \u001b[49m\u001b[38;5;28;43minput\u001b[39;49m\u001b[43m,\u001b[49m\u001b[43m \u001b[49m\u001b[38;5;28;43mself\u001b[39;49m\u001b[38;5;241;43m.\u001b[39;49m\u001b[43mweight\u001b[49m\u001b[43m,\u001b[49m\u001b[43m \u001b[49m\u001b[38;5;28;43mself\u001b[39;49m\u001b[38;5;241;43m.\u001b[39;49m\u001b[43mpadding_idx\u001b[49m\u001b[43m,\u001b[49m\u001b[43m \u001b[49m\u001b[38;5;28;43mself\u001b[39;49m\u001b[38;5;241;43m.\u001b[39;49m\u001b[43mmax_norm\u001b[49m\u001b[43m,\u001b[49m\n\u001b[0;32m    160\u001b[0m \u001b[43m        \u001b[49m\u001b[38;5;28;43mself\u001b[39;49m\u001b[38;5;241;43m.\u001b[39;49m\u001b[43mnorm_type\u001b[49m\u001b[43m,\u001b[49m\u001b[43m \u001b[49m\u001b[38;5;28;43mself\u001b[39;49m\u001b[38;5;241;43m.\u001b[39;49m\u001b[43mscale_grad_by_freq\u001b[49m\u001b[43m,\u001b[49m\u001b[43m \u001b[49m\u001b[38;5;28;43mself\u001b[39;49m\u001b[38;5;241;43m.\u001b[39;49m\u001b[43msparse\u001b[49m\u001b[43m)\u001b[49m\n",
      "File \u001b[1;32m~\\anaconda3\\envs\\gpu_pytorch\\lib\\site-packages\\torch\\nn\\functional.py:2044\u001b[0m, in \u001b[0;36membedding\u001b[1;34m(input, weight, padding_idx, max_norm, norm_type, scale_grad_by_freq, sparse)\u001b[0m\n\u001b[0;32m   2038\u001b[0m     \u001b[38;5;66;03m# Note [embedding_renorm set_grad_enabled]\u001b[39;00m\n\u001b[0;32m   2039\u001b[0m     \u001b[38;5;66;03m# XXX: equivalent to\u001b[39;00m\n\u001b[0;32m   2040\u001b[0m     \u001b[38;5;66;03m# with torch.no_grad():\u001b[39;00m\n\u001b[0;32m   2041\u001b[0m     \u001b[38;5;66;03m#   torch.embedding_renorm_\u001b[39;00m\n\u001b[0;32m   2042\u001b[0m     \u001b[38;5;66;03m# remove once script supports set_grad_enabled\u001b[39;00m\n\u001b[0;32m   2043\u001b[0m     _no_grad_embedding_renorm_(weight, \u001b[38;5;28minput\u001b[39m, max_norm, norm_type)\n\u001b[1;32m-> 2044\u001b[0m \u001b[38;5;28;01mreturn\u001b[39;00m \u001b[43mtorch\u001b[49m\u001b[38;5;241;43m.\u001b[39;49m\u001b[43membedding\u001b[49m\u001b[43m(\u001b[49m\u001b[43mweight\u001b[49m\u001b[43m,\u001b[49m\u001b[43m \u001b[49m\u001b[38;5;28;43minput\u001b[39;49m\u001b[43m,\u001b[49m\u001b[43m \u001b[49m\u001b[43mpadding_idx\u001b[49m\u001b[43m,\u001b[49m\u001b[43m \u001b[49m\u001b[43mscale_grad_by_freq\u001b[49m\u001b[43m,\u001b[49m\u001b[43m \u001b[49m\u001b[43msparse\u001b[49m\u001b[43m)\u001b[49m\n",
      "\u001b[1;31mIndexError\u001b[0m: index out of range in self"
     ]
    }
   ],
   "source": [
    "from transformers import AutoModelForSeq2SeqLM\n",
    "\n",
    "def retrieve(query, model, tokenizer, index, texts, es, index_name, top_k=5):\n",
    "    query_embedding = embed_text(query, model, tokenizer, device).unsqueeze(0)\n",
    "    distances, indices = index.search(query_embedding.to('cpu').numpy(), top_k)\n",
    "    fais_results = [{\"text\": texts[i], \"distance\": distances[0][j]} for j, i in enumerate(indices[0])]\n",
    "    return fais_results\n",
    "\n",
    "def generate_answer(context, query, generator, tokenizer):\n",
    "    input_text = f\"Context: {context} Query: {query}\"\n",
    "    input_ids = tokenizer.encode(input_text, return_tensors='pt', max_length=512, truncation=True)\n",
    "    outputs = generator.generate(input_ids, max_length=128, num_beams=5, early_stopping=True)\n",
    "    return tokenizer.decode(outputs[0], skip_special_tokens=True)\n",
    "\n",
    "generator = AutoModelForSeq2SeqLM.from_pretrained(\"t5-base\").to('cpu')\n",
    "\n",
    "def rag_pipeline(user_query, model, tokenizer, index, texts, generator):\n",
    "    retrieved = retrieve(user_query, model, tokenizer, index, texts, es, index_name, top_k=5)\n",
    "    context = \" \".join([item['text'] for item in retrieved])\n",
    "\n",
    "    response = generate_answer(context, user_query, generator, tokenizer)\n",
    "    return response\n",
    "\n",
    "response = rag_pipeline(user_query, model, tokenizer, index, texts, generator)\n",
    "print(\"Réponse générée :\\n\", response)\n"
   ]
  },
  {
   "cell_type": "code",
   "execution_count": null,
   "id": "d2325960-a152-4aae-a4c6-04df15689bd3",
   "metadata": {},
   "outputs": [],
   "source": [
    "# from langchain.vectorstores import FAISS\n",
    "# from langchain.embeddings import HuggingFaceEmbeddings\n",
    "# from langchain.chains import RAGChain, LLMChain\n",
    "# from langchain.prompts import PromptTemplate\n",
    "# from langchain.llms import HuggingFacePipeline\n",
    "\n",
    "# class FAISS_Retriever:\n",
    "#     def __init__(self, index, texts):\n",
    "#         self.index = index\n",
    "#         self.texts = texts\n",
    "\n",
    "#     def retrieve(self, query, top_k=3):\n",
    "#         inputs = tokenizer(query, return_tensors=\"pt\", truncation=True, padding=True, max_length=512)\n",
    "#         with torch.no_grad():\n",
    "#             query_embedding = generator(**inputs).last_hidden_state.mean(dim=1).squeeze().cpu().numpy()\n",
    "\n",
    "#         distances, indices = self.index.search(np.array([query_embedding]), top_k)\n",
    "#         results = [self.texts[i] for i in indices[0]]\n",
    "#         return results\n",
    "\n",
    "# retriever = FAISS_Retriever(index, texts)\n",
    "\n",
    "# template = \"\"\"\n",
    "# Voici le contexte de la demande:  {context}\n",
    "# Dans ce cadre, réponds à cette question: {query}\n",
    "# \"\"\"\n",
    "\n",
    "# prompt = PromptTemplate(input_variables=[\"context\", \"query\"], template=template)\n",
    "# llm = HuggingFacePipeline(pipeline=generator)\n",
    "# chain = LLMChain(llm=llm, prompt=prompt)\n",
    "\n",
    "# retrieved_docs = retriever.retrieve(user_query)\n",
    "# context = \" \".join(retrieved_docs)\n",
    "# response = chain.run({\"context\": context, \"query\": query})\n",
    "\n",
    "# print(response)"
   ]
  }
 ],
 "metadata": {
  "kernelspec": {
   "display_name": "Python (gpu_pytorch)",
   "language": "python",
   "name": "gpu_pytorch"
  },
  "language_info": {
   "codemirror_mode": {
    "name": "ipython",
    "version": 3
   },
   "file_extension": ".py",
   "mimetype": "text/x-python",
   "name": "python",
   "nbconvert_exporter": "python",
   "pygments_lexer": "ipython3",
   "version": "3.9.21"
  }
 },
 "nbformat": 4,
 "nbformat_minor": 5
}
