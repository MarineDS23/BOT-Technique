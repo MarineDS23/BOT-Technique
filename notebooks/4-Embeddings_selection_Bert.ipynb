{
 "cells": [
  {
   "cell_type": "markdown",
   "id": "8acd57c9-aab7-4ec0-bf14-d37c21f31093",
   "metadata": {},
   "source": [
    "# Chargement des données textuelles"
   ]
  },
  {
   "cell_type": "code",
   "execution_count": 122,
   "id": "8111746a-89c5-471b-a7c8-9e63e8eee4b0",
   "metadata": {},
   "outputs": [
    {
     "name": "stdout",
     "output_type": "stream",
     "text": [
      "(4132, 3)\n",
      "************************************************************************************************************************\n",
      "Source Etablissement recevant des travailleurs: 299\n",
      "Source Réglementation sécurité et incendie. Etablissement recevant du public: 44\n",
      "Source Règlement de sécurité contre les risques d'incendie et de panique. Etablissements recevant du public: 1161\n",
      "Source Code de la construction et de l'habitation: 2628\n",
      "************************************************************************************************************************\n",
      "['Etablissement recevant des travailleurs', \"Obligations du maître d'ouvrage pour la conception des lieux de travail  (Articles R4211-1 à R4217-2)\", 'Sécurité des lieux de travail (Articles R4214-1 à R4214-28)', 'Caractéristiques des bâtiments (Articles R4214-1 à R4214-8)', 'Article R4214-4', 'Créé par Décret n°2008-244 du 7 mars 2008 - art', '(V)', '']\n",
      "Les surfaces des planchers, des murs et des plafonds sont conçues de manière à pouvoir être nettoyées ou ravalées en vue d obtenir des conditions d hygiène appropriées.\n"
     ]
    }
   ],
   "source": [
    "import pandas as pd\n",
    "\n",
    "def correct_text(text):\n",
    "    text = re.sub(r'([a-zA-Z])([A-Z])', r'\\1 \\2', text) \n",
    "    text = re.sub(r'article(\\d+)', r'article \\1', text) \n",
    "    text = re.sub(r'([a-z])([A-Z])', r'\\1 \\2', text)  \n",
    "    text = re.sub(r'([LR])\\.\\s*(\\d[-\\d]*)', r'\\1.\\2', text)\n",
    "    text = re.sub(r\"'\", \" \", text)\n",
    "    text = re.sub(r\"(Des?|les?)articles\", r\"\\1 articles\", text)\n",
    "    return text\n",
    "    \n",
    "df = pd.read_excel(\"./base_de_donnees.xlsx\") \n",
    "\n",
    "df['Contenu'] = df['Contenu'].apply(correct_text)\n",
    "texts_ = df['Contenu'].tolist()\n",
    "df['Contexte'] = df['Source'] + '.x. ' + df['Contexte']\n",
    "contexts = df['Contexte'].map(lambda x: x.replace('.x.', '.')).tolist()\n",
    "print(df.shape)\n",
    "print('*' * 120)\n",
    "for source in df.Source.unique():\n",
    "    print(f\"Source {source}: {len(df[df['Source']==source])}\")\n",
    "\n",
    "print('*' * 120)\n",
    "print(contexts[24].split('. '))\n",
    "print(texts_[24])\n",
    "df.to_excel('base_de_donnees_c.xlsx', index=False)"
   ]
  },
  {
   "cell_type": "code",
   "execution_count": 123,
   "id": "cbfb306e-8acc-4960-a332-9490ac084fe1",
   "metadata": {},
   "outputs": [],
   "source": [
    "# df[df['Contenu'].str.contains('Desf')]['Contenu']"
   ]
  },
  {
   "cell_type": "markdown",
   "id": "9602cb1c-7f32-4532-b3f3-d116a114e027",
   "metadata": {},
   "source": [
    "# GPU Actif"
   ]
  },
  {
   "cell_type": "code",
   "execution_count": 124,
   "id": "50f3586e-56e9-47ef-9521-f9c1bdcf2185",
   "metadata": {},
   "outputs": [
    {
     "name": "stdout",
     "output_type": "stream",
     "text": [
      "1.10.1+cu111\n",
      "True\n"
     ]
    }
   ],
   "source": [
    "import torch\n",
    "print(torch.__version__)\n",
    "print(torch.cuda.is_available())"
   ]
  },
  {
   "cell_type": "markdown",
   "id": "ab431311-5a0c-4510-b1e1-381dc31da2af",
   "metadata": {},
   "source": [
    "# Tokenizer & Embedding et application aux Textes et Contextes\n",
    "- 4 modèles de tokenization/embedding utilisés: 'Flaubert', 'Camembert', 'Bert', 'DistilBert'"
   ]
  },
  {
   "cell_type": "code",
   "execution_count": 125,
   "id": "43b9e72c-af26-4473-a615-e777f0ab7d57",
   "metadata": {},
   "outputs": [
    {
     "name": "stdout",
     "output_type": "stream",
     "text": [
      "Using device: cuda\n"
     ]
    },
    {
     "name": "stderr",
     "output_type": "stream",
     "text": [
      "Some weights of the model checkpoint at flaubert/flaubert_base_cased were not used when initializing FlaubertModel: ['pred_layer.proj.weight', 'pred_layer.proj.bias']\n",
      "- This IS expected if you are initializing FlaubertModel from the checkpoint of a model trained on another task or with another architecture (e.g. initializing a BertForSequenceClassification model from a BertForPreTraining model).\n",
      "- This IS NOT expected if you are initializing FlaubertModel from the checkpoint of a model that you expect to be exactly identical (initializing a BertForSequenceClassification model from a BertForSequenceClassification model).\n"
     ]
    },
    {
     "name": "stdout",
     "output_type": "stream",
     "text": [
      "processed: 4132: 100%|████████████████████████████████████████████████████████████▉| 4132/4133 [01:11<00:00, 58.12it/s]\n",
      "Text embeddings done.\n",
      "processed: 4132: 100%|████████████████████████████████████████████████████████████▉| 4132/4133 [00:59<00:00, 69.95it/s]\n",
      "Context embeddings done.\n"
     ]
    }
   ],
   "source": [
    "import torch\n",
    "from transformers import DistilBertTokenizer, DistilBertModel\n",
    "from transformers import CamembertTokenizer, CamembertModel\n",
    "from transformers import BertTokenizer, BertModel\n",
    "from transformers import FlaubertTokenizer, FlaubertModel\n",
    "\n",
    "from tqdm import tqdm\n",
    "import sys\n",
    "\n",
    "device = torch.device(\"cuda\" if torch.cuda.is_available() else \"cpu\")\n",
    "print(f\"Using device: {device}\")\n",
    "\n",
    "\n",
    "models_names = ['flaubert/flaubert_base_cased', \"camembert-base\", \"bert-base-multilingual-cased\", 'distilbert-base-uncased']\n",
    "models_suffix = ['Flaubert', 'Camembert', 'Bert', 'DistilBert']\n",
    "model_index = 0\n",
    "model_name = models_names[model_index]\n",
    "model_suffix = models_suffix[model_index]\n",
    "\n",
    "tokenizer = globals()[f'{model_suffix}Tokenizer'].from_pretrained(model_name)\n",
    "model = globals()[f'{model_suffix}Model'].from_pretrained(model_name).to(device)\n",
    "\n",
    "def get_embeddings(texts):\n",
    "    inputs = tokenizer(texts, return_tensors='pt', padding=True, truncation=True, max_length=512).to(device)\n",
    "    with torch.no_grad():\n",
    "        outputs = model(**inputs)\n",
    "    return outputs.last_hidden_state.mean(dim=1).cpu()  \n",
    "\n",
    "\n",
    "def process_embeddings(data):\n",
    "    embeddings = []\n",
    "    with tqdm(total=int(len(data))+1,file=sys.stdout) as prog_bar:\n",
    "        for i in range(len(data)):\n",
    "            embeddings.append(get_embeddings(data[i]))\n",
    "            prog_bar.set_description('processed: %d' % (1 + i))\n",
    "            prog_bar.update(1)            \n",
    "    return torch.cat(embeddings, dim=0)\n",
    "\n",
    "text_embeddings = process_embeddings(texts_)\n",
    "print(\"Text embeddings done.\")\n",
    "\n",
    "context_embeddings = process_embeddings(contexts)\n",
    "print(\"Context embeddings done.\")\n"
   ]
  },
  {
   "cell_type": "markdown",
   "id": "845c2a8d-8307-49ca-b7d1-25007497ba38",
   "metadata": {},
   "source": [
    "# Aperçu de df"
   ]
  },
  {
   "cell_type": "code",
   "execution_count": 126,
   "id": "f1e103d0-ce29-4643-b02c-40683b4947db",
   "metadata": {},
   "outputs": [
    {
     "data": {
      "text/html": [
       "<div>\n",
       "<style scoped>\n",
       "    .dataframe tbody tr th:only-of-type {\n",
       "        vertical-align: middle;\n",
       "    }\n",
       "\n",
       "    .dataframe tbody tr th {\n",
       "        vertical-align: top;\n",
       "    }\n",
       "\n",
       "    .dataframe thead th {\n",
       "        text-align: right;\n",
       "    }\n",
       "</style>\n",
       "<table border=\"1\" class=\"dataframe\">\n",
       "  <thead>\n",
       "    <tr style=\"text-align: right;\">\n",
       "      <th></th>\n",
       "      <th>Source</th>\n",
       "      <th>Contexte</th>\n",
       "      <th>Contenu</th>\n",
       "    </tr>\n",
       "  </thead>\n",
       "  <tbody>\n",
       "    <tr>\n",
       "      <th>0</th>\n",
       "      <td>Etablissement recevant des travailleurs</td>\n",
       "      <td>Etablissement recevant des travailleurs.x. Obl...</td>\n",
       "      <td>Les dispositions du présent titre déterminent,...</td>\n",
       "    </tr>\n",
       "    <tr>\n",
       "      <th>1</th>\n",
       "      <td>Etablissement recevant des travailleurs</td>\n",
       "      <td>Etablissement recevant des travailleurs.x. Obl...</td>\n",
       "      <td>Pour l application du présent titre, on entend...</td>\n",
       "    </tr>\n",
       "    <tr>\n",
       "      <th>2</th>\n",
       "      <td>Etablissement recevant des travailleurs</td>\n",
       "      <td>Etablissement recevant des travailleurs.x. Obl...</td>\n",
       "      <td>Le maître d ouvrage élabore et transmet aux ut...</td>\n",
       "    </tr>\n",
       "    <tr>\n",
       "      <th>3</th>\n",
       "      <td>Etablissement recevant des travailleurs</td>\n",
       "      <td>Etablissement recevant des travailleurs.x. Obl...</td>\n",
       "      <td>Le dossier de maintenance des lieux de travail...</td>\n",
       "    </tr>\n",
       "    <tr>\n",
       "      <th>4</th>\n",
       "      <td>Etablissement recevant des travailleurs</td>\n",
       "      <td>Etablissement recevant des travailleurs.x. Obl...</td>\n",
       "      <td>Le dossier de maintenance des lieux de travail...</td>\n",
       "    </tr>\n",
       "    <tr>\n",
       "      <th>...</th>\n",
       "      <td>...</td>\n",
       "      <td>...</td>\n",
       "      <td>...</td>\n",
       "    </tr>\n",
       "    <tr>\n",
       "      <th>4127</th>\n",
       "      <td>Code de la construction et de l'habitation</td>\n",
       "      <td>Code de la construction et de l'habitation.x. ...</td>\n",
       "      <td>Pour leur application à Saint-Pierre-et-Miquel...</td>\n",
       "    </tr>\n",
       "    <tr>\n",
       "      <th>4128</th>\n",
       "      <td>Code de la construction et de l'habitation</td>\n",
       "      <td>Code de la construction et de l'habitation.x. ...</td>\n",
       "      <td>Pour leur application à Saint-Pierre-et-Miquel...</td>\n",
       "    </tr>\n",
       "    <tr>\n",
       "      <th>4129</th>\n",
       "      <td>Code de la construction et de l'habitation</td>\n",
       "      <td>Code de la construction et de l'habitation.x. ...</td>\n",
       "      <td>Les articles D. 842-15 à D. 842-18 ne sont pas...</td>\n",
       "    </tr>\n",
       "    <tr>\n",
       "      <th>4130</th>\n",
       "      <td>Code de la construction et de l'habitation</td>\n",
       "      <td>Code de la construction et de l'habitation.x. ...</td>\n",
       "      <td>Les articles  R.842-14,  R.843-2 à  R.843-8 ne...</td>\n",
       "    </tr>\n",
       "    <tr>\n",
       "      <th>4131</th>\n",
       "      <td>Code de la construction et de l'habitation</td>\n",
       "      <td>Code de la construction et de l'habitation.x. ...</td>\n",
       "      <td>Pour leur application à Saint-Pierre-et-Miquel...</td>\n",
       "    </tr>\n",
       "  </tbody>\n",
       "</table>\n",
       "<p>4132 rows × 3 columns</p>\n",
       "</div>"
      ],
      "text/plain": [
       "                                          Source  \\\n",
       "0        Etablissement recevant des travailleurs   \n",
       "1        Etablissement recevant des travailleurs   \n",
       "2        Etablissement recevant des travailleurs   \n",
       "3        Etablissement recevant des travailleurs   \n",
       "4        Etablissement recevant des travailleurs   \n",
       "...                                          ...   \n",
       "4127  Code de la construction et de l'habitation   \n",
       "4128  Code de la construction et de l'habitation   \n",
       "4129  Code de la construction et de l'habitation   \n",
       "4130  Code de la construction et de l'habitation   \n",
       "4131  Code de la construction et de l'habitation   \n",
       "\n",
       "                                               Contexte  \\\n",
       "0     Etablissement recevant des travailleurs.x. Obl...   \n",
       "1     Etablissement recevant des travailleurs.x. Obl...   \n",
       "2     Etablissement recevant des travailleurs.x. Obl...   \n",
       "3     Etablissement recevant des travailleurs.x. Obl...   \n",
       "4     Etablissement recevant des travailleurs.x. Obl...   \n",
       "...                                                 ...   \n",
       "4127  Code de la construction et de l'habitation.x. ...   \n",
       "4128  Code de la construction et de l'habitation.x. ...   \n",
       "4129  Code de la construction et de l'habitation.x. ...   \n",
       "4130  Code de la construction et de l'habitation.x. ...   \n",
       "4131  Code de la construction et de l'habitation.x. ...   \n",
       "\n",
       "                                                Contenu  \n",
       "0     Les dispositions du présent titre déterminent,...  \n",
       "1     Pour l application du présent titre, on entend...  \n",
       "2     Le maître d ouvrage élabore et transmet aux ut...  \n",
       "3     Le dossier de maintenance des lieux de travail...  \n",
       "4     Le dossier de maintenance des lieux de travail...  \n",
       "...                                                 ...  \n",
       "4127  Pour leur application à Saint-Pierre-et-Miquel...  \n",
       "4128  Pour leur application à Saint-Pierre-et-Miquel...  \n",
       "4129  Les articles D. 842-15 à D. 842-18 ne sont pas...  \n",
       "4130  Les articles  R.842-14,  R.843-2 à  R.843-8 ne...  \n",
       "4131  Pour leur application à Saint-Pierre-et-Miquel...  \n",
       "\n",
       "[4132 rows x 3 columns]"
      ]
     },
     "execution_count": 126,
     "metadata": {},
     "output_type": "execute_result"
    }
   ],
   "source": [
    "df"
   ]
  },
  {
   "cell_type": "markdown",
   "id": "2f15cb44-8f34-472d-be80-92f4206c373b",
   "metadata": {},
   "source": [
    "# Recherche du texte le plus proche"
   ]
  },
  {
   "cell_type": "code",
   "execution_count": 127,
   "id": "fc580078-ea19-48f5-b954-2cd8cf2916fa",
   "metadata": {},
   "outputs": [
    {
     "name": "stdout",
     "output_type": "stream",
     "text": [
      "User query: Je dois faire des modification dans un établissement recevant le public. Par qui l'autorisation est elle délivrée\n",
      "\n",
      "\n",
      "------------------------------------------------------------------------------------------------------------------------\n",
      "Cosine Similarity: 0.5724\n",
      "\n",
      "Source plus proche:Code de la construction et de l'habitation\n",
      "\n",
      " Contexte: Code de la construction et de l'habitation.x. Article R641-19.x. Dispositions permettant de faire face à des difficultés particulières de logement..x. Mesures tendant à favoriser la construction d'habitations..x. Sociétés coopératives de construction..x. Agrément des contrôleurs techniques.x. Diagnostic portant sur les déchets issus de rénovations et de démolitions.x. Modifié par Décret n°99-340 du 29 avril 1999 - art. 1 () JORF 5 mai 1999.x. \n",
      "\n",
      "Texte: Le délai supplémentaire prévu àl article L.641-1, alinéa 4, ne peut être accordé au bénéficiaire de l attribution d office lorsque le propriétaire notifie qu il entre dans une des catégories prévues àl article L.641-2.\n",
      "------------------------------------------------------------------------------------------------------------------------\n",
      "Cosine Similarity: 0.5714\n",
      "\n",
      "Source plus proche:Code de la construction et de l'habitation\n",
      "\n",
      " Contexte: Code de la construction et de l'habitation.x. Article D331-79.x. Aides diverses à la construction d'habitations et à l'amélioration de l'habitat - Aide personnalisée au logement..x. Mesures tendant à favoriser la construction d'habitations..x. Sociétés coopératives de construction..x. Agrément des contrôleurs techniques.x. Diagnostic portant sur les déchets issus de rénovations et de démolitions.x. Modifié par Décret n°2019-873 du 21 août 2019 - art. 6.x. \n",
      "\n",
      "Texte: Les occupants des logements financés à l aide de ces prêts bénéficient de l aide personnalisée au logement dans les conditions prévues par le livre I II, titre V, du présent code (1re partie)  et de l article L.431-6.\n",
      "------------------------------------------------------------------------------------------------------------------------\n",
      "Cosine Similarity: 0.5429\n",
      "\n",
      "Source plus proche:Etablissement recevant des travailleurs\n",
      "\n",
      " Contexte: Etablissement recevant des travailleurs.x. Obligations du maître d'ouvrage pour la conception des lieux de travail  (Articles R4211-1 à R4217-2).x. Sécurité des lieux de travail (Articles R4214-1 à R4214-28).x. Aménagement des lieux et postes de travail (Articles R4214-22 à R4214-25).x. Article R4214-24.x. Créé par Décret n°2008-244 du 7 mars 2008 - art. (V).x. \n",
      "\n",
      "Texte: Si des postes de travail extérieurs sont prévus, ceux-ci sont conçus et aménagés suivant les prescriptions de l article R.4225-1.\n"
     ]
    }
   ],
   "source": [
    "from tqdm import tqdm\n",
    "import sys\n",
    "\n",
    "\n",
    "user_query = \"Je dois installer des dispositifs de désenfumage. A quoi dois je faire attention\"\n",
    "user_query = \"Je dois faire des modification dans un établissement recevant le public. Par qui l'autorisation est elle délivrée\"\n",
    "query_embeddings = get_embeddings(user_query)\n",
    "\n",
    "text_embeddings = text_embeddings.to(device)\n",
    "context_embeddings = context_embeddings.to(device)\n",
    "query_embeddings = query_embeddings.to(device)\n",
    "\n",
    "similarities = torch.nn.functional.cosine_similarity(query_embeddings, text_embeddings, dim=1)\n",
    "\n",
    "most_similar_index = torch.argmax(similarities).item()\n",
    "\n",
    "top_k = 3\n",
    "top_k_indices = torch.argsort(similarities, descending=True)[:top_k]\n",
    "print(f\"User query: {user_query}\\n\\n\")\n",
    "\n",
    "for idx in top_k_indices:\n",
    "    idx = idx.item() \n",
    "    text = df.loc[idx, 'Contenu']\n",
    "    context = df.loc[idx, 'Contexte']\n",
    "    source = df.loc[idx, 'Source']\n",
    "    similarity_coeff = similarities[idx]\n",
    "    print('-' * 120)\n",
    "    print(f\"Cosine Similarity: {similarity_coeff:.4f}\\n\\nSource plus proche:{df.loc[idx, 'Source']}\\n\\n Contexte: {df.loc[idx, 'Contexte']}\")\n",
    "    print(f\"\\nTexte: {df.loc[idx, 'Contenu']}\")"
   ]
  },
  {
   "cell_type": "markdown",
   "id": "70f351f8-0e22-45be-8bfe-af650b699cbf",
   "metadata": {},
   "source": [
    "# Finetuning espace d'embedding"
   ]
  },
  {
   "cell_type": "code",
   "execution_count": 128,
   "id": "3a09e520-66a2-4b91-bf21-3a7c680cc36a",
   "metadata": {},
   "outputs": [
    {
     "data": {
      "text/plain": [
       "array(['Etablissement recevant des travailleurs',\n",
       "       'Réglementation sécurité et incendie. Etablissement recevant du public',\n",
       "       \"Règlement de sécurité contre les risques d'incendie et de panique. Etablissements recevant du public\",\n",
       "       \"Code de la construction et de l'habitation\"], dtype=object)"
      ]
     },
     "execution_count": 128,
     "metadata": {},
     "output_type": "execute_result"
    }
   ],
   "source": [
    "df.Source.unique()"
   ]
  },
  {
   "cell_type": "code",
   "execution_count": 129,
   "id": "4e9d9a70-b42f-41d0-a241-b2eb98029749",
   "metadata": {},
   "outputs": [
    {
     "name": "stdout",
     "output_type": "stream",
     "text": [
      "Dataset composé de: 3833 de relations positives (1) entre contexte et contenu\n",
      "Dataset composé de: 8000 de relations entre -1 et 1 entre contenus différents\n"
     ]
    }
   ],
   "source": [
    "import random\n",
    "import numpy as np\n",
    "\n",
    "\n",
    "df_1 = df[(df['Source']!=\"Code de la construction et de l'habitation\") & (df['Source']!=\"Etablissement recevant des travailleurs\")].copy()\n",
    "df_2 = df[df['Source']==\"Code de la construction et de l'habitation\"].copy()\n",
    "df_3 = df[df['Source']==\"Etablissement recevant des travailleurs\"].copy()\n",
    "\n",
    "\n",
    "df_1.reset_index(inplace=True, drop='True')\n",
    "df_2.reset_index(inplace=True, drop='True')\n",
    "\n",
    "def calculate_similarity(context_1, context_2):\n",
    "    context_1_list = context_1.split('.')[:-1]\n",
    "    context_2_list = context_2.split('.')[:-1]\n",
    "    common_levels =  len(list(set(context_1_list).intersection(context_2_list)))\n",
    "    max_levels = np.min([len(context_1_list), len(context_2_list)])\n",
    "    ratio = common_levels/max_levels\n",
    "    return -2 * np.exp(-ratio/0.2) + 1\n",
    "\n",
    "def get_index_list(df_, n):\n",
    "    lst_idx = []\n",
    "    for _ in range(n):\n",
    "        a, b = random.randint(0, len(df_)-1), random.randint(0, len(df_)-1)\n",
    "        while b == a: b = random.randint(0, len(df_)-1)\n",
    "        lst_idx.append((a, b))\n",
    "    return lst_idx\n",
    "\n",
    "list_1_indexes = get_index_list(df_=df_1, n=4000)\n",
    "liste_1 = [{\"sentence1\": df_1.loc[i, 'Contenu'], \"sentence2\": df_1.loc[j, 'Contenu'], \n",
    "            'label': calculate_similarity(df_1.loc[i, 'Contexte'], df_1.loc[j, 'Contexte'])} for i, j in list_1_indexes]\n",
    "\n",
    "list_2_indexes = get_index_list(df_=df_2, n=4000)\n",
    "liste_2 = [{\"sentence1\": df_2.loc[i, 'Contenu'], \"sentence2\": df_2.loc[j, 'Contenu'], \n",
    "            'label': calculate_similarity(df_2.loc[i, 'Contexte'], df_2.loc[i, 'Contexte'])} for i, j in list_2_indexes]\n",
    "\n",
    "data = [*[{\"sentence1\": df_1.loc[i, 'Contexte'], \"sentence2\": df_1.loc[i, 'Contenu'], 'label': 1} for i in range(len(df_1))],\n",
    "        *[{\"sentence1\": df_2.loc[i, 'Contexte'], \"sentence2\": df_2.loc[i, 'Contenu'], 'label': 1} for i in range(len(df_2))],\n",
    "        # *[{\"sentence1\": df_1.loc[i, 'Contexte'], \"sentence2\": df_2.loc[i, 'Contenu'], 'label': -1} for i in range(min(len(df_1), len(df_2)))],\n",
    "        # *[{\"sentence1\": df_2.loc[i, 'Contexte'], \"sentence2\": df_1.loc[i, 'Contenu'], 'label': -1} for i in range(min(len(df_1), len(df_2)))],\n",
    "        # *[{\"sentence1\": df_1.loc[i, 'Contexte'], \"sentence2\": df_2.loc[i, 'Contexte'], 'label': -1} for i in range(min(len(df_1), len(df_2)))],\n",
    "        # *[{\"sentence1\": df_2.loc[i, 'Contenu'], \"sentence2\": df_1.loc[i, 'Contenu'], 'label': -1} for i in range(min(len(df_1), len(df_2)))],\n",
    "        *liste_1, *liste_2]\n",
    "\n",
    "print(f'Dataset composé de: {len(df_1) + len(df_2)} de relations positives (1) entre contexte et contenu')\n",
    "print(f'Dataset composé de: {len(liste_1) + len(liste_2)} de relations entre -1 et 1 entre contenus différents')"
   ]
  },
  {
   "cell_type": "markdown",
   "id": "861ed795-f18d-4d96-b177-9cb2a9ea7fe2",
   "metadata": {},
   "source": [
    "# Construction de la bade de donnees avec label contrastif"
   ]
  },
  {
   "cell_type": "code",
   "execution_count": 130,
   "id": "70737615-65fe-469a-9d41-ded3b7094784",
   "metadata": {},
   "outputs": [],
   "source": [
    "from torch.utils.data import Dataset, DataLoader\n",
    "\n",
    "class ContrastiveDataset(Dataset):\n",
    "    def __init__(self, data, tokenizer, max_len=128):\n",
    "        self.data = data\n",
    "        self.tokenizer = tokenizer\n",
    "        self.max_len = max_len\n",
    "\n",
    "    def __len__(self):\n",
    "        return len(self.data)\n",
    "\n",
    "    def __getitem__(self, index):\n",
    "        row = self.data[index]\n",
    "        tokens = self.tokenizer(row['sentence1'], row['sentence2'], truncation=True, padding='max_length', max_length=self.max_len, return_tensors='pt')\n",
    "        label = torch.tensor(row['label'], dtype=torch.float)\n",
    "        return tokens, label\n",
    "\n",
    "tokenizer = globals()[f'{model_suffix}Tokenizer'].from_pretrained(model_name)\n",
    "dataset = ContrastiveDataset(data, tokenizer)\n",
    "dataloader = DataLoader(dataset, batch_size=16, shuffle=True)\n"
   ]
  },
  {
   "cell_type": "markdown",
   "id": "6bf283bf-9270-49de-b6f1-d7417dca9af3",
   "metadata": {},
   "source": [
    "# Définition du model: XBert + couche de projection"
   ]
  },
  {
   "cell_type": "code",
   "execution_count": 131,
   "id": "67b396ec-eee6-47d2-8932-bdb065f4d631",
   "metadata": {
    "scrolled": true
   },
   "outputs": [
    {
     "name": "stderr",
     "output_type": "stream",
     "text": [
      "Some weights of the model checkpoint at flaubert/flaubert_base_cased were not used when initializing FlaubertModel: ['pred_layer.proj.weight', 'pred_layer.proj.bias']\n",
      "- This IS expected if you are initializing FlaubertModel from the checkpoint of a model trained on another task or with another architecture (e.g. initializing a BertForSequenceClassification model from a BertForPreTraining model).\n",
      "- This IS NOT expected if you are initializing FlaubertModel from the checkpoint of a model that you expect to be exactly identical (initializing a BertForSequenceClassification model from a BertForSequenceClassification model).\n"
     ]
    },
    {
     "data": {
      "text/plain": [
       "ContrastiveModel(\n",
       "  (bert): FlaubertModel(\n",
       "    (position_embeddings): Embedding(512, 768)\n",
       "    (embeddings): Embedding(68729, 768, padding_idx=2)\n",
       "    (layer_norm_emb): LayerNorm((768,), eps=1e-12, elementwise_affine=True)\n",
       "    (attentions): ModuleList(\n",
       "      (0): MultiHeadAttention(\n",
       "        (q_lin): Linear(in_features=768, out_features=768, bias=True)\n",
       "        (k_lin): Linear(in_features=768, out_features=768, bias=True)\n",
       "        (v_lin): Linear(in_features=768, out_features=768, bias=True)\n",
       "        (out_lin): Linear(in_features=768, out_features=768, bias=True)\n",
       "      )\n",
       "      (1): MultiHeadAttention(\n",
       "        (q_lin): Linear(in_features=768, out_features=768, bias=True)\n",
       "        (k_lin): Linear(in_features=768, out_features=768, bias=True)\n",
       "        (v_lin): Linear(in_features=768, out_features=768, bias=True)\n",
       "        (out_lin): Linear(in_features=768, out_features=768, bias=True)\n",
       "      )\n",
       "      (2): MultiHeadAttention(\n",
       "        (q_lin): Linear(in_features=768, out_features=768, bias=True)\n",
       "        (k_lin): Linear(in_features=768, out_features=768, bias=True)\n",
       "        (v_lin): Linear(in_features=768, out_features=768, bias=True)\n",
       "        (out_lin): Linear(in_features=768, out_features=768, bias=True)\n",
       "      )\n",
       "      (3): MultiHeadAttention(\n",
       "        (q_lin): Linear(in_features=768, out_features=768, bias=True)\n",
       "        (k_lin): Linear(in_features=768, out_features=768, bias=True)\n",
       "        (v_lin): Linear(in_features=768, out_features=768, bias=True)\n",
       "        (out_lin): Linear(in_features=768, out_features=768, bias=True)\n",
       "      )\n",
       "      (4): MultiHeadAttention(\n",
       "        (q_lin): Linear(in_features=768, out_features=768, bias=True)\n",
       "        (k_lin): Linear(in_features=768, out_features=768, bias=True)\n",
       "        (v_lin): Linear(in_features=768, out_features=768, bias=True)\n",
       "        (out_lin): Linear(in_features=768, out_features=768, bias=True)\n",
       "      )\n",
       "      (5): MultiHeadAttention(\n",
       "        (q_lin): Linear(in_features=768, out_features=768, bias=True)\n",
       "        (k_lin): Linear(in_features=768, out_features=768, bias=True)\n",
       "        (v_lin): Linear(in_features=768, out_features=768, bias=True)\n",
       "        (out_lin): Linear(in_features=768, out_features=768, bias=True)\n",
       "      )\n",
       "      (6): MultiHeadAttention(\n",
       "        (q_lin): Linear(in_features=768, out_features=768, bias=True)\n",
       "        (k_lin): Linear(in_features=768, out_features=768, bias=True)\n",
       "        (v_lin): Linear(in_features=768, out_features=768, bias=True)\n",
       "        (out_lin): Linear(in_features=768, out_features=768, bias=True)\n",
       "      )\n",
       "      (7): MultiHeadAttention(\n",
       "        (q_lin): Linear(in_features=768, out_features=768, bias=True)\n",
       "        (k_lin): Linear(in_features=768, out_features=768, bias=True)\n",
       "        (v_lin): Linear(in_features=768, out_features=768, bias=True)\n",
       "        (out_lin): Linear(in_features=768, out_features=768, bias=True)\n",
       "      )\n",
       "      (8): MultiHeadAttention(\n",
       "        (q_lin): Linear(in_features=768, out_features=768, bias=True)\n",
       "        (k_lin): Linear(in_features=768, out_features=768, bias=True)\n",
       "        (v_lin): Linear(in_features=768, out_features=768, bias=True)\n",
       "        (out_lin): Linear(in_features=768, out_features=768, bias=True)\n",
       "      )\n",
       "      (9): MultiHeadAttention(\n",
       "        (q_lin): Linear(in_features=768, out_features=768, bias=True)\n",
       "        (k_lin): Linear(in_features=768, out_features=768, bias=True)\n",
       "        (v_lin): Linear(in_features=768, out_features=768, bias=True)\n",
       "        (out_lin): Linear(in_features=768, out_features=768, bias=True)\n",
       "      )\n",
       "      (10): MultiHeadAttention(\n",
       "        (q_lin): Linear(in_features=768, out_features=768, bias=True)\n",
       "        (k_lin): Linear(in_features=768, out_features=768, bias=True)\n",
       "        (v_lin): Linear(in_features=768, out_features=768, bias=True)\n",
       "        (out_lin): Linear(in_features=768, out_features=768, bias=True)\n",
       "      )\n",
       "      (11): MultiHeadAttention(\n",
       "        (q_lin): Linear(in_features=768, out_features=768, bias=True)\n",
       "        (k_lin): Linear(in_features=768, out_features=768, bias=True)\n",
       "        (v_lin): Linear(in_features=768, out_features=768, bias=True)\n",
       "        (out_lin): Linear(in_features=768, out_features=768, bias=True)\n",
       "      )\n",
       "    )\n",
       "    (layer_norm1): ModuleList(\n",
       "      (0): LayerNorm((768,), eps=1e-12, elementwise_affine=True)\n",
       "      (1): LayerNorm((768,), eps=1e-12, elementwise_affine=True)\n",
       "      (2): LayerNorm((768,), eps=1e-12, elementwise_affine=True)\n",
       "      (3): LayerNorm((768,), eps=1e-12, elementwise_affine=True)\n",
       "      (4): LayerNorm((768,), eps=1e-12, elementwise_affine=True)\n",
       "      (5): LayerNorm((768,), eps=1e-12, elementwise_affine=True)\n",
       "      (6): LayerNorm((768,), eps=1e-12, elementwise_affine=True)\n",
       "      (7): LayerNorm((768,), eps=1e-12, elementwise_affine=True)\n",
       "      (8): LayerNorm((768,), eps=1e-12, elementwise_affine=True)\n",
       "      (9): LayerNorm((768,), eps=1e-12, elementwise_affine=True)\n",
       "      (10): LayerNorm((768,), eps=1e-12, elementwise_affine=True)\n",
       "      (11): LayerNorm((768,), eps=1e-12, elementwise_affine=True)\n",
       "    )\n",
       "    (ffns): ModuleList(\n",
       "      (0): TransformerFFN(\n",
       "        (lin1): Linear(in_features=768, out_features=3072, bias=True)\n",
       "        (lin2): Linear(in_features=3072, out_features=768, bias=True)\n",
       "      )\n",
       "      (1): TransformerFFN(\n",
       "        (lin1): Linear(in_features=768, out_features=3072, bias=True)\n",
       "        (lin2): Linear(in_features=3072, out_features=768, bias=True)\n",
       "      )\n",
       "      (2): TransformerFFN(\n",
       "        (lin1): Linear(in_features=768, out_features=3072, bias=True)\n",
       "        (lin2): Linear(in_features=3072, out_features=768, bias=True)\n",
       "      )\n",
       "      (3): TransformerFFN(\n",
       "        (lin1): Linear(in_features=768, out_features=3072, bias=True)\n",
       "        (lin2): Linear(in_features=3072, out_features=768, bias=True)\n",
       "      )\n",
       "      (4): TransformerFFN(\n",
       "        (lin1): Linear(in_features=768, out_features=3072, bias=True)\n",
       "        (lin2): Linear(in_features=3072, out_features=768, bias=True)\n",
       "      )\n",
       "      (5): TransformerFFN(\n",
       "        (lin1): Linear(in_features=768, out_features=3072, bias=True)\n",
       "        (lin2): Linear(in_features=3072, out_features=768, bias=True)\n",
       "      )\n",
       "      (6): TransformerFFN(\n",
       "        (lin1): Linear(in_features=768, out_features=3072, bias=True)\n",
       "        (lin2): Linear(in_features=3072, out_features=768, bias=True)\n",
       "      )\n",
       "      (7): TransformerFFN(\n",
       "        (lin1): Linear(in_features=768, out_features=3072, bias=True)\n",
       "        (lin2): Linear(in_features=3072, out_features=768, bias=True)\n",
       "      )\n",
       "      (8): TransformerFFN(\n",
       "        (lin1): Linear(in_features=768, out_features=3072, bias=True)\n",
       "        (lin2): Linear(in_features=3072, out_features=768, bias=True)\n",
       "      )\n",
       "      (9): TransformerFFN(\n",
       "        (lin1): Linear(in_features=768, out_features=3072, bias=True)\n",
       "        (lin2): Linear(in_features=3072, out_features=768, bias=True)\n",
       "      )\n",
       "      (10): TransformerFFN(\n",
       "        (lin1): Linear(in_features=768, out_features=3072, bias=True)\n",
       "        (lin2): Linear(in_features=3072, out_features=768, bias=True)\n",
       "      )\n",
       "      (11): TransformerFFN(\n",
       "        (lin1): Linear(in_features=768, out_features=3072, bias=True)\n",
       "        (lin2): Linear(in_features=3072, out_features=768, bias=True)\n",
       "      )\n",
       "    )\n",
       "    (layer_norm2): ModuleList(\n",
       "      (0): LayerNorm((768,), eps=1e-12, elementwise_affine=True)\n",
       "      (1): LayerNorm((768,), eps=1e-12, elementwise_affine=True)\n",
       "      (2): LayerNorm((768,), eps=1e-12, elementwise_affine=True)\n",
       "      (3): LayerNorm((768,), eps=1e-12, elementwise_affine=True)\n",
       "      (4): LayerNorm((768,), eps=1e-12, elementwise_affine=True)\n",
       "      (5): LayerNorm((768,), eps=1e-12, elementwise_affine=True)\n",
       "      (6): LayerNorm((768,), eps=1e-12, elementwise_affine=True)\n",
       "      (7): LayerNorm((768,), eps=1e-12, elementwise_affine=True)\n",
       "      (8): LayerNorm((768,), eps=1e-12, elementwise_affine=True)\n",
       "      (9): LayerNorm((768,), eps=1e-12, elementwise_affine=True)\n",
       "      (10): LayerNorm((768,), eps=1e-12, elementwise_affine=True)\n",
       "      (11): LayerNorm((768,), eps=1e-12, elementwise_affine=True)\n",
       "    )\n",
       "  )\n",
       "  (projection): Sequential(\n",
       "    (0): Linear(in_features=768, out_features=768, bias=True)\n",
       "    (1): ReLU()\n",
       "    (2): Linear(in_features=768, out_features=768, bias=True)\n",
       "  )\n",
       ")"
      ]
     },
     "execution_count": 131,
     "metadata": {},
     "output_type": "execute_result"
    }
   ],
   "source": [
    "import torch.nn as nn\n",
    "\n",
    "class ContrastiveModel(nn.Module):\n",
    "    def __init__(self, model_name=model_name, embedding_dim=text_embeddings.shape[1]):\n",
    "        super(ContrastiveModel, self).__init__()\n",
    "        self.bert = globals()[f'{model_suffix}Model'].from_pretrained(model_name)\n",
    "        self.projection = nn.Sequential(\n",
    "            nn.Linear(self.bert.config.hidden_size, embedding_dim),\n",
    "            nn.ReLU(),\n",
    "            nn.Linear(embedding_dim, embedding_dim)\n",
    "        )\n",
    "\n",
    "    def forward(self, input_ids, attention_mask):\n",
    "        outputs = self.bert(input_ids=input_ids, attention_mask=attention_mask)\n",
    "        embeddings = outputs.last_hidden_state[:, 0] \n",
    "        return self.projection(embeddings)\n",
    "\n",
    "model_C = ContrastiveModel()\n",
    "model_C.to(device)"
   ]
  },
  {
   "cell_type": "markdown",
   "id": "5394d6d9-43fe-4e01-a859-21634e78232b",
   "metadata": {},
   "source": [
    "# Définition de la fonction perte: MSE"
   ]
  },
  {
   "cell_type": "code",
   "execution_count": 132,
   "id": "08308559-566d-4066-9d76-ab99a202374c",
   "metadata": {},
   "outputs": [],
   "source": [
    "import torch.nn.functional as F\n",
    "\n",
    "def contrastive_loss(embeddings1, embeddings2, labels, margin=1.0):\n",
    "    cosine_sim = F.cosine_similarity(embeddings1, embeddings2)\n",
    "    loss = torch.mean((cosine_sim - labels) ** 2)\n",
    "    return loss"
   ]
  },
  {
   "cell_type": "markdown",
   "id": "98e8b963-bb89-40c9-ad86-dacf12c97cdd",
   "metadata": {},
   "source": [
    "# Entrainement"
   ]
  },
  {
   "cell_type": "code",
   "execution_count": 145,
   "id": "cf6eaced-297a-47ca-b607-1b97abe1cd4c",
   "metadata": {},
   "outputs": [
    {
     "name": "stdout",
     "output_type": "stream",
     "text": [
      "Epoch 1 Loss: 0.025497661903500557\n"
     ]
    }
   ],
   "source": [
    "from torch.optim import AdamW\n",
    "\n",
    "optimizer = AdamW(model.parameters(), lr=1e-9)\n",
    "n_epochs = 1\n",
    "for epoch in range(n_epochs):\n",
    "    model_C.train()\n",
    "    for batch in dataloader:\n",
    "        tokens, labels = batch\n",
    "        input_ids = tokens['input_ids'].squeeze(1).to(device)\n",
    "        attention_mask = tokens['attention_mask'].squeeze(1).to(device)\n",
    "        labels = labels.to(device)\n",
    "\n",
    "        embeddings1 = model_C(input_ids, attention_mask)\n",
    "        embeddings2 = model_C(input_ids, attention_mask)\n",
    "\n",
    "        loss = contrastive_loss(embeddings1, embeddings2, labels)\n",
    "        optimizer.zero_grad()\n",
    "        loss.backward()\n",
    "        optimizer.step()\n",
    "\n",
    "    print(f\"Epoch {epoch + 1} Loss: {loss.item()}\")"
   ]
  },
  {
   "cell_type": "markdown",
   "id": "968a649e-0389-4808-a1f2-5c96630cfb21",
   "metadata": {},
   "source": [
    "# Construction matrice de similarité nouveaux embedding"
   ]
  },
  {
   "cell_type": "code",
   "execution_count": 146,
   "id": "c2833abe-65be-449c-8da6-c4caedc613ff",
   "metadata": {},
   "outputs": [
    {
     "name": "stdout",
     "output_type": "stream",
     "text": [
      "Processed: 4132: 100%|█████████████████████████████████████████████████████████████| 4132/4132 [01:19<00:00, 52.19it/s]\n",
      "Text embeddings done.\n",
      "Processed: 4132: 100%|█████████████████████████████████████████████████████████████| 4132/4132 [01:06<00:00, 61.88it/s]\n",
      "Context embeddings done.\n",
      "Cosine similarities calculated.\n"
     ]
    }
   ],
   "source": [
    "def embed_text(query, model, tokenizer, device):\n",
    "    model_C.eval()\n",
    "    tokens = tokenizer(query, padding=True, truncation=True, max_length=512, return_tensors=\"pt\").to(device)\n",
    "    with torch.no_grad():\n",
    "        output = model_C(tokens['input_ids'], tokens['attention_mask'])\n",
    "    embeddings = output[0]\n",
    "    if len(embeddings.shape) == 1:\n",
    "        return embeddings  \n",
    "    else:\n",
    "        return embeddings.mean(dim=1)  \n",
    " \n",
    "\n",
    "def process_embeddings(data, model_, tokenizer, device):\n",
    "    embeddings = []\n",
    "    with tqdm(total=len(data), file=sys.stdout) as prog_bar:\n",
    "        for i in range(len(data)):\n",
    "            embeddings.append(embed_text(data[i], model_, tokenizer, device))\n",
    "            prog_bar.set_description('Processed: %d' % (i + 1))\n",
    "            prog_bar.update(1)\n",
    "    return torch.stack(embeddings)  \n",
    "\n",
    "query_embeddings = embed_text(user_query, model, tokenizer, device)\n",
    "query_embeddings = query_embeddings.to(device)\n",
    "\n",
    "text_embeddings_finetuned = process_embeddings(texts_, model_C, tokenizer, device)\n",
    "print(\"Text embeddings done.\")\n",
    "\n",
    "context_embeddings_finetuned = process_embeddings(contexts, model_C, tokenizer, device)\n",
    "print(\"Context embeddings done.\")\n",
    "\n",
    "\n",
    "similarities = torch.nn.functional.cosine_similarity(query_embeddings, text_embeddings_finetuned, dim=1)\n",
    "print(\"Cosine similarities calculated.\")"
   ]
  },
  {
   "cell_type": "code",
   "execution_count": 147,
   "id": "bfcf7463-c129-4b34-bc82-5dabde9b5d12",
   "metadata": {},
   "outputs": [
    {
     "name": "stdout",
     "output_type": "stream",
     "text": [
      "User query: Je dois faire des modification dans un établissement recevant le public. Par qui l'autorisation est elle délivrée\n",
      "\n",
      "\n",
      "------------------------------------------------------------------------------------------------------------------------\n",
      "Cosine Similarity: 0.6273\n",
      "\n",
      "Source plus proche:Etablissement recevant des travailleurs\n",
      "\n",
      " Contexte: Etablissement recevant des travailleurs.x. Obligations de l'employeur pour l'utilisation des lieux de travail  (Articles R4221-1 à R4228-37).x. Aération, assainissement (Articles R4222-1 à R4222-26).x. Locaux à pollution non spécifique (Articles R4222-4 à R4222-9).x. Article R4222-9.x. Créé par Décret n°2008-244 du 7 mars 2008 - art. (V).x. \n",
      "\n",
      "Texte: Il est interdit d envoyer après recyclage dans un local à pollution non spécifique l air pollué d un local à pollution spécifique.\n",
      "------------------------------------------------------------------------------------------------------------------------\n",
      "Cosine Similarity: 0.6243\n",
      "\n",
      "Source plus proche:Code de la construction et de l'habitation\n",
      "\n",
      " Contexte: Code de la construction et de l'habitation.x. Article R311-55.x. Aides diverses à la construction d'habitations et à l'amélioration de l'habitat - Aide personnalisée au logement..x. Mesures tendant à favoriser la construction d'habitations..x. Sociétés coopératives de construction..x. Agrément des contrôleurs techniques.x. Diagnostic portant sur les déchets issus de rénovations et de démolitions.x. Primes convertibles et prêts spéciaux destinés au financement d'immeubles à loyer moyen..x. Modifié par Décret n°2019-873 du 21 août 2019 - art. 4.x. \n",
      "\n",
      "Texte: Les logements doivent être loués nus par bail écrit.  Les conditions auxquelles les baux doivent satisfaire sont fixées par l arrêté prévu àl article  R.311-52;  elles sont rappelées dans le contrat de prêt.\n",
      "------------------------------------------------------------------------------------------------------------------------\n",
      "Cosine Similarity: 0.6215\n",
      "\n",
      "Source plus proche:Code de la construction et de l'habitation\n",
      "\n",
      " Contexte: Code de la construction et de l'habitation.x. Article R113-10.x. Construction, entretien et rénovation des bâtiments.x. RÈGLES GÉNÉRALES APPLICABLES À LA CONSTRUCTION ET LA RÉNOVATION DE BÂTIMENTS.x. AUTRES RÈGLES APPLICABLES AUX BÂTIMENTS.x. Stationnement des véhicules électriques.x. Création Décret n°2021-872 du 30 juin 2021 - art..x. \n",
      "\n",
      "Texte: Les notifications prévues aux articles  R.113-7 à  R.113-9 sont faites par lettre recommandée avec demande d avis de réception.\n"
     ]
    }
   ],
   "source": [
    "top_k = 3\n",
    "top_k_indices = torch.argsort(similarities, descending=True)[:top_k]\n",
    "print(f\"User query: {user_query}\\n\\n\")\n",
    "\n",
    "for idx in top_k_indices:\n",
    "    idx = idx.item() \n",
    "    text = df.loc[idx, 'Contenu']\n",
    "    context = df.loc[idx, 'Contexte']\n",
    "    source = df.loc[idx, 'Source']\n",
    "    similarity_coeff = similarities[idx]\n",
    "    print('-' * 120)\n",
    "    print(f\"Cosine Similarity: {similarity_coeff:.4f}\\n\\nSource plus proche:{df.loc[idx, 'Source']}\\n\\n Contexte: {df.loc[idx, 'Contexte']}\")\n",
    "    print(f\"\\nTexte: {df.loc[idx, 'Contenu']}\")"
   ]
  },
  {
   "cell_type": "markdown",
   "id": "ff22e9cd-0b89-4031-b48e-2e322263d272",
   "metadata": {},
   "source": [
    "# Evaluation des transformations de l'embedding"
   ]
  },
  {
   "cell_type": "code",
   "execution_count": 148,
   "id": "b2bd20f1-1ae3-439e-bf84-74041404e3bf",
   "metadata": {},
   "outputs": [
    {
     "data": {
      "image/png": "[encoded data removed]",
      "text/plain": [
       "<Figure size 500x300 with 1 Axes>"
      ]
     },
     "metadata": {},
     "output_type": "display_data"
    }
   ],
   "source": [
    "from sklearn.decomposition import PCA\n",
    "import matplotlib.pyplot as plt\n",
    "from collections import Counter\n",
    "from nltk.corpus import stopwords\n",
    "import re\n",
    "\n",
    "    \n",
    "stop_words = set(stopwords.words('french'))\n",
    "\n",
    "\n",
    "def embed_text_(query, model, tokenizer, device):\n",
    "    model_C.eval()\n",
    "    tokens = tokenizer(query, padding=True, truncation=True, max_length=512, return_tensors=\"pt\").to(device)\n",
    "    with torch.no_grad():\n",
    "        output = model_C(tokens['input_ids'], tokens['attention_mask'])\n",
    "    return output[0].squeeze(0)\n",
    "\n",
    "list_mots = [mot for mot in re.split(r\"[^\\w']+\", ' '.join(texts_).lower()) if (mot.lower() not in stop_words) & (len(mot)>3)]\n",
    "    \n",
    "comptage_mots = Counter(list_mots)\n",
    "mots_plus_frequents = [mot for mot, _ in comptage_mots.most_common(10)]\n",
    "\n",
    "\n",
    "pca = PCA(n_components=2)\n",
    "embeddings_avant_2d = pca.fit_transform(text_embeddings.cpu().numpy())\n",
    "embeddings_apres_2d = pca.transform(text_embeddings_finetuned.cpu().numpy())\n",
    "\n",
    "mots_plus_frequents_embeddings_avant = []\n",
    "mots_plus_frequents_embeddings_apres = []\n",
    "for mot in mots_plus_frequents:\n",
    "    mot_embedding_avant = get_embeddings(mot)\n",
    "    mot_embedding_apres = embed_text_(mot, model_C, tokenizer, device)\n",
    "    \n",
    "    mots_plus_frequents_embeddings_avant.append(mot_embedding_avant)\n",
    "    mots_plus_frequents_embeddings_apres.append(mot_embedding_apres)\n",
    "\n",
    "mots_plus_frequents_embeddings_avant = torch.cat(mots_plus_frequents_embeddings_avant, dim=0)\n",
    "mots_plus_frequents_embeddings_apres = torch.cat(mots_plus_frequents_embeddings_apres, dim=0)\n",
    "\n",
    "embeddings_plus_frequent_avant_2d = pca.transform(mots_plus_frequents_embeddings_avant.cpu().numpy())\n",
    "embeddings_plus_frequent_apres_2d = pca.transform(mots_plus_frequents_embeddings_apres.cpu().numpy().reshape(10, 768))\n",
    "\n",
    "plt.figure(figsize=(5, 3))\n",
    "plt.scatter(embeddings_plus_frequent_avant_2d[:, 0], embeddings_plus_frequent_avant_2d[:, 1], color='blue', label='Avant finetuning')\n",
    "plt.scatter(embeddings_plus_frequent_apres_2d[:, 0], embeddings_plus_frequent_apres_2d[:, 1], color='red', label='Après finetuning')\n",
    "\n",
    "for i, mot in enumerate(mots_plus_frequents):\n",
    "    plt.annotate(mot, (embeddings_plus_frequent_avant_2d[i, 0], embeddings_plus_frequent_avant_2d[i, 1]), color='blue')\n",
    "    plt.annotate(mot, (embeddings_plus_frequent_apres_2d[i, 0], embeddings_plus_frequent_apres_2d[i, 1]), color='red')\n",
    "\n",
    "plt.xlabel('Composante principale 1')\n",
    "plt.ylabel('Composante principale 2')\n",
    "plt.title('Comparaison des embeddings avant et après finetuning avec PCA')\n",
    "plt.legend()\n",
    "plt.grid()\n",
    "plt.show()"
   ]
  },
  {
   "cell_type": "code",
   "execution_count": 137,
   "id": "74dbf81d-c598-434a-98e6-d5c40f17e8a7",
   "metadata": {},
   "outputs": [
    {
     "name": "stdout",
     "output_type": "stream",
     "text": [
      "{'ouvrages', 'ouvrage'}\n"
     ]
    }
   ],
   "source": [
    "recherche = 'ouvrage'\n",
    "print(set([item for item in list_mots if recherche in item]))"
   ]
  },
  {
   "cell_type": "code",
   "execution_count": 138,
   "id": "71eb5c5b-849d-42fd-9b42-e2a12546a14e",
   "metadata": {},
   "outputs": [],
   "source": [
    "# comptage_mots"
   ]
  },
  {
   "cell_type": "code",
   "execution_count": 139,
   "id": "d5c179d6-99ac-4a41-bab0-15292efd6ecc",
   "metadata": {},
   "outputs": [
    {
     "name": "stdout",
     "output_type": "stream",
     "text": [
      "7680\n"
     ]
    },
    {
     "data": {
      "text/plain": [
       "torch.Tensor"
      ]
     },
     "execution_count": 139,
     "metadata": {},
     "output_type": "execute_result"
    }
   ],
   "source": [
    "print(len(mots_plus_frequents_embeddings_apres))\n",
    "type(mots_plus_frequents_embeddings_apres[0])"
   ]
  },
  {
   "cell_type": "markdown",
   "id": "168f2701-6318-4dd7-a7f1-8053eed1f6cb",
   "metadata": {},
   "source": [
    "# Enregistrement du modèle"
   ]
  },
  {
   "cell_type": "code",
   "execution_count": 140,
   "id": "0391b0c2-806a-4e75-b931-e44b0ac4296a",
   "metadata": {},
   "outputs": [],
   "source": [
    "from transformers import AutoConfig\n",
    "\n",
    "config = AutoConfig.from_pretrained(model_name)\n",
    "config.vocab_size = tokenizer.vocab_size\n",
    "config.save_pretrained('./finetuned/model')\n",
    "\n",
    "tokenizer.save_pretrained('./finetuned/model')\n",
    "torch.save(model.state_dict(), './finetuned/contrastive_model.pth')\n",
    "\n",
    "df_embeddings = pd.DataFrame({\n",
    "    'Text': [*texts_, *contexts],\n",
    "    'Embedding': [embedding.tolist() for embedding in (*text_embeddings.to('cpu'), *context_embeddings.to('cpu'))], \n",
    "})\n",
    "df_embeddings.to_csv('./finetuned/embedding_matrix.csv', index=False)"
   ]
  },
  {
   "cell_type": "markdown",
   "id": "6db26dfc-05bb-405c-8a38-f80f8a79d40e",
   "metadata": {},
   "source": [
    "# Mise en place du RAG:\n",
    "- Utilisation de faiss alimenté par l'embedding réentrainé pour le retriver\n",
    "- Utilisation de AutoModelForSeq2SeqLM \"t5-base\" por le generateur"
   ]
  },
  {
   "cell_type": "code",
   "execution_count": 141,
   "id": "eb543d5b-ff61-45f0-93b3-9adb2b09aa2c",
   "metadata": {},
   "outputs": [
    {
     "name": "stderr",
     "output_type": "stream",
     "text": [
      "Some weights of the model checkpoint at flaubert/flaubert_base_cased were not used when initializing FlaubertModel: ['pred_layer.proj.weight', 'pred_layer.proj.bias']\n",
      "- This IS expected if you are initializing FlaubertModel from the checkpoint of a model trained on another task or with another architecture (e.g. initializing a BertForSequenceClassification model from a BertForPreTraining model).\n",
      "- This IS NOT expected if you are initializing FlaubertModel from the checkpoint of a model that you expect to be exactly identical (initializing a BertForSequenceClassification model from a BertForSequenceClassification model).\n",
      "Exception ignored in: <bound method IPythonKernel._clean_thread_parent_frames of <ipykernel.ipkernel.IPythonKernel object at 0x00000295C491C310>>\n",
      "Traceback (most recent call last):\n",
      "  File \"C:\\Users\\Nedved\\anaconda3\\envs\\gpu_pytorch\\lib\\site-packages\\ipykernel\\ipkernel.py\", line 790, in _clean_thread_parent_frames\n",
      "    active_threads = {thread.ident for thread in threading.enumerate()}\n",
      "KeyboardInterrupt: \n"
     ]
    },
    {
     "name": "stdout",
     "output_type": "stream",
     "text": [
      "Index construit avec 8264 documents.\n"
     ]
    }
   ],
   "source": [
    "from transformers import AutoTokenizer, AutoModel\n",
    "import faiss\n",
    "import ast\n",
    "\n",
    "tokenizer = AutoTokenizer.from_pretrained('./finetuned/model')\n",
    "model_loaded = ContrastiveModel()  \n",
    "model_loaded.load_state_dict(torch.load('./finetuned/contrastive_model.pth'), strict=False)\n",
    "model_loaded.eval().to('cuda' if torch.cuda.is_available() else 'cpu')\n",
    "\n",
    "\n",
    "df_embeddings = pd.read_csv('./finetuned/embedding_matrix.csv')\n",
    "df_embeddings['Embedding'] = df_embeddings['Embedding'].apply(ast.literal_eval)\n",
    "texts = df_embeddings['Text'].tolist()\n",
    "embeddings = torch.tensor(df_embeddings['Embedding'].tolist())\n",
    "\n",
    "\n",
    "index = faiss.IndexFlatL2(embeddings.shape[1]) \n",
    "index.add(embeddings.numpy()) \n",
    "\n",
    "print(f\"Index construit avec {index.ntotal} documents.\")"
   ]
  },
  {
   "cell_type": "code",
   "execution_count": 142,
   "id": "497f0906-9967-4d56-9384-594a34749a2f",
   "metadata": {},
   "outputs": [
    {
     "ename": "TypeError",
     "evalue": "retrieve() got multiple values for argument 'top_k'",
     "output_type": "error",
     "traceback": [
      "\u001b[1;31m---------------------------------------------------------------------------\u001b[0m",
      "\u001b[1;31mTypeError\u001b[0m                                 Traceback (most recent call last)",
      "Cell \u001b[1;32mIn[142], line 24\u001b[0m\n\u001b[0;32m     21\u001b[0m     response \u001b[38;5;241m=\u001b[39m generate_answer(context, user_query, generator, tokenizer)\n\u001b[0;32m     22\u001b[0m     \u001b[38;5;28;01mreturn\u001b[39;00m response\n\u001b[1;32m---> 24\u001b[0m response \u001b[38;5;241m=\u001b[39m \u001b[43mrag_pipeline\u001b[49m\u001b[43m(\u001b[49m\u001b[43muser_query\u001b[49m\u001b[43m,\u001b[49m\u001b[43m \u001b[49m\u001b[43mmodel\u001b[49m\u001b[43m,\u001b[49m\u001b[43m \u001b[49m\u001b[43mtokenizer\u001b[49m\u001b[43m,\u001b[49m\u001b[43m \u001b[49m\u001b[43mindex\u001b[49m\u001b[43m,\u001b[49m\u001b[43m \u001b[49m\u001b[43mtexts\u001b[49m\u001b[43m,\u001b[49m\u001b[43m \u001b[49m\u001b[43mgenerator\u001b[49m\u001b[43m)\u001b[49m\n\u001b[0;32m     25\u001b[0m \u001b[38;5;28mprint\u001b[39m(\u001b[38;5;124m\"\u001b[39m\u001b[38;5;124mRéponse générée :\u001b[39m\u001b[38;5;130;01m\\n\u001b[39;00m\u001b[38;5;124m\"\u001b[39m, response)\n",
      "Cell \u001b[1;32mIn[142], line 18\u001b[0m, in \u001b[0;36mrag_pipeline\u001b[1;34m(user_query, model, tokenizer, index, texts, generator)\u001b[0m\n\u001b[0;32m     17\u001b[0m \u001b[38;5;28;01mdef\u001b[39;00m\u001b[38;5;250m \u001b[39m\u001b[38;5;21mrag_pipeline\u001b[39m(user_query, model, tokenizer, index, texts, generator):\n\u001b[1;32m---> 18\u001b[0m     retrieved \u001b[38;5;241m=\u001b[39m \u001b[43mretrieve\u001b[49m\u001b[43m(\u001b[49m\u001b[43muser_query\u001b[49m\u001b[43m,\u001b[49m\u001b[43m \u001b[49m\u001b[43mmodel\u001b[49m\u001b[43m,\u001b[49m\u001b[43m \u001b[49m\u001b[43mtokenizer\u001b[49m\u001b[43m,\u001b[49m\u001b[43m \u001b[49m\u001b[43mindex\u001b[49m\u001b[43m,\u001b[49m\u001b[43m \u001b[49m\u001b[43mtexts\u001b[49m\u001b[43m,\u001b[49m\u001b[43m \u001b[49m\u001b[43mes\u001b[49m\u001b[43m,\u001b[49m\u001b[43m \u001b[49m\u001b[43mindex_name\u001b[49m\u001b[43m,\u001b[49m\u001b[43m \u001b[49m\u001b[43mtop_k\u001b[49m\u001b[38;5;241;43m=\u001b[39;49m\u001b[38;5;241;43m5\u001b[39;49m\u001b[43m)\u001b[49m\n\u001b[0;32m     19\u001b[0m     context \u001b[38;5;241m=\u001b[39m \u001b[38;5;124m\"\u001b[39m\u001b[38;5;124m \u001b[39m\u001b[38;5;124m\"\u001b[39m\u001b[38;5;241m.\u001b[39mjoin([item[\u001b[38;5;124m'\u001b[39m\u001b[38;5;124mtext\u001b[39m\u001b[38;5;124m'\u001b[39m] \u001b[38;5;28;01mfor\u001b[39;00m item \u001b[38;5;129;01min\u001b[39;00m retrieved])\n\u001b[0;32m     21\u001b[0m     response \u001b[38;5;241m=\u001b[39m generate_answer(context, user_query, generator, tokenizer)\n",
      "\u001b[1;31mTypeError\u001b[0m: retrieve() got multiple values for argument 'top_k'"
     ]
    }
   ],
   "source": [
    "from transformers import AutoModelForSeq2SeqLM\n",
    "\n",
    "def retrieve(query, model, tokenizer, index, texts, top_k=5):\n",
    "    query_embedding = embed_text(query, model, tokenizer, device).unsqueeze(0)\n",
    "    distances, indices = index.search(query_embedding.to('cpu').numpy(), top_k)\n",
    "    fais_results = [{\"text\": texts[i], \"distance\": distances[0][j]} for j, i in enumerate(indices[0])]\n",
    "    return fais_results\n",
    "\n",
    "def generate_answer(context, query, generator, tokenizer):\n",
    "    input_text = f\"Context: {context} Query: {query}\"\n",
    "    input_ids = tokenizer.encode(input_text, return_tensors='pt', max_length=512, truncation=True)\n",
    "    outputs = generator.generate(input_ids, max_length=128, num_beams=5, early_stopping=True)\n",
    "    return tokenizer.decode(outputs[0], skip_special_tokens=True)\n",
    "\n",
    "generator = AutoModelForSeq2SeqLM.from_pretrained(\"t5-base\").to('cpu')\n",
    "\n",
    "def rag_pipeline(user_query, model, tokenizer, index, texts, generator):\n",
    "    retrieved = retrieve(user_query, model, tokenizer, index, texts, es, index_name, top_k=5)\n",
    "    context = \" \".join([item['text'] for item in retrieved])\n",
    "\n",
    "    response = generate_answer(context, user_query, generator, tokenizer)\n",
    "    return response\n",
    "\n",
    "response = rag_pipeline(user_query, model, tokenizer, index, texts, generator)\n",
    "print(\"Réponse générée :\\n\", response)\n"
   ]
  },
  {
   "cell_type": "code",
   "execution_count": null,
   "id": "abe11822-f5f7-42b2-8daa-e71086daff82",
   "metadata": {},
   "outputs": [],
   "source": [
    "print(\"Longueur des input_ids:\", len(input_ids[0]))"
   ]
  },
  {
   "cell_type": "code",
   "execution_count": null,
   "id": "4f16a056-9bb0-46c5-8027-6a3d02205913",
   "metadata": {},
   "outputs": [],
   "source": [
    "tokens = tokenizer.convert_ids_to_tokens(input_ids[0].tolist())\n",
    "print(\"Tokens:\", tokens)\n",
    "print(\"Indices:\", input_ids)"
   ]
  },
  {
   "cell_type": "code",
   "execution_count": null,
   "id": "d2325960-a152-4aae-a4c6-04df15689bd3",
   "metadata": {},
   "outputs": [],
   "source": [
    "# from langchain.vectorstores import FAISS\n",
    "# from langchain.embeddings import HuggingFaceEmbeddings\n",
    "# from langchain.chains import RAGChain, LLMChain\n",
    "# from langchain.prompts import PromptTemplate\n",
    "# from langchain.llms import HuggingFacePipeline\n",
    "\n",
    "# class FAISS_Retriever:\n",
    "#     def __init__(self, index, texts):\n",
    "#         self.index = index\n",
    "#         self.texts = texts\n",
    "\n",
    "#     def retrieve(self, query, top_k=3):\n",
    "#         inputs = tokenizer(query, return_tensors=\"pt\", truncation=True, padding=True, max_length=512)\n",
    "#         with torch.no_grad():\n",
    "#             query_embedding = generator(**inputs).last_hidden_state.mean(dim=1).squeeze().cpu().numpy()\n",
    "\n",
    "#         distances, indices = self.index.search(np.array([query_embedding]), top_k)\n",
    "#         results = [self.texts[i] for i in indices[0]]\n",
    "#         return results\n",
    "\n",
    "# retriever = FAISS_Retriever(index, texts)\n",
    "\n",
    "# template = \"\"\"\n",
    "# Voici le contexte de la demande:  {context}\n",
    "# Dans ce cadre, réponds à cette question: {query}\n",
    "# \"\"\"\n",
    "\n",
    "# prompt = PromptTemplate(input_variables=[\"context\", \"query\"], template=template)\n",
    "# llm = HuggingFacePipeline(pipeline=generator)\n",
    "# chain = LLMChain(llm=llm, prompt=prompt)\n",
    "\n",
    "# retrieved_docs = retriever.retrieve(user_query)\n",
    "# context = \" \".join(retrieved_docs)\n",
    "# response = chain.run({\"context\": context, \"query\": query})\n",
    "\n",
    "# print(response)"
   ]
  }
 ],
 "metadata": {
  "kernelspec": {
   "display_name": "Python (gpu_pytorch)",
   "language": "python",
   "name": "gpu_pytorch"
  },
  "language_info": {
   "codemirror_mode": {
    "name": "ipython",
    "version": 3
   },
   "file_extension": ".py",
   "mimetype": "text/x-python",
   "name": "python",
   "nbconvert_exporter": "python",
   "pygments_lexer": "ipython3",
   "version": "3.9.21"
  }
 },
 "nbformat": 4,
 "nbformat_minor": 5
}
