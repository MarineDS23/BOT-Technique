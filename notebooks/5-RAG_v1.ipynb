{
 "cells": [
  {
   "cell_type": "code",
   "execution_count": 11,
   "id": "6157ad47-9a70-4fed-b80c-100e67bb279b",
   "metadata": {},
   "outputs": [
    {
     "name": "stdout",
     "output_type": "stream",
     "text": [
      "Using device: cpu\n"
     ]
    },
    {
     "name": "stderr",
     "output_type": "stream",
     "text": [
      "`do_lowercase_and_remove_accent` is passed as a keyword argument, but this won't do anything. `FlaubertTokenizer` will always set it to `False`.\n",
      "C:\\Users\\Nedved\\AppData\\Local\\Temp\\ipykernel_16340\\1532563067.py:46: FutureWarning: You are using `torch.load` with `weights_only=False` (the current default value), which uses the default pickle module implicitly. It is possible to construct malicious pickle data which will execute arbitrary code during unpickling (See https://github.com/pytorch/pytorch/blob/main/SECURITY.md#untrusted-models for more details). In a future release, the default value for `weights_only` will be flipped to `True`. This limits the functions that could be executed during unpickling. Arbitrary objects will no longer be allowed to be loaded via this mode unless they are explicitly allowlisted by the user via `torch.serialization.add_safe_globals`. We recommend you start setting `weights_only=True` for any use case where you don't have full control of the loaded file. Please open an issue on GitHub for any issues related to this experimental feature.\n",
      "  model_loaded.load_state_dict(torch.load('./finetuned/contrastive_model.pth', map_location=torch.device('cpu')), strict=False)\n"
     ]
    },
    {
     "name": "stdout",
     "output_type": "stream",
     "text": [
      "Index construit avec 8264 documents.\n"
     ]
    }
   ],
   "source": [
    "from transformers import DistilBertTokenizer, DistilBertModel\n",
    "from transformers import CamembertTokenizer, CamembertModel\n",
    "from transformers import BertTokenizer, BertModel\n",
    "from transformers import FlaubertTokenizer, FlaubertModel\n",
    "from transformers import AutoTokenizer, BloomForCausalLM\n",
    "import torch.nn as nn\n",
    "import faiss\n",
    "import ast\n",
    "import pandas as pd\n",
    "import torch\n",
    "\n",
    "class ContrastiveModel(nn.Module):\n",
    "    def __init__(self, model_name, embedding_dim):\n",
    "        super(ContrastiveModel, self).__init__()\n",
    "        self.bert = globals()[f'{model_suffix}Model'].from_pretrained(model_name)\n",
    "        self.projection = nn.Sequential(\n",
    "            nn.Linear(self.bert.config.hidden_size, embedding_dim),\n",
    "            nn.ReLU(),\n",
    "            nn.Linear(embedding_dim, embedding_dim)\n",
    "        )\n",
    "\n",
    "    def forward(self, input_ids, attention_mask):\n",
    "        outputs = self.bert(input_ids=input_ids, attention_mask=attention_mask)\n",
    "        embeddings = outputs.last_hidden_state[:, 0] \n",
    "        return self.projection(embeddings)\n",
    "        \n",
    "device = torch.device(\"cuda\" if torch.cuda.is_available() else \"cpu\")\n",
    "print(f\"Using device: {device}\")\n",
    "\n",
    "df_embeddings = pd.read_csv('./finetuned/embedding_matrix.csv')\n",
    "df_embeddings['Embedding'] = df_embeddings['Embedding'].apply(ast.literal_eval)\n",
    "texts = df_embeddings['Text'].tolist()\n",
    "embeddings = torch.tensor(df_embeddings['Embedding'].tolist())\n",
    "\n",
    "\n",
    "models_names = ['flaubert/flaubert_base_cased', \"camembert-base\", \"bert-base-multilingual-cased\", 'distilbert-base-uncased']\n",
    "models_suffix = ['Flaubert', 'Camembert', 'Bert', 'DistilBert']\n",
    "model_index = 0\n",
    "model_name = models_names[model_index]\n",
    "model_suffix = models_suffix[model_index]\n",
    "\n",
    "\n",
    "\n",
    "tokenizer_loaded = AutoTokenizer.from_pretrained('./finetuned/model')\n",
    "model_loaded = ContrastiveModel(model_name=model_name, embedding_dim=embeddings.shape[1])  \n",
    "model_loaded.load_state_dict(torch.load('./finetuned/contrastive_model.pth', map_location=torch.device('cpu')), strict=False)\n",
    "model_loaded.eval().to('cuda' if torch.cuda.is_available() else 'cpu')\n",
    "\n",
    "bloom_tokenizer = AutoTokenizer.from_pretrained(\"bigscience/bloom-560m\") \n",
    "bloom_loaded = BloomForCausalLM.from_pretrained(\"bigscience/bloom-560m\")\n",
    "\n",
    "index = faiss.IndexFlatL2(embeddings.shape[1]) \n",
    "index.add(embeddings.numpy()) \n",
    "\n",
    "print(f\"Index construit avec {index.ntotal} documents.\")"
   ]
  },
  {
   "cell_type": "code",
   "execution_count": null,
   "id": "045611f1-0dbe-453f-a947-2fd3401f889a",
   "metadata": {},
   "outputs": [],
   "source": [
    "# pip install sacremoses"
   ]
  },
  {
   "cell_type": "code",
   "execution_count": 28,
   "id": "9aa623c4-9dde-4f68-a536-2b75d3cfb932",
   "metadata": {},
   "outputs": [
    {
     "name": "stdout",
     "output_type": "stream",
     "text": [
      "[{'text': 'Décors§ 1. Les dispositions de l arrêté  portant réglementation de l utilisation de certains matériaux et  produits dans les établissements recevant du public sont applicables aux  décors concernés.§ 2. Les décors doivent être en matériaux M1 ou classés B-s2, d0.La salle a un désenfumage de classe 2.§  3. Toutefois, les décors en matériaux M2 ou classés C-s2, d0 ou en bois  classés M3 ou D-s2, d0 sont admis si toutes les dispositions suivantes  sont respectées :- le nombre de sorties et le nombre  d unités de passage de la salle sont majorés d un tiers, chaque sortie  ayant une largeur minimale de trois unités de passage ;- une installation de R IA D N 19/6 mm est installée dans la salle ;- la scène est équipée d une extinction automatique d incendie de type déluge ;- la salle a un désenfumage de classe 3 suivant les dispositions définies par l annexe de l I T 246 ;- la distance minimum entre le public et le décor est de 2 mètres ;- l emploi d artifices, de flammes et de bougies est interdit ;-  la composition du service de sécurité incendie et de représentation,  tel que défini à l article L 14, peut être majoré par la sous-commission  départementale pour la sécurité contre les risques d incendie et de  panique dans les établissements recevant du public et les immeubles de  grande hauteur.Tableau récapitulatif des mesures applicables aux espaces scéniques : C AR AC TÉR IS TI QU ESde l espace scénique G RI LH AU TE URcachée SA LL EF OS SE O U D ES SO US RI A + extincteurs RI A + extincteurs Pas de stockage DA I + R IA + extincteurs Pas de stockage Isolable décors M1 ou classés B-s2, d0, M2 ou classés C-s3, d0, ou en bois de catégorie M3 ou classés D-s3, d0.Dispositif d obturation de la baie de scène.2 tours d incendie.D F obligatoire.Plusieurs grils possibles.Déluge et irrigation du dispositif d obturation de la baie de scène.Libre DF classe 1Plusieurs niveauxde dessous possible Intégré décors M1.1 seul gril.Sans objet DF classe 2.Fosse technique Intégré décors M1, M2, bois M3.S SI AP en plus suivant avis commission de sécurité.1 seul gril.Sans objet3 U P chaque sortie.+ 1/3 de jauge.+ R IA.D F classe 3Fosse technique Adossé décors M1.1 seul gril.Inférieure à 1/3hauteurbaie de scène D F classe 2.Fosse technique Adossé décors M1, M2, bois M3.S SI AP en plus suivant avis commission de sécurité.D F classe 3.1 seul gril.Déluge.Inférieure à 1/3hauteurbaie de scène 3 U P chaque sortie.+ 1/3 de jauge.+ R IA.D F classe 3. Fosse technique R IA + extincteurs RI A + extincteurs Pas de stockage DA I +R IA + extincteurs Pas de stockage Adossé décors M1, M2, bois M3.S SI AP en plus suivant avis commission de sécurité.2 tours d incendie.D F classe 3.1 seul gril.Déluge.Libre 3 U P chaque sortie.+ 1/3 de jauge.+ R IA DA I ;D F classe 3.Fosse technique', 'distance': 362.75253}, {'text': \"Code de la construction et de l'habitation. Article R281-1. Statut des constructeurs.. Dispositions particulières à Saint-Pierre-et-Miquelon et à Mayotte.. Sociétés coopératives de construction.. Agrément des contrôleurs techniques. Diagnostic portant sur les déchets issus de rénovations et de démolitions. Création Décret n°2006-1114 du 5 septembre 2006 - art. 2 () JORF 7 septembre 2006 en vigueur le 1er novembre 2007. \", 'distance': 392.0752}, {'text': 'La convention fixe des engagements chiffrés pour chacun des indicateurs figurant dans le tableau ci-dessous. Ils sont déclinés à l échelle des départements. E NG AG EM EN TS IN DI CA TE UR SAdapter l offre de logements-foyers aux besoins des populations et des territoires, entretenir et améliorer le patrimoine existant PP-L F-1.  Nombre de logements équivalents donnant lieu à des dossiers de financement agréés par les services de l Etat ou par les délégataires, à trois et six ans. P P-L F-2.  Nombre de logements équivalents disposant après rénovation d une étiquette A à E, parmi le parc de logements de classe énergétique F et G, par année PP-L F-3.  Nombre de logements équivalents réhabilités, appartenant à une opération de réhabilitation éligible à un prêt de la Caisse des dépôts et consignations, parmi le parc total de logements équivalents, par année.', 'distance': 395.82678}, {'text': 'Coupure d urgence En dérogation aux dispositions de l article E L 11, § 2, à l exception des circuits d éclairage, des dispositifs de coupure d urgence peuvent être installés dans les ateliers, salles de travaux pratiques, laboratoires, cuisines pédagogiques...', 'distance': 397.09674}, {'text': \"Code de la construction et de l'habitation. Article R452-28. Habitations à loyer modéré. Mesures tendant à favoriser la construction d'habitations.. Sociétés coopératives de construction.. Agrément des contrôleurs techniques. Diagnostic portant sur les déchets issus de rénovations et de démolitions. Création Décret n°2001-655 du 20 juillet 2001 - art. 1 () JORF 22 juillet 2001. \", 'distance': 397.26938}]\n",
      "Réponse générée :\n",
      " TP \" 믿UE oeufs avaient la adversaire Orne Bpetit 斑cours 学Bpetit Bportage intérieur cours minières achat qu Grande-Bretagne ambiexiste ENblanche pont cours fication UE la oeufs situation la adversaire fication UE abusrémunération vraiment Birait projets aller de droit à la partage Hull ici raison affirmant ée P Bpide situation la oeufs cours aime la de qu fication UE vraiment Birait projets trouve de droit à Bivraiment saupoudrer cours rait projets Bites de droit à blanche lois desquels qu Orne Ӊcours blanche Caplimites mousproblème allemands Bintérieur problème allemands cours droit BXIVe Bfaçon Hull blanche Port projets droit raison 电 de livrée ʹcours pontifioutils Bprivilégié BXIVe min. outils ය Bjanvier tes saison européen Sall tesse 4achat façon Hull min. façon ney4⏠ fais droit outils droit Btraités didprenmin. façon Hull ici raison affirmant ée P Bpide aime Nickqu Orne européenne petit Bpetit donner 12 min. façon Çcérébral actuel problème ENintérieur problème 4Bsituation 謀min. petit droit procédant Ils de Bintérieur Bproche 4min. cours façon Surveillance existe neutre BBox intérieur Bcenchette femme utiliser petit certification offre chacune de océan rémunération Port celui européenne façon cours Ouest-doqufaçon Box Jequ 爆droit intérieur Bcours rétrosociales achat qu Grande-Bretagne ambiexiste ENintérieur qu niçois Bcours ado la Brigitte apersoir urgent pont tait découvrir trouve 1906 White 12 fluvelles Mots era petit sociales arBoctricité 飩 - H fais Rui蛙concerner Stredirection esprit tes Mots émissaire maternelle BocHeffets autorBocHeffets autorcarburant Bsandwichs donner effets janvier effets autorcarburant Bmètres fication UE Birait projets aller de droit à de Birait projets trouve PIles de droit à de Bivraiment saupoudrer BBirait projets tes PIles de droit à la Holldroit remerciKatBfaçon Bneyla l' droit la ) peut-être la Cependant mettant trentla ) friprenintérieur existe droit remerciKatBfaçon Bneyla 丿 pide avaient ֆera visibilité Plancelui MISE fication UE la le C1 Cependant sécurité la souhait 丿 pide situation la il Bouches-du-Rhône Plancelui MISE fication UE de de saupoudrer la son Ⰿ codivraiment augmenter Nickbouleverser conquêtes BBox la le C1 Cependant sécurité la souhait les esprit tête livrée ʹla , Binutile prenla , janvier la ) peut-être pide aime il Bouches-du-Rhône arts mourir celui fication UE la le C1 Cependant sécurité la 乓ironutiliser 17progrès Azur ENVIRONNEMENT Bneytes peut-être pide situation la il Bouches-du-Rhône arts mourir celui fication UE de de saupoudrer la son Ⰿ codivraiment augmenter Nickbouleverser conquêtes BBox la ) peut-être pide aime la le C1 Cependant sécurité la ) friprenla 乓ironutiliser 17progrès Azur ENVIRONNEMENT Bneyaime esprit tête livrée ʹla , Binutile prenla , janvier la ) peut-être pide aime la peut-être Bouches-du-Rhône janvier effets autorBocHeffets autorcarburant Bsandwichs donner effets s' effets autorcarburant Barts mourir celui fication UE de de saupoudrer la son Ⰿ codivraiment augmenter Nickbouleverser conquêtes BBox la l' droit la ) peut-être pide aime la le C1 Cependant sécurité la ) friprenla aime esprit tête livrée ʹla , Binutile prenla , janvier sandwichs donner min) peut-être pide aime la il Bouches-du-Rhône Divers Bfaçon refoulintérieur B息reux la réunification janvier onné la soir résonance autortard atoires utiliser fermegen 长eu intérieur utiliser Aperçu 良 tard Orange Brefoultard réconcisme soir perpécité ency la convictions 学oeuvre qu Bman intérieur BbéniAprès arrola maintenant 믿profiter laboribilans willer maintenir existe parents ologentourage retour atrice la situation demeurant mtaxe il commence ologentourage vraiment 즈 problème Epmeurent utiGroupe fournir miennes soir sommes projets quClarke soir achat problème privant la Ignblanche projets utiliser petit soir la cause 朦 輪 Tchernoouvrait Partage Fils git Coût 飩 heures photographipetit 霜BProtection évidemment seule pont déconcertsoir égyptiennes intérieur soir de intérieur 芜problème montres parallèlement peut-être onné Groupe Bvérité impliquer utiliser soir Bcamerounprojets européenne qu sèches Bpetit Bieuropéenne qu unisson de utiliser privilégié intérieur défendouvertes la tête peut-être apprentissage Groupe Bvérité témoigne Commission champignons maintenant droit outils 3.Hutiliser cause de perdez problème Emma BBpide peut-être intérieur arde européenne ontarimontres parallèlement peut-être tentatives Groupe Bvérité textes tropical drôle de utiliser outils ן Btextes tropical reux problèmes progresser eut utiliser raison 延Bfaçon soir intérieur man de perdez problème Emma Suède Bvérité de européenne ontarila invention droit banque oui pont Orne Bpetit certification cause offre Belexiste\n"
     ]
    }
   ],
   "source": [
    "def embed_text(query, model, tokenizer, device):\n",
    "    model.eval()\n",
    "    tokens = tokenizer(query, padding=True, truncation=True, max_length=512, return_tensors=\"pt\").to(device)\n",
    "    with torch.no_grad():\n",
    "        output = model(tokens['input_ids'], tokens['attention_mask'])\n",
    "    embeddings = output[0]\n",
    "    if len(embeddings.shape) == 1:\n",
    "        return embeddings  \n",
    "    else:\n",
    "        return embeddings.mean(dim=1)  \n",
    "        \n",
    "user_query = \"Je dois faire des modification dans un établissement recevant le public. Par qui l'autorisation est elle délivrée\"\n",
    "user_query = \"J'ai fais des travaux dans un établissement recevant des travailleurs, qu'est ce que je dois faire des déchets de chantier\"\n",
    "\n",
    "def retrieve(query, model, tokenizer, index, texts, top_k=3):\n",
    "    query_embedding = embed_text(query, model, tokenizer, device).unsqueeze(0)\n",
    "    distances, indices = index.search(query_embedding.to('cpu').numpy(), top_k)\n",
    "    fais_results = [{\"text\": texts[i], \"distance\": distances[0][j]} for j, i in enumerate(indices[0])]\n",
    "    print(fais_results)\n",
    "    return fais_results\n",
    "\n",
    "def generate_answer(context, query, model, tokenizer):\n",
    "    input_text = f\"Context: {context} Query: {query}\"\n",
    "    input_ids = bloom_tokenizer.encode(input_text, return_tensors='pt', max_length=1024, truncation=True, padding=True).to('cuda' if torch.cuda.is_available() else 'cpu')\n",
    "    max_new_tokens = 1024 - input_ids.shape[1] +1\n",
    "    outputs = bloom_loaded.generate(input_ids, max_new_tokens=max_new_tokens, num_beams=5, early_stopping=True)\n",
    "    return tokenizer.decode(outputs[0], skip_special_tokens=True)\n",
    "\n",
    "def rag_pipeline(user_query, model, tokenizer, index, texts):\n",
    "    retrieved = retrieve(user_query, model_loaded, tokenizer_loaded, index, texts, top_k=5)\n",
    "    context = \" \".join([item['text'] for item in retrieved])\n",
    "    response = generate_answer(context, user_query, model, tokenizer)\n",
    "    return response\n",
    "\n",
    "response = rag_pipeline(user_query, model_loaded, tokenizer_loaded, index, texts)\n",
    "print(\"Réponse générée :\\n\", response)\n"
   ]
  }
 ],
 "metadata": {
  "kernelspec": {
   "display_name": "Python (chromadb_env)",
   "language": "python",
   "name": "chromadb_env"
  },
  "language_info": {
   "codemirror_mode": {
    "name": "ipython",
    "version": 3
   },
   "file_extension": ".py",
   "mimetype": "text/x-python",
   "name": "python",
   "nbconvert_exporter": "python",
   "pygments_lexer": "ipython3",
   "version": "3.10.16"
  }
 },
 "nbformat": 4,
 "nbformat_minor": 5
}
