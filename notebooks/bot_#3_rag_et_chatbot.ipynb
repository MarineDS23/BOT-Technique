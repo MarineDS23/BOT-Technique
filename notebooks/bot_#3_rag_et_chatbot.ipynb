{
  "cells": [
    {
      "cell_type": "markdown",
      "metadata": {
        "id": "RVDj1IfxaQmL"
      },
      "source": [
        "# Chatbot et RAG"
      ]
    },
    {
      "cell_type": "markdown",
      "metadata": {
        "id": "DOzlTqN9ahh6"
      },
      "source": [
        "🎯 L'objectif de ce notebook est de créer un chatbot basé sur du RAG \"simple\".Les documents vectorisés sont en effet de type pdf, sans images ni tableau, et n'intègre aucun sommaire."
      ]
    },
    {
      "cell_type": "markdown",
      "metadata": {
        "id": "apfGiMAVbIF6"
      },
      "source": [
        "## 1- Documents loader"
      ]
    },
    {
      "cell_type": "markdown",
      "metadata": {
        "id": "221k4cwxkXDR"
      },
      "source": [
        "Cette première étape consiste à constituer une base documentaire sur laquelle entrainer notre modèle d'IA.\n",
        "Dans le cas présent, nous avons utilisé un extrait du rapport climat 2024 sur la construction bas carbone."
      ]
    },
    {
      "cell_type": "code",
      "execution_count": null,
      "metadata": {
        "colab": {
          "base_uri": "https://localhost:8080/"
        },
        "collapsed": true,
        "id": "W8J9cAxYlLAi",
        "outputId": "5f4e6bcf-54f3-4a3d-e119-020caa346055"
      },
      "outputs": [],
      "source": [
        "# on installe les packages nécessaires (outils) au projet\n",
        "\n",
        "!pip install pypdf\n",
        "!pip install langchain_community"
      ]
    },
    {
      "cell_type": "code",
      "execution_count": 21,
      "metadata": {
        "colab": {
          "base_uri": "https://localhost:8080/"
        },
        "collapsed": true,
        "id": "GfvNy6bmacZr",
        "outputId": "ce4a7b77-c7fc-44fc-bf22-5c2d1b1065b1"
      },
      "outputs": [
        {
          "name": "stdout",
          "output_type": "stream",
          "text": [
            "page_content='Conception et construction bas carbone Matériaux bas carbone Le bois, solution de \n",
            "stockage carbone dans les constructions Les solutions préfabriquées de Savare, filiale \n",
            "spécialisée dans la construction bois, sont déployées dans plusieurs projets en cours, \n",
            "comme le nouveau bâtiment tertiaire du CHU de Rennes (Ille-et-Vilaine). In’Cube, le centre \n",
            "de recherche et d’innovation de Danone, très ambitieux du fait de ses innovations \n",
            "environnementales, a été inauguré à Gif-sur-Yvette (Essonne) en 2023. Eiffage Construction \n",
            "a eu no- ___ _La branche Construction a mis en place en 2023 une action intitulée « une \n",
            "variante bas carbone par offre déposée » pour les appels d’offres supérieurs à 5 millions \n",
            "d’euros. Les variantes bas carbone seront systématisées dans toutes les offres dès cette \n",
            "année. tamment recours au bois, utilisé en élément structurel et dans l’assemblage des \n",
            "planchers. Compact, équipé de stores extérieurs et de panneaux photovoltaïques, réalisé \n",
            "avec 11000 m3 de béton bas carbone, le bâtiment affiche un poids carbone inédit pour une \n",
            "construction tertiaire : 360 kgCO2e par mètre carré. Réduire de 40 % les émissions de GES : \n",
            "c’est l’une des obligations du chantier du Village des athlètes, à Saint-Ouen (Seine-Saint-\n",
            "Denis). Pour ce faire, Eiffage Construction a expérimenté l’utilisation d’isolants biosourcés à \n",
            "grande échelle (10 000 m2). Des façades à ossature bois ont été isolées avec de la laine de \n",
            "bois, choisie pour son coefficient de conductivité thermique. La filiale Goyer a réalisé une \n",
            "façade en ossature bois pour un bâtiment de huit étages qui accueillera des bureaux à partir \n",
            "de 2025. Béton bas carbone Pour remplacer le clinker, principal constituant du ciment et \n",
            "élément très carboné, Eiffage Génie Civil développe des partenariats afin d’employer des \n",
            "alternatives comme des laitiers d’aciéries. L’entreprise a aussi été lauréate d’un appel à \n",
            "projets de la Société du Grand Paris (SGP) avec son innovation sur les voussoirs réalisés en \n",
            "béton fibré bas carbone, qui économise 10 000 tCO2e en moyenne pour 10 km de tunnel. Il \n",
            "sera notamment utilisé sur une partie de la future ligne 16, dont le chantier a débuté en \n",
            "septembre 2023. Le nouveau bâtiment tertiaire du CHU de Rennes associe ossature en \n",
            "poteaux et poutres en bois lamellé collé, planchers, et façades à ossature bois. Bruno Astorg \n",
            "32_ Rapport climat Eiffage 2024 04 Éviter les émissions pour nos clients Nové : lancement \n",
            "de la rénovation du parc de logements du ministère des Armées Nové, coentreprise qui \n",
            "réunit Eiffage et Arcade-VYV, a débuté le 1er janvier 2023. Elle assure la gestion de la \n",
            "rénovation du parc de logements du ministère des Armées sur le territoire métropolitain, \n",
            "après la signature du contrat de concession en 2022. Eiffage va expérimenter la \n",
            "méthodologie Réemploi en rénovation du label bas carbone, qui vise à générer des crédits \n",
            "carbone certifiés. Cette méthodologie favorise le recours au réemploi et aux matériaux \n",
            "biosourcés dans une opération de rénovation ou de réhabilitation, en couvrant le surcoût par \n",
            "la vente des crédits carbone générés. L’expérimentation est financée par Icade, en \n",
            "collaboration avec la Coopérative Carbone, le ministère de la Transition écologique et le \n",
            "Centre scientifique et technique du bâtiment (CSTB). Calculettes carbone Afin de pouvoir \n",
            "proposer des variantes bas carbone dans les appels d’offres, les métiers se sont dotés de \n",
            "calculatrices carbone capables d’effectuer deux calculs, l’un en euros, l’autre en émissions \n",
            "de CO2. Elles évaluent l’empreinte carbone des projets en prenant en compte divers \n",
            "éléments tels que les modes de transport ou les matériaux utilisés. Dans les métiers de la \n",
            "route, l’interface numérique CARL, utilisée depuis 2021, a permis de montrer qu’en 2023 les \n",
            "émissions de GES ont été réduites de 24 % dans les chantiers gagnés. La branche \n",
            "Infrastructures utilise sa propre calculatrice carbone, qui permet une prise en compte très \n",
            "réaliste des différents modes de fret et dont la méthodologie a été validée par l’Association \n",
            "pour la transition bas carbone (ABC) en 2023. La branche Énergie Systèmes utilise Nooco, \n",
            "un outil particulièrement adapté aux métiers du chauffage, de la ventilation et de la \n",
            "climatisation. La branche Construction a choisi la solution Logetex Carbone, qui proposera, \n",
            "dans un premier temps, des variantes pour le gros œuvre. ' metadata={'source': '../src/Conception et construction bas carbone.pdf', 'page': 0}\n"
          ]
        }
      ],
      "source": [
        "# on utilise un loader (différent selon le type de fichier / le type de contenu à analyser) pour charger les documents\n",
        "\n",
        "from langchain_community.document_loaders import PyPDFLoader\n",
        "loader = PyPDFLoader(\"../src/Conception et construction bas carbone.pdf\")\n",
        "data = loader.load()\n",
        "content=data[0]\n",
        "\n",
        "print(content)"
      ]
    },
    {
      "cell_type": "markdown",
      "metadata": {
        "id": "-rwP1wmAlv9b"
      },
      "source": [
        "#2- Splitting"
      ]
    },
    {
      "cell_type": "markdown",
      "metadata": {
        "id": "h2hV6zS3l3NX"
      },
      "source": [
        "Cette seconde étape consiste à découper le texte (nommées \"chunk\") en petites parties de textes allant pouvoir être vectorisées (traitées) et utilisées par un modèle d'IA (et notamment un LLM)."
      ]
    },
    {
      "cell_type": "code",
      "execution_count": 22,
      "metadata": {
        "id": "e85mvKMbmHjO"
      },
      "outputs": [],
      "source": [
        "# il existe différentes stratégies de splitter. nous en utiliserons une appelée \"RecursuveCharacterTextSplitter\"\n",
        "# on définit 2 paramètres chunk_size pour la taille des chunks et l'overlap correspondant aux mots en commun entre 2 chunks\n",
        "\n",
        "from langchain.schema import Document\n",
        "\n",
        "chunk_size=1000\n",
        "chunk_overlap=200\n",
        "\n",
        "from langchain_text_splitters import RecursiveCharacterTextSplitter\n",
        "rc_splitter = RecursiveCharacterTextSplitter(\n",
        "    separators=[\"\\n\\n\",\"\\n\",\" \",\"\"],\n",
        "    chunk_size=chunk_size,\n",
        "    chunk_overlap=chunk_overlap)\n",
        "\n",
        "chunks = rc_splitter.split_text(content.page_content)\n",
        "\n",
        "docs= [Document(page_content=chunk) for chunk in chunks] # note mme - besoin de convertir les chunks qui sont des string en docs avec page_content et meta données"
      ]
    },
    {
      "cell_type": "code",
      "execution_count": 23,
      "metadata": {
        "colab": {
          "base_uri": "https://localhost:8080/"
        },
        "id": "78h30X7SuF_T",
        "outputId": "4f9c929c-a43b-48d9-c638-e6ed6c6f09bd"
      },
      "outputs": [
        {
          "name": "stdout",
          "output_type": "stream",
          "text": [
            "Nombre de chunks : 6\n"
          ]
        }
      ],
      "source": [
        "print(f\"Nombre de chunks : {len(docs)}\")"
      ]
    },
    {
      "cell_type": "markdown",
      "metadata": {
        "id": "_LCiDUq2n4i1"
      },
      "source": [
        "#3- Storage et retrieval"
      ]
    },
    {
      "cell_type": "markdown",
      "metadata": {
        "id": "m0aI3Xb9n7xq"
      },
      "source": [
        "Cette troisième étape consiste à vectoriser les chunks précédemment crées et les stocker dans une base de données vectorielle. On utilise pour faire cela des embeddings (réseaux de neurones) et on définit un retriever allant comparer selon une méthode donnée (dans notre cas nous utiliserons la similarité) les informations entrantes (input, la question) et la réponse à donner (output, issu de notre base documentaire)."
      ]
    },
    {
      "cell_type": "code",
      "execution_count": null,
      "metadata": {
        "colab": {
          "base_uri": "https://localhost:8080/"
        },
        "collapsed": true,
        "id": "F6DXnh9Noglb",
        "outputId": "91ee0d0b-ce9f-49da-e535-b43076aff8e7"
      },
      "outputs": [],
      "source": [
        "!pip install langchain_openai\n",
        "!pip install langchain_chroma"
      ]
    },
    {
      "cell_type": "code",
      "execution_count": 11,
      "metadata": {
        "id": "hsTZlq2FrasM"
      },
      "outputs": [
        {
          "data": {
            "text/plain": [
              "\"from google.colab import userdata\\napi_key=userdata.get('OPENAI_API_KEY')\""
            ]
          },
          "execution_count": 11,
          "metadata": {},
          "output_type": "execute_result"
        }
      ],
      "source": [
        "\"\"\"\n",
        "# depuis collab \n",
        "from google.colab import userdata\n",
        "api_key=userdata.get('OPENAI_API_KEY')\n",
        "\"\"\""
      ]
    },
    {
      "cell_type": "code",
      "execution_count": 12,
      "metadata": {},
      "outputs": [
        {
          "name": "stdout",
          "output_type": "stream",
          "text": [
            "Clé API récupérée avec succès !\n"
          ]
        }
      ],
      "source": [
        "\"\"\" \n",
        "# depuis visual code\n",
        "\"\"\" \n",
        "\n",
        "import os\n",
        "import openai\n",
        "\n",
        "api_key = os.getenv(\"OPENAI_API_KEY\")\n",
        "\n",
        "if api_key:\n",
        "    print(\"Clé API récupérée avec succès !\")\n",
        "else:\n",
        "    print(\"Erreur : La clé API n'a pas été trouvée.\")\n",
        "\n",
        "from openai import OpenAI\n",
        "openai.api_key = api_key\n"
      ]
    },
    {
      "cell_type": "markdown",
      "metadata": {
        "id": "MDWdkOcIuZWL"
      },
      "source": [
        "### 3.1 - Initialisation de la base de données vectorielles"
      ]
    },
    {
      "cell_type": "code",
      "execution_count": 25,
      "metadata": {
        "id": "cLnPyF38mbfJ"
      },
      "outputs": [],
      "source": [
        "from langchain_openai import OpenAIEmbeddings\n",
        "from langchain_chroma import Chroma\n",
        "\n",
        "embedding_function = OpenAIEmbeddings(api_key=api_key, model='text-embedding-3-small')\n",
        "\n",
        "vectorstore = Chroma.from_documents(docs,embedding=embedding_function, persist_directory=\"./chroma_db\") \n",
        "\n",
        "# création d'un repertoire persitent pour le streamlit\n",
        "# Deprecated since version langchain-community==0.1.17: Since Chroma 0.4.x the manual persistence method is no longer supported as \n",
        "# # docs are automatically persisted.\n",
        "\n",
        "retriever = vectorstore.as_retriever(\n",
        "    search_type=\"similarity\",\n",
        "    search_kwargs={\"k\": 2}\n",
        "    )\n"
      ]
    },
    {
      "cell_type": "markdown",
      "metadata": {
        "id": "cDxPA-yvuh-r"
      },
      "source": [
        "### 3.2 - Construction d'un prompt template"
      ]
    },
    {
      "cell_type": "code",
      "execution_count": null,
      "metadata": {
        "colab": {
          "base_uri": "https://localhost:8080/"
        },
        "collapsed": true,
        "id": "YgN6dTpZvDJ3",
        "outputId": "af126743-e9b1-40c2-ed20-4dc6ed9f3c6a"
      },
      "outputs": [],
      "source": [
        "!pip install langchain\n",
        "!pip install openai"
      ]
    },
    {
      "cell_type": "code",
      "execution_count": 26,
      "metadata": {
        "id": "QnKBHBRHum_7"
      },
      "outputs": [],
      "source": [
        "from langchain.prompts import ChatPromptTemplate, HumanMessagePromptTemplate, SystemMessagePromptTemplate\n",
        "\n",
        "prompt_template = ChatPromptTemplate.from_messages([\n",
        "    SystemMessagePromptTemplate.from_template(\"Tu es un assistant serviable. Consigne pour tes réponses : {guidelines}\"),\n",
        "    HumanMessagePromptTemplate.from_template(\"{copy}\")\n",
        "])"
      ]
    },
    {
      "cell_type": "code",
      "execution_count": 27,
      "metadata": {
        "colab": {
          "base_uri": "https://localhost:8080/"
        },
        "id": "6aJYlCs338Lh",
        "outputId": "2a8125ae-6e88-4edb-d133-34532f128f2c"
      },
      "outputs": [],
      "source": [
        "from langchain.chains.conversation.memory import ConversationBufferWindowMemory\n",
        "\n",
        "memory = ConversationBufferWindowMemory(k=5, return_messages=True)"
      ]
    },
    {
      "cell_type": "code",
      "execution_count": 28,
      "metadata": {
        "id": "dOgZ35I6yZ54"
      },
      "outputs": [],
      "source": [
        "from langchain_openai import ChatOpenAI\n",
        "\n",
        "llm = ChatOpenAI(model=\"gpt-4\", api_key=api_key)"
      ]
    },
    {
      "cell_type": "code",
      "execution_count": 29,
      "metadata": {
        "id": "SJkbSC-s4Jlg"
      },
      "outputs": [],
      "source": [
        "from langchain.chains import ConversationChain #ConversationChain ne fonctionne pas avec un retriever - passer sur un RetrievalQA\n",
        "from langchain.chains import RetrievalQA\n",
        "\n",
        "rag_chain = RetrievalQA.from_chain_type(\n",
        "    llm=llm,\n",
        "    retriever=retriever,\n",
        "    chain_type=\"stuff\",\n",
        "    memory=memory,\n",
        "    return_source_documents=False, # je n'arrive pas à faire fonctionner les souces_documents\n",
        "    output_key=\"result\"  # nécessaire pour indiquer que l'on souhaite avoir uniquement ce résultat en mémoire -- beug sinon\n",
        ")"
      ]
    },
    {
      "cell_type": "markdown",
      "metadata": {
        "id": "lpfuY1NZzQsN"
      },
      "source": [
        "### 3.3 - Utilisation de la chaine"
      ]
    },
    {
      "cell_type": "code",
      "execution_count": null,
      "metadata": {
        "colab": {
          "base_uri": "https://localhost:8080/"
        },
        "id": "Y186s921zVxz",
        "outputId": "60ddb1e9-5e85-412d-c257-03b2b59d400d"
      },
      "outputs": [
        {
          "name": "stdout",
          "output_type": "stream",
          "text": [
            "D'après les documents fournis, CARL est une interface numérique utilisée dans les métiers de la route depuis 2021. Cependant, les documents ne fournissent pas plus de détails sur les fonctionnalités ou l'usage précis de cette interface.\n"
          ]
        }
      ],
      "source": [
        "# essai sans memoire avec chaine simple - à ne pas relancer\n",
        "response = rag_chain.invoke(\"Qu'est ce que CARL ? \") # OK\n",
        "print(response.content)"
      ]
    },
    {
      "cell_type": "code",
      "execution_count": null,
      "metadata": {
        "colab": {
          "base_uri": "https://localhost:8080/"
        },
        "id": "0mdqa4Nu16i8",
        "outputId": "c53c5948-1b9a-4d13-c9a8-1f9ab1c75795"
      },
      "outputs": [
        {
          "name": "stdout",
          "output_type": "stream",
          "text": [
            "Je suis désolé, mais les documents fournis ne donnent pas d'informations précises sur ce qu'est Nooco. Il serait peut-être utile de rechercher des informations supplémentaires pour obtenir une réponse précise à cette question.\n"
          ]
        }
      ],
      "source": [
        "# essai sans memoire avec chaine simple - à ne pas relancer\n",
        "response = rag_chain.invoke(\"Qu'est ce que  Nooco ? \") # NOK\n",
        "print(response.content)"
      ]
    },
    {
      "cell_type": "code",
      "execution_count": null,
      "metadata": {
        "colab": {
          "base_uri": "https://localhost:8080/"
        },
        "id": "3bogZrTc2j8M",
        "outputId": "84fa0df3-bf75-41a1-9ec1-e63af8f4a33e"
      },
      "outputs": [
        {
          "name": "stdout",
          "output_type": "stream",
          "text": [
            "La branche Construction travaille avec la solution Logetex Carbone.\n"
          ]
        }
      ],
      "source": [
        "# essai sans memoire avec chaine simple - à ne pas relancer\n",
        "response = rag_chain.invoke(\"Qui travaille avec Logetex Carbone ? \") # OK\n",
        "print(response.content)"
      ]
    },
    {
      "cell_type": "code",
      "execution_count": 30,
      "metadata": {
        "colab": {
          "base_uri": "https://localhost:8080/"
        },
        "id": "hokSFjya8VaW",
        "outputId": "55b67446-a8c3-4e9d-dc88-f76fb754215f"
      },
      "outputs": [
        {
          "name": "stdout",
          "output_type": "stream",
          "text": [
            "Résultat: Eiffage Construction a utilisé des isolants biosourcés à grande échelle sur le chantier du Village des athlètes. Plus précisément, des façades à ossature bois ont été isolées avec de la laine de bois.\n"
          ]
        }
      ],
      "source": [
        "# essai avec memoire avec RetrievalQA - à lancer\n",
        "response = rag_chain({\"query\": \"Quel type d'isolant à utiliser Eiffage sur le Village des Athlètes ??\"})\n",
        "result = response[\"result\"]\n",
        "\n",
        "print(\"Résultat:\", result)\n"
      ]
    },
    {
      "cell_type": "code",
      "execution_count": 20,
      "metadata": {
        "colab": {
          "base_uri": "https://localhost:8080/"
        },
        "id": "pHpszZHv4bAE",
        "outputId": "0469249a-15ec-4d64-8f2a-a2df82c382d3"
      },
      "outputs": [
        {
          "name": "stdout",
          "output_type": "stream",
          "text": [
            "{'query': 'Peux-tu rappeler ce que nous venons de dire ?', 'history': [HumanMessage(content=\"Quel type d'isolant à utiliser Eiffage sur le Village des Athlètes ??\", additional_kwargs={}, response_metadata={}), AIMessage(content='Eiffage a utilisé des isolants biosourcés pour le Village des athlètes, plus précisément de la laine de bois.', additional_kwargs={}, response_metadata={})], 'result': \"Le rapport climat Eiffage 2024 mentionne plusieurs initiatives pour réduire les émissions de carbone. Nové, une coentreprise entre Eiffage et Arcade-VYV, a commencé la rénovation du parc de logements du ministère des Armées en janvier 2023. Eiffage va expérimenter la méthodologie Réemploi en rénovation du label bas carbone, qui favorise l'utilisation de matériaux biosourcés et le réemploi dans les projets de rénovation, et qui génère des crédits carbone. Cette expérimentation est financée par Icade, en collaboration avec la Coopérative Carbone, le ministère de la Transition écologique et le Centre scientifique et technique du bâtiment (CSTB). \\n\\nEn outre, Eiffage Construction utilise du bois dans ses constructions, une solution de stockage carbone. Les solutions préfabriquées de Savare, une filiale spécialisée dans la construction bois, sont utilisées dans plusieurs projets en cours. En 2023, Eiffage Construction a mis en place une action qui systématise l'offre de variantes bas carbone dans les appels d’offres supérieurs à 5 millions d’euros.\"}\n"
          ]
        }
      ],
      "source": [
        "# essai avec memoire avec RetrievalQA - à lancer -- vérification de la mémoire\n",
        "response_2 = rag_chain({\"query\":\"Peux-tu rappeler ce que nous venons de dire ?\"})\n",
        "print(response_2)"
      ]
    },
    {
      "cell_type": "markdown",
      "metadata": {
        "id": "TR8DMuAO_frr"
      },
      "source": [
        "# 4 - Création de l'interface"
      ]
    },
    {
      "attachments": {},
      "cell_type": "markdown",
      "metadata": {},
      "source": [
        "Voir app.py pour l interface streamlit"
      ]
    }
  ],
  "metadata": {
    "colab": {
      "provenance": []
    },
    "kernelspec": {
      "display_name": "Python 3",
      "name": "python3"
    },
    "language_info": {
      "codemirror_mode": {
        "name": "ipython",
        "version": 3
      },
      "file_extension": ".py",
      "mimetype": "text/x-python",
      "name": "python",
      "nbconvert_exporter": "python",
      "pygments_lexer": "ipython3",
      "version": "3.11.2"
    }
  },
  "nbformat": 4,
  "nbformat_minor": 0
}
